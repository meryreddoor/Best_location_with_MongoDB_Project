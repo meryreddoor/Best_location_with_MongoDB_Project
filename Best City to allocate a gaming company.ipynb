{
 "cells": [
  {
   "cell_type": "markdown",
   "metadata": {},
   "source": [
    "# BEST CITY TO ALLOCATE A GAMING COMPANY"
   ]
  },
  {
   "cell_type": "markdown",
   "metadata": {},
   "source": [
    "## Libraries"
   ]
  },
  {
   "cell_type": "code",
   "execution_count": 6,
   "metadata": {},
   "outputs": [],
   "source": [
    "import pandas as pd\n",
    "import numpy as np\n",
    "import requests\n",
    "import math\n",
    "import os\n",
    "from dotenv import load_dotenv\n",
    "\n",
    "from pymongo import MongoClient\n",
    "\n",
    "import geopandas as gpd\n",
    "from geopy.distance import distance\n",
    "from geopy.distance import geodesic \n",
    "from shapely.geometry import Point\n",
    "from geopy.distance import great_circle\n",
    "from descartes import PolygonPatch\n",
    "\n",
    "import matplotlib.pyplot as plt\n",
    "%matplotlib inline\n",
    "\n",
    "from cartoframes.viz import Map, Layer\n",
    "from cartoframes.viz.helpers import size_continuous_layer\n",
    "from cartoframes.viz.widgets import histogram_widget\n",
    "\n",
    "import folium\n",
    "from folium import plugins\n",
    "from folium import Choropleth, Circle, Marker\n",
    "from folium.plugins import HeatMap, MarkerCluster"
   ]
  },
  {
   "cell_type": "markdown",
   "metadata": {},
   "source": [
    "## MongoDB - Companies Data"
   ]
  },
  {
   "cell_type": "code",
   "execution_count": 7,
   "metadata": {},
   "outputs": [],
   "source": [
    "#Importing companies.json from mongodb.\n",
    "client = MongoClient(\"mongodb://localhost/companies\")\n",
    "db = client.get_database()"
   ]
  },
  {
   "cell_type": "markdown",
   "metadata": {},
   "source": [
    "Importing companies data from MongoDB.\n",
    "\n",
    "Filtering by gaming/video companies and the employees > 10 prs."
   ]
  },
  {
   "cell_type": "code",
   "execution_count": 8,
   "metadata": {},
   "outputs": [],
   "source": [
    "query={\"$and\":[{\"category_code\":{\"$eq\":\"games_video\"}},{\"number_of_employees\":{\"$gte\":10}}]}\n",
    "list_companies=list(db['companies'].find((query),{\"category_code\":1,'number_of_employees':1,'name':1,\"total_money_raised\":1,\"offices\":1,'_id':0}).sort(\"number_of_employees\",-1))"
   ]
  },
  {
   "cell_type": "code",
   "execution_count": 9,
   "metadata": {},
   "outputs": [],
   "source": [
    "#Converting the info into 'pandas'\n",
    "df = pd.DataFrame(list_companies)"
   ]
  },
  {
   "cell_type": "code",
   "execution_count": 10,
   "metadata": {},
   "outputs": [],
   "source": [
    "#Removing duplicates.\n",
    "df = df.drop_duplicates(subset='name', keep='first')"
   ]
  },
  {
   "cell_type": "code",
   "execution_count": 11,
   "metadata": {},
   "outputs": [],
   "source": [
    "#Removing the NAN values from offices column.\n",
    "df.dropna(subset=['offices'], inplace=True)"
   ]
  },
  {
   "cell_type": "code",
   "execution_count": 12,
   "metadata": {},
   "outputs": [],
   "source": [
    "#Removing the lists from offices column \n",
    "df = df.explode('offices')"
   ]
  },
  {
   "cell_type": "code",
   "execution_count": 13,
   "metadata": {},
   "outputs": [
    {
     "data": {
      "text/html": [
       "<div>\n",
       "<style scoped>\n",
       "    .dataframe tbody tr th:only-of-type {\n",
       "        vertical-align: middle;\n",
       "    }\n",
       "\n",
       "    .dataframe tbody tr th {\n",
       "        vertical-align: top;\n",
       "    }\n",
       "\n",
       "    .dataframe thead th {\n",
       "        text-align: right;\n",
       "    }\n",
       "</style>\n",
       "<table border=\"1\" class=\"dataframe\">\n",
       "  <thead>\n",
       "    <tr style=\"text-align: right;\">\n",
       "      <th></th>\n",
       "      <th>name</th>\n",
       "      <th>category_code</th>\n",
       "      <th>number_of_employees</th>\n",
       "      <th>total_money_raised</th>\n",
       "      <th>offices</th>\n",
       "      <th>description</th>\n",
       "      <th>address1</th>\n",
       "      <th>address2</th>\n",
       "      <th>zip_code</th>\n",
       "      <th>city</th>\n",
       "      <th>state_code</th>\n",
       "      <th>country_code</th>\n",
       "      <th>latitude</th>\n",
       "      <th>longitude</th>\n",
       "    </tr>\n",
       "  </thead>\n",
       "  <tbody>\n",
       "    <tr>\n",
       "      <th>0</th>\n",
       "      <td>Comcast</td>\n",
       "      <td>games_video</td>\n",
       "      <td>100000</td>\n",
       "      <td>$725M</td>\n",
       "      <td>{'description': 'One Comcast Center', 'address...</td>\n",
       "      <td>One Comcast Center</td>\n",
       "      <td>1701 JFK Blvd</td>\n",
       "      <td></td>\n",
       "      <td>19103</td>\n",
       "      <td>Philadelphia</td>\n",
       "      <td>PA</td>\n",
       "      <td>USA</td>\n",
       "      <td>39.952576</td>\n",
       "      <td>-75.165252</td>\n",
       "    </tr>\n",
       "    <tr>\n",
       "      <th>1</th>\n",
       "      <td>The Walt Disney Company</td>\n",
       "      <td>games_video</td>\n",
       "      <td>25000</td>\n",
       "      <td>$0</td>\n",
       "      <td>{'description': None, 'address1': '500 S. Buen...</td>\n",
       "      <td>None</td>\n",
       "      <td>500 S. Buena Vista St.</td>\n",
       "      <td></td>\n",
       "      <td>91521</td>\n",
       "      <td>Burbank</td>\n",
       "      <td>CA</td>\n",
       "      <td>USA</td>\n",
       "      <td>34.156802</td>\n",
       "      <td>-118.324987</td>\n",
       "    </tr>\n",
       "    <tr>\n",
       "      <th>2</th>\n",
       "      <td>Nintendo</td>\n",
       "      <td>games_video</td>\n",
       "      <td>5080</td>\n",
       "      <td>$0</td>\n",
       "      <td>{'description': None, 'address1': None, 'addre...</td>\n",
       "      <td>None</td>\n",
       "      <td>None</td>\n",
       "      <td>None</td>\n",
       "      <td>None</td>\n",
       "      <td>None</td>\n",
       "      <td>None</td>\n",
       "      <td>JPN</td>\n",
       "      <td>36.204824</td>\n",
       "      <td>138.252924</td>\n",
       "    </tr>\n",
       "    <tr>\n",
       "      <th>3</th>\n",
       "      <td>DeNA</td>\n",
       "      <td>games_video</td>\n",
       "      <td>2192</td>\n",
       "      <td>¥2.21B</td>\n",
       "      <td>{'description': 'Headquarters', 'address1': 'S...</td>\n",
       "      <td>Headquarters</td>\n",
       "      <td>Shibuya Hikarie, 2-21-1</td>\n",
       "      <td>Shibuya, Shibuya-ku</td>\n",
       "      <td>150-8510</td>\n",
       "      <td>Tokyo</td>\n",
       "      <td>None</td>\n",
       "      <td>JPN</td>\n",
       "      <td>NaN</td>\n",
       "      <td>NaN</td>\n",
       "    </tr>\n",
       "    <tr>\n",
       "      <th>5</th>\n",
       "      <td>Netflix</td>\n",
       "      <td>games_video</td>\n",
       "      <td>2000</td>\n",
       "      <td>$230M</td>\n",
       "      <td>{'description': None, 'address1': '100 Winches...</td>\n",
       "      <td>None</td>\n",
       "      <td>100 Winchester Circle</td>\n",
       "      <td></td>\n",
       "      <td>95032</td>\n",
       "      <td>Los Gatos</td>\n",
       "      <td>CA</td>\n",
       "      <td>USA</td>\n",
       "      <td>37.251420</td>\n",
       "      <td>-121.968687</td>\n",
       "    </tr>\n",
       "  </tbody>\n",
       "</table>\n",
       "</div>"
      ],
      "text/plain": [
       "                      name category_code  number_of_employees  \\\n",
       "0                  Comcast   games_video               100000   \n",
       "1  The Walt Disney Company   games_video                25000   \n",
       "2                 Nintendo   games_video                 5080   \n",
       "3                     DeNA   games_video                 2192   \n",
       "5                  Netflix   games_video                 2000   \n",
       "\n",
       "  total_money_raised                                            offices  \\\n",
       "0              $725M  {'description': 'One Comcast Center', 'address...   \n",
       "1                 $0  {'description': None, 'address1': '500 S. Buen...   \n",
       "2                 $0  {'description': None, 'address1': None, 'addre...   \n",
       "3             ¥2.21B  {'description': 'Headquarters', 'address1': 'S...   \n",
       "5              $230M  {'description': None, 'address1': '100 Winches...   \n",
       "\n",
       "          description                 address1             address2  zip_code  \\\n",
       "0  One Comcast Center            1701 JFK Blvd                          19103   \n",
       "1                None   500 S. Buena Vista St.                          91521   \n",
       "2                None                     None                 None      None   \n",
       "3        Headquarters  Shibuya Hikarie, 2-21-1  Shibuya, Shibuya-ku  150-8510   \n",
       "5                None    100 Winchester Circle                          95032   \n",
       "\n",
       "           city state_code country_code   latitude   longitude  \n",
       "0  Philadelphia         PA          USA  39.952576  -75.165252  \n",
       "1       Burbank         CA          USA  34.156802 -118.324987  \n",
       "2          None       None          JPN  36.204824  138.252924  \n",
       "3         Tokyo       None          JPN        NaN         NaN  \n",
       "5     Los Gatos         CA          USA  37.251420 -121.968687  "
      ]
     },
     "execution_count": 13,
     "metadata": {},
     "output_type": "execute_result"
    }
   ],
   "source": [
    "#Expand information from offices column.\n",
    "exapand_office_column = df[[\"offices\"]].apply(lambda r: r.offices, result_type=\"expand\", axis=1)\n",
    "data_expanded = pd.concat([df,exapand_office_column], axis=1)\n",
    "data_expanded.head()"
   ]
  },
  {
   "cell_type": "code",
   "execution_count": 14,
   "metadata": {},
   "outputs": [],
   "source": [
    "#Removing old column with lists.\n",
    "df_companies = data_expanded.drop(columns=[\"offices\"])"
   ]
  },
  {
   "cell_type": "code",
   "execution_count": 15,
   "metadata": {},
   "outputs": [],
   "source": [
    "#Removing the NAN long and latt columns.\n",
    "df_companies.dropna(subset=['latitude'], inplace=True)\n",
    "df_companies.dropna(subset=['longitude'], inplace=True)"
   ]
  },
  {
   "cell_type": "markdown",
   "metadata": {},
   "source": [
    "## TOP 5 CITIES WITH MORE GAMING COMPANIES"
   ]
  },
  {
   "cell_type": "code",
   "execution_count": 17,
   "metadata": {},
   "outputs": [
    {
     "data": {
      "image/png": "[encoded data removed]",
      "text/plain": [
       "<Figure size 2160x720 with 1 Axes>"
      ]
     },
     "metadata": {
      "needs_background": "light"
     },
     "output_type": "display_data"
    }
   ],
   "source": [
    "#TOP5 cities with more companies with 'category code' = 'video_games'\n",
    "\n",
    "graph_df=df_companies[['city','name']]\n",
    "graphic= graph_df.groupby('city').count().sort_values('name',ascending = False).head()\n",
    "\n",
    "graphic.plot.bar(figsize=(30,10));\n",
    "plt.legend([\"Total amount company/city\"])\n",
    "plt.title(\"TOP 5 - Number of gaming companies by city\")\n",
    "plt.xlabel(\"Cities\")\n",
    "plt.ylabel(\"Number of companies\");"
   ]
  },
  {
   "cell_type": "markdown",
   "metadata": {},
   "source": [
    "# Comparing Km for Companies & Airports"
   ]
  },
  {
   "cell_type": "markdown",
   "metadata": {},
   "source": [
    "### SAN FRANCISCO"
   ]
  },
  {
   "cell_type": "markdown",
   "metadata": {},
   "source": [
    "1- COMPANIES"
   ]
  },
  {
   "cell_type": "code",
   "execution_count": 18,
   "metadata": {},
   "outputs": [
    {
     "data": {
      "text/plain": [
       "{'type': 'Point', 'coordinates': [-122.40438, 37.66873]}"
      ]
     },
     "execution_count": 18,
     "metadata": {},
     "output_type": "execute_result"
    }
   ],
   "source": [
    "def geocode(address):\n",
    "    data = requests.get(f\"https://geocode.xyz/{address}?json=1\").json()\n",
    "    return {\n",
    "        \"type\":\"Point\",\n",
    "        \"coordinates\":[float(data[\"longt\"]),float(data[\"latt\"])]\n",
    "    }\n",
    "sf = geocode(\"San Francisco, CA, USA\")\n",
    "sf"
   ]
  },
  {
   "cell_type": "code",
   "execution_count": 19,
   "metadata": {},
   "outputs": [],
   "source": [
    "def withGeoQuery(location,maxDistance=15000,minDistance=0,field=\"location\"):\n",
    "    return {\n",
    "       field: {\n",
    "         \"$near\": {\n",
    "           \"$geometry\": location if type(location)==dict else geocode(location),\n",
    "           \"$maxDistance\": maxDistance,\n",
    "           \"$minDistance\": minDistance\n",
    "         }\n",
    "       }\n",
    "    }\n",
    "query = withGeoQuery(sf)"
   ]
  },
  {
   "cell_type": "code",
   "execution_count": 21,
   "metadata": {},
   "outputs": [
    {
     "name": "stdout",
     "output_type": "stream",
     "text": [
      "18\n"
     ]
    }
   ],
   "source": [
    "#There are 18 gaming companies - 15 Km.\n",
    "comp = list(db[\"cleancompanies\"].find(query))\n",
    "print(len(comp))"
   ]
  },
  {
   "cell_type": "markdown",
   "metadata": {},
   "source": [
    "2- AIRPORT"
   ]
  },
  {
   "cell_type": "code",
   "execution_count": 59,
   "metadata": {},
   "outputs": [
    {
     "name": "stderr",
     "output_type": "stream",
     "text": [
      "Python-dotenv could not parse statement starting at line 2\n"
     ]
    },
    {
     "name": "stdout",
     "output_type": "stream",
     "text": [
      "Lat. =  37.6213129\n",
      "Long =  -122.3789554\n"
     ]
    }
   ],
   "source": [
    "load_dotenv()\n",
    "token = os.getenv(\"TOKEN_GOOGLE\")\n",
    "address='San Francisco Airport'\n",
    "data = requests.get(f\"https://maps.googleapis.com/maps/api/geocode/json?address={address}&key={token}\").json()\n",
    "lat_sf_airport=(data['results'][0]['geometry']['location']['lat'])\n",
    "long_sf_airport=(data['results'][0]['geometry']['location']['lng'])\n",
    "print('Lat. = ',lat_sf_airport)\n",
    "print('Long = ',long_sf_airport)"
   ]
  },
  {
   "cell_type": "code",
   "execution_count": 72,
   "metadata": {},
   "outputs": [
    {
     "name": "stdout",
     "output_type": "stream",
     "text": [
      "Km from San Francisco to SF Airport = 5.728065177954947 km\n"
     ]
    }
   ],
   "source": [
    "#KM between airport & city\n",
    "\n",
    "sf = (37.66873,-122.40438) \n",
    "airport_sf = (37.6213129,-122.3789554) \n",
    "print('Km from San Francisco to SF Airport =', great_circle(sf, airport_sf).km,'km')"
   ]
  },
  {
   "cell_type": "markdown",
   "metadata": {},
   "source": [
    "### NEW YORK"
   ]
  },
  {
   "cell_type": "markdown",
   "metadata": {},
   "source": [
    "1- COMPANIES "
   ]
  },
  {
   "cell_type": "code",
   "execution_count": 24,
   "metadata": {},
   "outputs": [
    {
     "data": {
      "text/plain": [
       "{'type': 'Point', 'coordinates': [-73.9586, 40.68908]}"
      ]
     },
     "execution_count": 24,
     "metadata": {},
     "output_type": "execute_result"
    }
   ],
   "source": [
    "def geocode(address):\n",
    "    data = requests.get(f\"https://geocode.xyz/{address}?json=1\").json()\n",
    "    return {\n",
    "        \"type\":\"Point\",\n",
    "        \"coordinates\":[float(data[\"longt\"]),float(data[\"latt\"])]\n",
    "    }\n",
    "ny = geocode(\"New York, USA\")\n",
    "ny"
   ]
  },
  {
   "cell_type": "code",
   "execution_count": 25,
   "metadata": {},
   "outputs": [],
   "source": [
    "def withGeoQuery(location,maxDistance=15000,minDistance=0,field=\"location\"):\n",
    "    return {\n",
    "       field: {\n",
    "         \"$near\": {\n",
    "           \"$geometry\": location if type(location)==dict else geocode(location),\n",
    "           \"$maxDistance\": maxDistance,\n",
    "           \"$minDistance\": minDistance\n",
    "         }\n",
    "       }\n",
    "    }\n",
    "query = withGeoQuery(ny)"
   ]
  },
  {
   "cell_type": "code",
   "execution_count": 26,
   "metadata": {},
   "outputs": [
    {
     "name": "stdout",
     "output_type": "stream",
     "text": [
      "17\n"
     ]
    }
   ],
   "source": [
    "#There are 17 gaming companies - 15 Km.\n",
    "comp = list(db[\"cleancompanies\"].find(query))\n",
    "print(len(comp))"
   ]
  },
  {
   "cell_type": "markdown",
   "metadata": {},
   "source": [
    "2- AIRPORT"
   ]
  },
  {
   "cell_type": "code",
   "execution_count": 52,
   "metadata": {},
   "outputs": [
    {
     "name": "stderr",
     "output_type": "stream",
     "text": [
      "Python-dotenv could not parse statement starting at line 2\n"
     ]
    },
    {
     "name": "stdout",
     "output_type": "stream",
     "text": [
      "Lat. =  40.6413111\n",
      "Long =  -73.77813909999999\n"
     ]
    }
   ],
   "source": [
    "load_dotenv()\n",
    "token = os.getenv(\"TOKEN_GOOGLE\")\n",
    "address='New York KFC Airport'\n",
    "data = requests.get(f\"https://maps.googleapis.com/maps/api/geocode/json?address={address}&key={token}\").json()\n",
    "lat_ny_airport=(data['results'][0]['geometry']['location']['lat'])\n",
    "long_ny_airport=(data['results'][0]['geometry']['location']['lng'])\n",
    "print('Lat. = ',lat_ny_airport)\n",
    "print('Long = ',long_ny_airport)"
   ]
  },
  {
   "cell_type": "code",
   "execution_count": 71,
   "metadata": {},
   "outputs": [
    {
     "name": "stdout",
     "output_type": "stream",
     "text": [
      "Km from NY to NY Airport = 16.12113145961942 km\n"
     ]
    }
   ],
   "source": [
    "#KM between airport & city\n",
    "\n",
    "ny = (40.68908,-73.9586) \n",
    "airport_ny = (40.6413111,-73.77813909999999) \n",
    "print('Km from NY to NY Airport =', great_circle(ny, airport_ny).km,'km')"
   ]
  },
  {
   "cell_type": "markdown",
   "metadata": {},
   "source": [
    "### LOS ANGELES"
   ]
  },
  {
   "cell_type": "markdown",
   "metadata": {},
   "source": [
    "1- COMPANIES"
   ]
  },
  {
   "cell_type": "code",
   "execution_count": 30,
   "metadata": {},
   "outputs": [
    {
     "data": {
      "text/plain": [
       "{'type': 'Point', 'coordinates': [-118.29757, 34.04015]}"
      ]
     },
     "execution_count": 30,
     "metadata": {},
     "output_type": "execute_result"
    }
   ],
   "source": [
    "def geocode(address):\n",
    "    data = requests.get(f\"https://geocode.xyz/{address}?json=1\").json()\n",
    "    return {\n",
    "        \"type\":\"Point\",\n",
    "        \"coordinates\":[float(data[\"longt\"]),float(data[\"latt\"])]\n",
    "    }\n",
    "la = geocode(\"Los Angeles\")\n",
    "la"
   ]
  },
  {
   "cell_type": "code",
   "execution_count": 31,
   "metadata": {},
   "outputs": [],
   "source": [
    "def withGeoQuery(location,maxDistance=15000,minDistance=0,field=\"location\"):\n",
    "    return {\n",
    "       field: {\n",
    "         \"$near\": {\n",
    "           \"$geometry\": location if type(location)==dict else geocode(location),\n",
    "           \"$maxDistance\": maxDistance,\n",
    "           \"$minDistance\": minDistance\n",
    "         }\n",
    "       }\n",
    "    }\n",
    "query = withGeoQuery(la)"
   ]
  },
  {
   "cell_type": "code",
   "execution_count": 32,
   "metadata": {},
   "outputs": [
    {
     "name": "stdout",
     "output_type": "stream",
     "text": [
      "12\n"
     ]
    }
   ],
   "source": [
    "#There are 12 gaming companies - 15 Km.\n",
    "comp = list(db[\"cleancompanies\"].find(query))\n",
    "print(len(comp))"
   ]
  },
  {
   "cell_type": "markdown",
   "metadata": {},
   "source": [
    "2- AIRPORT"
   ]
  },
  {
   "cell_type": "code",
   "execution_count": 65,
   "metadata": {},
   "outputs": [
    {
     "name": "stderr",
     "output_type": "stream",
     "text": [
      "Python-dotenv could not parse statement starting at line 2\n"
     ]
    },
    {
     "name": "stdout",
     "output_type": "stream",
     "text": [
      "Lat. =  33.9415889\n",
      "Long =  -118.40853\n"
     ]
    }
   ],
   "source": [
    "load_dotenv()\n",
    "token = os.getenv(\"TOKEN_GOOGLE\")\n",
    "address='Los Angeles Airport'\n",
    "data = requests.get(f\"https://maps.googleapis.com/maps/api/geocode/json?address={address}&key={token}\").json()\n",
    "lat_la_airport=(data['results'][0]['geometry']['location']['lat'])\n",
    "long_la_airport=(data['results'][0]['geometry']['location']['lng'])\n",
    "print('Lat. = ',lat_la_airport)\n",
    "print('Long = ',long_la_airport)"
   ]
  },
  {
   "cell_type": "code",
   "execution_count": 70,
   "metadata": {},
   "outputs": [
    {
     "name": "stdout",
     "output_type": "stream",
     "text": [
      "Km from LA to LA Airport = 14.992077104477458 km\n"
     ]
    }
   ],
   "source": [
    "#KM between airport & city\n",
    "\n",
    "la = (34.04015,-118.29757) \n",
    "airport_la = (33.9415889,-118.40853) \n",
    "print('Km from LA to LA Airport =', great_circle(la, airport_la).km,'km')"
   ]
  },
  {
   "cell_type": "markdown",
   "metadata": {},
   "source": [
    "### PARIS"
   ]
  },
  {
   "cell_type": "markdown",
   "metadata": {},
   "source": [
    "1- COMPANIES"
   ]
  },
  {
   "cell_type": "code",
   "execution_count": 34,
   "metadata": {},
   "outputs": [
    {
     "data": {
      "text/plain": [
       "{'type': 'Point', 'coordinates': [2.34293, 48.85717]}"
      ]
     },
     "execution_count": 34,
     "metadata": {},
     "output_type": "execute_result"
    }
   ],
   "source": [
    "def geocode(address):\n",
    "    data = requests.get(f\"https://geocode.xyz/{address}?json=1\").json()\n",
    "    return {\n",
    "        \"type\":\"Point\",\n",
    "        \"coordinates\":[float(data[\"longt\"]),float(data[\"latt\"])]\n",
    "    }\n",
    "paris = geocode(\"Paris\")\n",
    "paris"
   ]
  },
  {
   "cell_type": "code",
   "execution_count": 35,
   "metadata": {},
   "outputs": [],
   "source": [
    "def withGeoQuery(location,maxDistance=15000,minDistance=0,field=\"location\"):\n",
    "    return {\n",
    "       field: {\n",
    "         \"$near\": {\n",
    "           \"$geometry\": location if type(location)==dict else geocode(location),\n",
    "           \"$maxDistance\": maxDistance,\n",
    "           \"$minDistance\": minDistance\n",
    "         }\n",
    "       }\n",
    "    }\n",
    "query = withGeoQuery(paris)"
   ]
  },
  {
   "cell_type": "code",
   "execution_count": 36,
   "metadata": {},
   "outputs": [
    {
     "name": "stdout",
     "output_type": "stream",
     "text": [
      "4\n"
     ]
    }
   ],
   "source": [
    "#There are 4 gaming companies - 15 Km.\n",
    "comp = list(db[\"cleancompanies\"].find(query))\n",
    "print(len(comp))"
   ]
  },
  {
   "cell_type": "markdown",
   "metadata": {},
   "source": [
    "2- AIRPORT"
   ]
  },
  {
   "cell_type": "code",
   "execution_count": 64,
   "metadata": {},
   "outputs": [
    {
     "name": "stderr",
     "output_type": "stream",
     "text": [
      "Python-dotenv could not parse statement starting at line 2\n"
     ]
    },
    {
     "name": "stdout",
     "output_type": "stream",
     "text": [
      "Lat. =  49.0096906\n",
      "Long =  2.5479245\n"
     ]
    }
   ],
   "source": [
    "load_dotenv()\n",
    "token = os.getenv(\"TOKEN_GOOGLE\")\n",
    "address='Paris-Charles De Gaulle'\n",
    "data = requests.get(f\"https://maps.googleapis.com/maps/api/geocode/json?address={address}&key={token}\").json()\n",
    "lat_paris_airport=(data['results'][0]['geometry']['location']['lat'])\n",
    "long_paris_airport=(data['results'][0]['geometry']['location']['lng'])\n",
    "print('Lat. = ',lat_paris_airport)\n",
    "print('Long = ',long_paris_airport)"
   ]
  },
  {
   "cell_type": "code",
   "execution_count": 69,
   "metadata": {},
   "outputs": [
    {
     "name": "stdout",
     "output_type": "stream",
     "text": [
      "Km from Paris to Paris-Charles De Gaulle = 22.62430090103764 km\n"
     ]
    }
   ],
   "source": [
    "#KM between airport & city\n",
    "\n",
    "paris = (48.85717,2.34293) \n",
    "airport_paris = (49.0096906,2.5479245) \n",
    "print('Km from Paris to Paris-Charles De Gaulle =', great_circle(paris, airport_paris).km,'km')"
   ]
  },
  {
   "cell_type": "markdown",
   "metadata": {},
   "source": [
    "### SANTA MONICA"
   ]
  },
  {
   "cell_type": "markdown",
   "metadata": {},
   "source": [
    "1- COMPANIES"
   ]
  },
  {
   "cell_type": "code",
   "execution_count": 38,
   "metadata": {},
   "outputs": [
    {
     "data": {
      "text/plain": [
       "{'type': 'Point', 'coordinates': [-118.48319, 34.02401]}"
      ]
     },
     "execution_count": 38,
     "metadata": {},
     "output_type": "execute_result"
    }
   ],
   "source": [
    "def geocode(address):\n",
    "    data = requests.get(f\"https://geocode.xyz/{address}?json=1\").json()\n",
    "    return {\n",
    "        \"type\":\"Point\",\n",
    "        \"coordinates\":[float(data[\"longt\"]),float(data[\"latt\"])]\n",
    "    }\n",
    "sm = geocode(\"Santa Monica, CA, USA\")\n",
    "sm"
   ]
  },
  {
   "cell_type": "code",
   "execution_count": 41,
   "metadata": {},
   "outputs": [],
   "source": [
    "def withGeoQuery(location,maxDistance=15000,minDistance=0,field=\"location\"):\n",
    "    return {\n",
    "       field: {\n",
    "         \"$near\": {\n",
    "           \"$geometry\": location if type(location)==dict else geocode(location),\n",
    "           \"$maxDistance\": maxDistance,\n",
    "           \"$minDistance\": minDistance\n",
    "         }\n",
    "       }\n",
    "    }\n",
    "query = withGeoQuery(sm)"
   ]
  },
  {
   "cell_type": "code",
   "execution_count": 78,
   "metadata": {},
   "outputs": [
    {
     "name": "stdout",
     "output_type": "stream",
     "text": [
      "12 companies\n"
     ]
    }
   ],
   "source": [
    "#There are 4 gaming companies - 15 Km.\n",
    "comp = list(db[\"cleancompanies\"].find(query))\n",
    "print(len(comp),'companies')"
   ]
  },
  {
   "cell_type": "markdown",
   "metadata": {},
   "source": [
    "2- AIRPORT"
   ]
  },
  {
   "cell_type": "code",
   "execution_count": 79,
   "metadata": {},
   "outputs": [
    {
     "name": "stderr",
     "output_type": "stream",
     "text": [
      "Python-dotenv could not parse statement starting at line 2\n"
     ]
    },
    {
     "name": "stdout",
     "output_type": "stream",
     "text": [
      "Lat. =  34.0178143\n",
      "Long. =  -118.4473286\n"
     ]
    }
   ],
   "source": [
    "load_dotenv()\n",
    "token = os.getenv(\"TOKEN_GOOGLE\")\n",
    "address='Santa Monica Airport'\n",
    "data = requests.get(f\"https://maps.googleapis.com/maps/api/geocode/json?address={address}&key={token}\").json()\n",
    "lat_paris_airport=(data['results'][0]['geometry']['location']['lat'])\n",
    "long_paris_airport=(data['results'][0]['geometry']['location']['lng'])\n",
    "print('Lat. = ',lat_paris_airport)\n",
    "print('Long. = ',long_paris_airport)"
   ]
  },
  {
   "cell_type": "code",
   "execution_count": 76,
   "metadata": {},
   "outputs": [
    {
     "name": "stdout",
     "output_type": "stream",
     "text": [
      "Km from Santa Monica to Santa Monica Airport = 3.3761049677896473 km\n"
     ]
    }
   ],
   "source": [
    "#KM between airport & city\n",
    "\n",
    "sm = (34.02401,-118.48319) \n",
    "airport_sm = (34.0178143,-118.4473286) \n",
    "print('Km from Santa Monica to Santa Monica Airport =', great_circle(sm, airport_sm).km,'km')"
   ]
  },
  {
   "cell_type": "markdown",
   "metadata": {},
   "source": [
    "### CONCLUSION:\n",
    "\n",
    "The chosen city is Santa Monica, since it has the nearest airport and has a huge amount of companies around."
   ]
  },
  {
   "cell_type": "markdown",
   "metadata": {},
   "source": [
    "## Convertig DataFrame into GeoDataFrame"
   ]
  },
  {
   "cell_type": "code",
   "execution_count": 83,
   "metadata": {},
   "outputs": [],
   "source": [
    "gdf = gpd.GeoDataFrame(df_companies, geometry=gpd.points_from_xy(df_companies.longitude, df_companies.latitude))"
   ]
  },
  {
   "cell_type": "code",
   "execution_count": 85,
   "metadata": {},
   "outputs": [
    {
     "data": {
      "text/plain": [
       "<folium.map.Marker at 0x11ab60f10>"
      ]
     },
     "execution_count": 85,
     "metadata": {},
     "output_type": "execute_result"
    }
   ],
   "source": [
    "#Adding Airport on heatmap.\n",
    "start_lat = 34.02401\n",
    "start_lon = -118.48319\n",
    "heat_m_sm = folium.Map(location=[start_lat, start_lon],tiles='cartodbpositron', zoom_start=15)\n",
    "Marker([start_lat, start_lon], icon=folium.Icon(color='black')).add_to(heat_m_sm)"
   ]
  },
  {
   "cell_type": "code",
   "execution_count": 87,
   "metadata": {},
   "outputs": [
    {
     "data": {
      "text/plain": [
       "<folium.map.FeatureGroup at 0x11abaab10>"
      ]
     },
     "execution_count": 87,
     "metadata": {},
     "output_type": "execute_result"
    }
   ],
   "source": [
    "#Printing companies on heatmap.\n",
    "companies = gdf\n",
    "companies_group = folium.FeatureGroup(name=\"Gaming Companies\")\n",
    "HeatMap(data=companies[['latitude', 'longitude']],radius=15).add_to(companies_group)\n",
    "companies_group.add_to(heat_m_sm)"
   ]
  },
  {
   "cell_type": "code",
   "execution_count": 101,
   "metadata": {},
   "outputs": [],
   "source": [
    "#ADDING AIRPORT COORDINATES\n",
    "airport_long, airport_lat = -118.4459796197085, 34.01916328029149\n",
    "heat_m_sm=heat_m_sm.add_child(Marker([airport_lat, airport_long], icon=folium.Icon(color='lightblue')))"
   ]
  },
  {
   "cell_type": "code",
   "execution_count": 107,
   "metadata": {},
   "outputs": [
    {
     "name": "stderr",
     "output_type": "stream",
     "text": [
      "Python-dotenv could not parse statement starting at line 2\n"
     ]
    }
   ],
   "source": [
    "#ADDING NURSERIES\n",
    "load_dotenv()\n",
    "token = os.getenv(\"TOKEN_GOOGLE\")\n",
    "location=\"34.02401,-118.48319\"\n",
    "site='nursery'\n",
    "data=requests.get(f\"https://maps.googleapis.com/maps/api/place/nearbysearch/json?location={location}&radius=5000&type={site}&keyword=cruise&key={token}\").json()"
   ]
  },
  {
   "cell_type": "code",
   "execution_count": 108,
   "metadata": {},
   "outputs": [],
   "source": [
    "#Extracting the info of results column. Splitting the information in order to get lat and lng.\n",
    "df_nurseries_sm=pd.DataFrame(data['results'])\n",
    "exapand_office_column = df_nurseries_sm[[\"geometry\"]].apply(lambda r: r.geometry, result_type=\"expand\", axis=1)\n",
    "data_expanded_nur = pd.concat([df_nurseries_sm,exapand_office_column], axis=1)\n",
    "exapand_loc_column = data_expanded_nur[[\"location\"]].apply(lambda r: r.location, result_type=\"expand\", axis=1)\n",
    "data_expanded_nur_1 = pd.concat([data_expanded_nur,exapand_loc_column], axis=1)"
   ]
  },
  {
   "cell_type": "code",
   "execution_count": 109,
   "metadata": {},
   "outputs": [],
   "source": [
    "#Exporting nurseries file info into Finder.\n",
    "data_expanded_nur_1.to_json('sf_nurseries.json',orient='records')"
   ]
  },
  {
   "cell_type": "code",
   "execution_count": 100,
   "metadata": {},
   "outputs": [],
   "source": [
    "#Converting Pandas to Geopandas.\n",
    "gdf_nursery = gpd.GeoDataFrame(data_expanded_nur_1, geometry=gpd.points_from_xy(data_expanded_nur_1.lng, data_expanded_nur_1.lat))"
   ]
  },
  {
   "cell_type": "code",
   "execution_count": 105,
   "metadata": {},
   "outputs": [
    {
     "data": {
      "text/html": [
       "<div style=\"width:100%;\"><div style=\"position:relative;width:100%;height:0;padding-bottom:60%;\"><iframe src=\"data:text/html;charset=utf-8;base64,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\" style=\"position:absolute;width:100%;height:100%;left:0;top:0;border:none !important;\" allowfullscreen webkitallowfullscreen mozallowfullscreen></iframe></div></div>"
      ],
      "text/plain": [
       "<folium.folium.Map at 0x11abc8290>"
      ]
     },
     "execution_count": 105,
     "metadata": {},
     "output_type": "execute_result"
    }
   ],
   "source": [
    "#Adding nurseries on map.\n",
    "nursery = gdf_nursery[['lat', 'lng']]\n",
    "nursery_group = folium.FeatureGroup(name=\"Nurseries\")\n",
    "nursery_group.add_child(MarkerCluster(locations=nursery[['lat', 'lng']]))\n",
    "heat_m_sm.add_child(nursery_group)"
   ]
  },
  {
   "cell_type": "code",
   "execution_count": 110,
   "metadata": {},
   "outputs": [
    {
     "name": "stderr",
     "output_type": "stream",
     "text": [
      "Python-dotenv could not parse statement starting at line 2\n"
     ]
    }
   ],
   "source": [
    "#ADDING PUBs\n",
    "load_dotenv()\n",
    "token = os.getenv(\"TOKEN_GOOGLE\")\n",
    "location=\"34.02401,-118.48319\"\n",
    "site='pub'\n",
    "data=requests.get(f\"https://maps.googleapis.com/maps/api/place/nearbysearch/json?location={location}&radius=5000&type={site}&keyword=cruise&key={token}\").json()"
   ]
  },
  {
   "cell_type": "code",
   "execution_count": 113,
   "metadata": {},
   "outputs": [],
   "source": [
    "#Extracting the info of results column. Splitting the information in order to get lat and lng.\n",
    "df_pubs=pd.DataFrame(data['results'])\n",
    "exapand_pubs = df_pubs[[\"geometry\"]].apply(lambda r: r.geometry, result_type=\"expand\", axis=1)\n",
    "data_expanded_pub= pd.concat([df_pubs,exapand_office_column], axis=1)\n",
    "exapand_loc_column = data_expanded_nur[[\"location\"]].apply(lambda r: r.location, result_type=\"expand\", axis=1)\n",
    "data_expanded_pub_1 = pd.concat([data_expanded_nur,exapand_loc_column], axis=1)"
   ]
  },
  {
   "cell_type": "code",
   "execution_count": 115,
   "metadata": {},
   "outputs": [],
   "source": [
    "#Converting Pandas to Geopandas.\n",
    "gdf_pubs_geo = gpd.GeoDataFrame(data_expanded_pub_1, geometry=gpd.points_from_xy(data_expanded_pub_1.lng, data_expanded_pub_1.lat))"
   ]
  },
  {
   "cell_type": "code",
   "execution_count": 116,
   "metadata": {},
   "outputs": [
    {
     "data": {
      "text/html": [
       "<div style=\"width:100%;\"><div style=\"position:relative;width:100%;height:0;padding-bottom:60%;\"><iframe src=\"data:text/html;charset=utf-8;base64,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\" style=\"position:absolute;width:100%;height:100%;left:0;top:0;border:none !important;\" allowfullscreen webkitallowfullscreen mozallowfullscreen></iframe></div></div>"
      ],
      "text/plain": [
       "<folium.folium.Map at 0x11abc8290>"
      ]
     },
     "execution_count": 116,
     "metadata": {},
     "output_type": "execute_result"
    }
   ],
   "source": [
    "#Adding pubs on map.\n",
    "pubs = gdf_pubs_geo[['lat', 'lng']]\n",
    "pubs_group = folium.FeatureGroup(name=\"Pubs\")\n",
    "pubs_group.add_child(MarkerCluster(locations=gdf_pubs_geo[['lat', 'lng']]))\n",
    "heat_m_sm.add_child(pubs_group)"
   ]
  },
  {
   "cell_type": "code",
   "execution_count": null,
   "metadata": {},
   "outputs": [],
   "source": []
  }
 ],
 "metadata": {
  "kernelspec": {
   "display_name": "Python 3",
   "language": "python",
   "name": "python3"
  },
  "language_info": {
   "codemirror_mode": {
    "name": "ipython",
    "version": 3
   },
   "file_extension": ".py",
   "mimetype": "text/x-python",
   "name": "python",
   "nbconvert_exporter": "python",
   "pygments_lexer": "ipython3",
   "version": "3.7.6"
  }
 },
 "nbformat": 4,
 "nbformat_minor": 4
}
