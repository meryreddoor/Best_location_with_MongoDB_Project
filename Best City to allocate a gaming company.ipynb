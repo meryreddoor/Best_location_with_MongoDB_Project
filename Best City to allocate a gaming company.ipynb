{
 "cells": [
  {
   "cell_type": "markdown",
   "metadata": {},
   "source": [
    "# BEST CITY TO ALLOCATE A GAMING COMPANY"
   ]
  },
  {
   "cell_type": "markdown",
   "metadata": {},
   "source": [
    "## Libraries"
   ]
  },
  {
   "cell_type": "code",
   "execution_count": 1,
   "metadata": {},
   "outputs": [],
   "source": [
    "import pandas as pd\n",
    "import numpy as np\n",
    "import requests\n",
    "import math\n",
    "import os\n",
    "from dotenv import load_dotenv\n",
    "\n",
    "from pymongo import MongoClient\n",
    "\n",
    "import geopandas as gpd\n",
    "from geopy.distance import distance\n",
    "from geopy.distance import geodesic \n",
    "from shapely.geometry import Point\n",
    "from geopy.distance import great_circle\n",
    "from descartes import PolygonPatch\n",
    "\n",
    "import matplotlib.pyplot as plt\n",
    "%matplotlib inline\n",
    "\n",
    "from cartoframes.viz import Map, Layer\n",
    "from cartoframes.viz.helpers import size_continuous_layer\n",
    "from cartoframes.viz.widgets import histogram_widget\n",
    "\n",
    "import folium\n",
    "from folium import plugins\n",
    "from folium import Choropleth, Circle, Marker\n",
    "from folium.plugins import HeatMap, MarkerCluster"
   ]
  },
  {
   "cell_type": "markdown",
   "metadata": {},
   "source": [
    "## MongoDB - Companies Data"
   ]
  },
  {
   "cell_type": "code",
   "execution_count": 2,
   "metadata": {},
   "outputs": [],
   "source": [
    "#Importing companies.json from mongodb.\n",
    "client = MongoClient(\"mongodb://localhost/companies\")\n",
    "db = client.get_database()"
   ]
  },
  {
   "cell_type": "markdown",
   "metadata": {},
   "source": [
    "Importing companies data from MongoDB.\n",
    "\n",
    "Filtering by gaming/video companies and the employees > 10 prs."
   ]
  },
  {
   "cell_type": "code",
   "execution_count": 3,
   "metadata": {},
   "outputs": [],
   "source": [
    "query={\"$and\":[{\"category_code\":{\"$eq\":\"games_video\"}},{\"number_of_employees\":{\"$gte\":10}}]}\n",
    "list_companies=list(db['companies'].find((query),{\"category_code\":1,'number_of_employees':1,'name':1,\"total_money_raised\":1,\"offices\":1,'_id':0}).sort(\"number_of_employees\",-1))"
   ]
  },
  {
   "cell_type": "code",
   "execution_count": 4,
   "metadata": {},
   "outputs": [],
   "source": [
    "#Converting the info into 'pandas'\n",
    "df = pd.DataFrame(list_companies)"
   ]
  },
  {
   "cell_type": "code",
   "execution_count": 5,
   "metadata": {},
   "outputs": [],
   "source": [
    "#Removing duplicates.\n",
    "df = df.drop_duplicates(subset='name', keep='first')"
   ]
  },
  {
   "cell_type": "code",
   "execution_count": 6,
   "metadata": {},
   "outputs": [],
   "source": [
    "#Removing the NAN values from offices column.\n",
    "df.dropna(subset=['offices'], inplace=True)"
   ]
  },
  {
   "cell_type": "code",
   "execution_count": 7,
   "metadata": {},
   "outputs": [],
   "source": [
    "#Removing the lists from offices column \n",
    "df = df.explode('offices')"
   ]
  },
  {
   "cell_type": "code",
   "execution_count": 8,
   "metadata": {},
   "outputs": [],
   "source": [
    "#Expand information from offices column.\n",
    "exapand_office_column = df[[\"offices\"]].apply(lambda r: r.offices, result_type=\"expand\", axis=1)\n",
    "data_expanded = pd.concat([df,exapand_office_column], axis=1)"
   ]
  },
  {
   "cell_type": "code",
   "execution_count": 9,
   "metadata": {},
   "outputs": [],
   "source": [
    "#Removing old column with lists.\n",
    "df_companies = data_expanded.drop(columns=[\"offices\"])"
   ]
  },
  {
   "cell_type": "code",
   "execution_count": 10,
   "metadata": {},
   "outputs": [],
   "source": [
    "#Removing the NAN long and latt columns.\n",
    "df_companies.dropna(subset=['latitude'], inplace=True)\n",
    "df_companies.dropna(subset=['longitude'], inplace=True)"
   ]
  },
  {
   "cell_type": "markdown",
   "metadata": {},
   "source": [
    "## TOP 5 CITIES WITH MORE GAMING COMPANIES"
   ]
  },
  {
   "cell_type": "code",
   "execution_count": 11,
   "metadata": {},
   "outputs": [
    {
     "data": {
      "image/png": "[encoded data removed]",
      "text/plain": [
       "<Figure size 2160x720 with 1 Axes>"
      ]
     },
     "metadata": {
      "needs_background": "light"
     },
     "output_type": "display_data"
    }
   ],
   "source": [
    "#TOP5 cities with more companies with 'category code' = 'video_games'\n",
    "\n",
    "graph_df=df_companies[['city','name']]\n",
    "graphic= graph_df.groupby('city').count().sort_values('name',ascending = False).head()\n",
    "\n",
    "graphic.plot.bar(figsize=(30,10));\n",
    "plt.legend([\"Total amount company/city\"])\n",
    "plt.title(\"TOP 5 - Number of gaming companies by city\")\n",
    "plt.xlabel(\"Cities\")\n",
    "plt.ylabel(\"Number of companies\");"
   ]
  },
  {
   "cell_type": "markdown",
   "metadata": {},
   "source": [
    "# Comparing Km for Companies & Airports"
   ]
  },
  {
   "cell_type": "markdown",
   "metadata": {},
   "source": [
    "### SAN FRANCISCO"
   ]
  },
  {
   "cell_type": "markdown",
   "metadata": {},
   "source": [
    "1- COMPANIES"
   ]
  },
  {
   "cell_type": "code",
   "execution_count": 12,
   "metadata": {},
   "outputs": [
    {
     "data": {
      "text/plain": [
       "{'type': 'Point', 'coordinates': [-122.40438, 37.66873]}"
      ]
     },
     "execution_count": 12,
     "metadata": {},
     "output_type": "execute_result"
    }
   ],
   "source": [
    "def geocode(address):\n",
    "    data = requests.get(f\"https://geocode.xyz/{address}?json=1\").json()\n",
    "    return {\n",
    "        \"type\":\"Point\",\n",
    "        \"coordinates\":[float(data[\"longt\"]),float(data[\"latt\"])]\n",
    "    }\n",
    "sf = geocode(\"San Francisco, CA, USA\")\n",
    "sf"
   ]
  },
  {
   "cell_type": "code",
   "execution_count": 13,
   "metadata": {},
   "outputs": [],
   "source": [
    "def withGeoQuery(location,maxDistance=15000,minDistance=0,field=\"location\"):\n",
    "    return {\n",
    "       field: {\n",
    "         \"$near\": {\n",
    "           \"$geometry\": location if type(location)==dict else geocode(location),\n",
    "           \"$maxDistance\": maxDistance,\n",
    "           \"$minDistance\": minDistance\n",
    "         }\n",
    "       }\n",
    "    }\n",
    "query = withGeoQuery(sf)"
   ]
  },
  {
   "cell_type": "code",
   "execution_count": 14,
   "metadata": {},
   "outputs": [
    {
     "name": "stdout",
     "output_type": "stream",
     "text": [
      "18 companies\n"
     ]
    }
   ],
   "source": [
    "#There are 18 gaming companies - 15 Km.\n",
    "comp_sf = list(db[\"cleancompanies\"].find(query))\n",
    "print(len(comp_sf),'companies')"
   ]
  },
  {
   "cell_type": "markdown",
   "metadata": {},
   "source": [
    "2- AIRPORT"
   ]
  },
  {
   "cell_type": "code",
   "execution_count": 15,
   "metadata": {},
   "outputs": [
    {
     "name": "stderr",
     "output_type": "stream",
     "text": [
      "Python-dotenv could not parse statement starting at line 2\n"
     ]
    },
    {
     "name": "stdout",
     "output_type": "stream",
     "text": [
      "Lat. =  37.6213129\n",
      "Long =  -122.3789554\n"
     ]
    }
   ],
   "source": [
    "load_dotenv()\n",
    "token = os.getenv(\"TOKEN_GOOGLE\")\n",
    "address='San Francisco Airport'\n",
    "data = requests.get(f\"https://maps.googleapis.com/maps/api/geocode/json?address={address}&key={token}\").json()\n",
    "lat_sf_airport=(data['results'][0]['geometry']['location']['lat'])\n",
    "long_sf_airport=(data['results'][0]['geometry']['location']['lng'])\n",
    "print('Lat. = ',lat_sf_airport)\n",
    "print('Long = ',long_sf_airport)"
   ]
  },
  {
   "cell_type": "code",
   "execution_count": 16,
   "metadata": {},
   "outputs": [
    {
     "name": "stdout",
     "output_type": "stream",
     "text": [
      "Km from San Francisco to SF Airport = 5.728065177954947 km\n"
     ]
    }
   ],
   "source": [
    "#KM between airport & city\n",
    "\n",
    "sf = (37.66873,-122.40438) \n",
    "airport_sf = (37.6213129,-122.3789554) \n",
    "print('Km from San Francisco to SF Airport =', great_circle(sf, airport_sf).km,'km')"
   ]
  },
  {
   "cell_type": "markdown",
   "metadata": {},
   "source": [
    "### NEW YORK"
   ]
  },
  {
   "cell_type": "markdown",
   "metadata": {},
   "source": [
    "1- COMPANIES "
   ]
  },
  {
   "cell_type": "code",
   "execution_count": 17,
   "metadata": {},
   "outputs": [
    {
     "data": {
      "text/plain": [
       "{'type': 'Point', 'coordinates': [-73.9586, 40.68908]}"
      ]
     },
     "execution_count": 17,
     "metadata": {},
     "output_type": "execute_result"
    }
   ],
   "source": [
    "def geocode(address):\n",
    "    data = requests.get(f\"https://geocode.xyz/{address}?json=1\").json()\n",
    "    return {\n",
    "        \"type\":\"Point\",\n",
    "        \"coordinates\":[float(data[\"longt\"]),float(data[\"latt\"])]\n",
    "    }\n",
    "ny = geocode(\"New York, USA\")\n",
    "ny"
   ]
  },
  {
   "cell_type": "code",
   "execution_count": 18,
   "metadata": {},
   "outputs": [],
   "source": [
    "def withGeoQuery(location,maxDistance=15000,minDistance=0,field=\"location\"):\n",
    "    return {\n",
    "       field: {\n",
    "         \"$near\": {\n",
    "           \"$geometry\": location if type(location)==dict else geocode(location),\n",
    "           \"$maxDistance\": maxDistance,\n",
    "           \"$minDistance\": minDistance\n",
    "         }\n",
    "       }\n",
    "    }\n",
    "query = withGeoQuery(ny)"
   ]
  },
  {
   "cell_type": "code",
   "execution_count": 19,
   "metadata": {},
   "outputs": [
    {
     "name": "stdout",
     "output_type": "stream",
     "text": [
      "17 companies\n"
     ]
    }
   ],
   "source": [
    "#There are 17 gaming companies - 15 Km.\n",
    "comp_ny = list(db[\"cleancompanies\"].find(query))\n",
    "print(len(comp_ny),'companies')"
   ]
  },
  {
   "cell_type": "markdown",
   "metadata": {},
   "source": [
    "2- AIRPORT"
   ]
  },
  {
   "cell_type": "code",
   "execution_count": 20,
   "metadata": {},
   "outputs": [
    {
     "name": "stderr",
     "output_type": "stream",
     "text": [
      "Python-dotenv could not parse statement starting at line 2\n"
     ]
    },
    {
     "name": "stdout",
     "output_type": "stream",
     "text": [
      "Lat. =  40.6413111\n",
      "Long =  -73.77813909999999\n"
     ]
    }
   ],
   "source": [
    "load_dotenv()\n",
    "token = os.getenv(\"TOKEN_GOOGLE\")\n",
    "address='New York KFC Airport'\n",
    "data = requests.get(f\"https://maps.googleapis.com/maps/api/geocode/json?address={address}&key={token}\").json()\n",
    "lat_ny_airport=(data['results'][0]['geometry']['location']['lat'])\n",
    "long_ny_airport=(data['results'][0]['geometry']['location']['lng'])\n",
    "print('Lat. = ',lat_ny_airport)\n",
    "print('Long = ',long_ny_airport)"
   ]
  },
  {
   "cell_type": "code",
   "execution_count": 21,
   "metadata": {},
   "outputs": [
    {
     "name": "stdout",
     "output_type": "stream",
     "text": [
      "Km from NY to NY Airport = 16.12113145961942 km\n"
     ]
    }
   ],
   "source": [
    "#KM between airport & city\n",
    "\n",
    "ny = (40.68908,-73.9586) \n",
    "airport_ny = (40.6413111,-73.77813909999999) \n",
    "print('Km from NY to NY Airport =', great_circle(ny, airport_ny).km,'km')"
   ]
  },
  {
   "cell_type": "markdown",
   "metadata": {},
   "source": [
    "### LOS ANGELES"
   ]
  },
  {
   "cell_type": "markdown",
   "metadata": {},
   "source": [
    "1- COMPANIES"
   ]
  },
  {
   "cell_type": "code",
   "execution_count": 22,
   "metadata": {},
   "outputs": [
    {
     "data": {
      "text/plain": [
       "{'type': 'Point', 'coordinates': [-118.29757, 34.04015]}"
      ]
     },
     "execution_count": 22,
     "metadata": {},
     "output_type": "execute_result"
    }
   ],
   "source": [
    "def geocode(address):\n",
    "    data = requests.get(f\"https://geocode.xyz/{address}?json=1\").json()\n",
    "    return {\n",
    "        \"type\":\"Point\",\n",
    "        \"coordinates\":[float(data[\"longt\"]),float(data[\"latt\"])]\n",
    "    }\n",
    "la = geocode(\"Los Angeles\")\n",
    "la"
   ]
  },
  {
   "cell_type": "code",
   "execution_count": 23,
   "metadata": {},
   "outputs": [],
   "source": [
    "def withGeoQuery(location,maxDistance=15000,minDistance=0,field=\"location\"):\n",
    "    return {\n",
    "       field: {\n",
    "         \"$near\": {\n",
    "           \"$geometry\": location if type(location)==dict else geocode(location),\n",
    "           \"$maxDistance\": maxDistance,\n",
    "           \"$minDistance\": minDistance\n",
    "         }\n",
    "       }\n",
    "    }\n",
    "query = withGeoQuery(la)"
   ]
  },
  {
   "cell_type": "code",
   "execution_count": 24,
   "metadata": {},
   "outputs": [
    {
     "name": "stdout",
     "output_type": "stream",
     "text": [
      "12 companies\n"
     ]
    }
   ],
   "source": [
    "#There are 12 gaming companies - 15 Km.\n",
    "comp_la = list(db[\"cleancompanies\"].find(query))\n",
    "print(len(comp_la),'companies')"
   ]
  },
  {
   "cell_type": "markdown",
   "metadata": {},
   "source": [
    "2- AIRPORT"
   ]
  },
  {
   "cell_type": "code",
   "execution_count": 25,
   "metadata": {},
   "outputs": [
    {
     "name": "stderr",
     "output_type": "stream",
     "text": [
      "Python-dotenv could not parse statement starting at line 2\n"
     ]
    },
    {
     "name": "stdout",
     "output_type": "stream",
     "text": [
      "Lat. =  33.9415889\n",
      "Long =  -118.40853\n"
     ]
    }
   ],
   "source": [
    "load_dotenv()\n",
    "token = os.getenv(\"TOKEN_GOOGLE\")\n",
    "address='Los Angeles Airport'\n",
    "data = requests.get(f\"https://maps.googleapis.com/maps/api/geocode/json?address={address}&key={token}\").json()\n",
    "lat_la_airport=(data['results'][0]['geometry']['location']['lat'])\n",
    "long_la_airport=(data['results'][0]['geometry']['location']['lng'])\n",
    "print('Lat. = ',lat_la_airport)\n",
    "print('Long = ',long_la_airport)"
   ]
  },
  {
   "cell_type": "code",
   "execution_count": 26,
   "metadata": {},
   "outputs": [
    {
     "name": "stdout",
     "output_type": "stream",
     "text": [
      "Km from LA to LA Airport = 14.992077104477458 km\n"
     ]
    }
   ],
   "source": [
    "#KM between airport & city\n",
    "\n",
    "la = (34.04015,-118.29757) \n",
    "airport_la = (33.9415889,-118.40853) \n",
    "print('Km from LA to LA Airport =', great_circle(la, airport_la).km,'km')"
   ]
  },
  {
   "cell_type": "markdown",
   "metadata": {},
   "source": [
    "### PARIS"
   ]
  },
  {
   "cell_type": "markdown",
   "metadata": {},
   "source": [
    "1- COMPANIES"
   ]
  },
  {
   "cell_type": "code",
   "execution_count": 27,
   "metadata": {},
   "outputs": [
    {
     "data": {
      "text/plain": [
       "{'type': 'Point', 'coordinates': [2.34293, 48.85717]}"
      ]
     },
     "execution_count": 27,
     "metadata": {},
     "output_type": "execute_result"
    }
   ],
   "source": [
    "def geocode(address):\n",
    "    data = requests.get(f\"https://geocode.xyz/{address}?json=1\").json()\n",
    "    return {\n",
    "        \"type\":\"Point\",\n",
    "        \"coordinates\":[float(data[\"longt\"]),float(data[\"latt\"])]\n",
    "    }\n",
    "paris = geocode(\"Paris\")\n",
    "paris"
   ]
  },
  {
   "cell_type": "code",
   "execution_count": 28,
   "metadata": {},
   "outputs": [],
   "source": [
    "def withGeoQuery(location,maxDistance=15000,minDistance=0,field=\"location\"):\n",
    "    return {\n",
    "       field: {\n",
    "         \"$near\": {\n",
    "           \"$geometry\": location if type(location)==dict else geocode(location),\n",
    "           \"$maxDistance\": maxDistance,\n",
    "           \"$minDistance\": minDistance\n",
    "         }\n",
    "       }\n",
    "    }\n",
    "query = withGeoQuery(paris)"
   ]
  },
  {
   "cell_type": "code",
   "execution_count": 29,
   "metadata": {},
   "outputs": [
    {
     "name": "stdout",
     "output_type": "stream",
     "text": [
      "4 companies\n"
     ]
    }
   ],
   "source": [
    "#There are 4 gaming companies - 15 Km.\n",
    "comp_paris = list(db[\"cleancompanies\"].find(query))\n",
    "print(len(comp_paris),'companies')"
   ]
  },
  {
   "cell_type": "markdown",
   "metadata": {},
   "source": [
    "2- AIRPORT"
   ]
  },
  {
   "cell_type": "code",
   "execution_count": 30,
   "metadata": {},
   "outputs": [
    {
     "name": "stderr",
     "output_type": "stream",
     "text": [
      "Python-dotenv could not parse statement starting at line 2\n"
     ]
    },
    {
     "name": "stdout",
     "output_type": "stream",
     "text": [
      "Lat. =  49.0096906\n",
      "Long =  2.5479245\n"
     ]
    }
   ],
   "source": [
    "load_dotenv()\n",
    "token = os.getenv(\"TOKEN_GOOGLE\")\n",
    "address='Paris-Charles De Gaulle'\n",
    "data = requests.get(f\"https://maps.googleapis.com/maps/api/geocode/json?address={address}&key={token}\").json()\n",
    "lat_paris_airport=(data['results'][0]['geometry']['location']['lat'])\n",
    "long_paris_airport=(data['results'][0]['geometry']['location']['lng'])\n",
    "print('Lat. = ',lat_paris_airport)\n",
    "print('Long = ',long_paris_airport)"
   ]
  },
  {
   "cell_type": "code",
   "execution_count": 31,
   "metadata": {},
   "outputs": [
    {
     "name": "stdout",
     "output_type": "stream",
     "text": [
      "Km from Paris to Paris-Charles De Gaulle = 22.62430090103764 km\n"
     ]
    }
   ],
   "source": [
    "#KM between airport & city\n",
    "\n",
    "paris = (48.85717,2.34293) \n",
    "airport_paris = (49.0096906,2.5479245) \n",
    "print('Km from Paris to Paris-Charles De Gaulle =', great_circle(paris, airport_paris).km,'km')"
   ]
  },
  {
   "cell_type": "markdown",
   "metadata": {},
   "source": [
    "### SANTA MONICA"
   ]
  },
  {
   "cell_type": "markdown",
   "metadata": {},
   "source": [
    "1- COMPANIES"
   ]
  },
  {
   "cell_type": "code",
   "execution_count": 32,
   "metadata": {},
   "outputs": [
    {
     "data": {
      "text/plain": [
       "{'type': 'Point', 'coordinates': [-118.48319, 34.02401]}"
      ]
     },
     "execution_count": 32,
     "metadata": {},
     "output_type": "execute_result"
    }
   ],
   "source": [
    "def geocode(address):\n",
    "    data = requests.get(f\"https://geocode.xyz/{address}?json=1\").json()\n",
    "    return {\n",
    "        \"type\":\"Point\",\n",
    "        \"coordinates\":[float(data[\"longt\"]),float(data[\"latt\"])]\n",
    "    }\n",
    "sm = geocode(\"Santa Monica, CA, USA\")\n",
    "sm"
   ]
  },
  {
   "cell_type": "code",
   "execution_count": 33,
   "metadata": {},
   "outputs": [],
   "source": [
    "def withGeoQuery(location,maxDistance=15000,minDistance=0,field=\"location\"):\n",
    "    return {\n",
    "       field: {\n",
    "         \"$near\": {\n",
    "           \"$geometry\": location if type(location)==dict else geocode(location),\n",
    "           \"$maxDistance\": maxDistance,\n",
    "           \"$minDistance\": minDistance\n",
    "         }\n",
    "       }\n",
    "    }\n",
    "query = withGeoQuery(sm)"
   ]
  },
  {
   "cell_type": "code",
   "execution_count": 34,
   "metadata": {},
   "outputs": [
    {
     "name": "stdout",
     "output_type": "stream",
     "text": [
      "12 companies\n"
     ]
    }
   ],
   "source": [
    "#There are 4 gaming companies - 15 Km.\n",
    "comp_sm = list(db[\"cleancompanies\"].find(query))\n",
    "print(len(comp_sm),'companies')"
   ]
  },
  {
   "cell_type": "markdown",
   "metadata": {},
   "source": [
    "2- AIRPORT"
   ]
  },
  {
   "cell_type": "code",
   "execution_count": 35,
   "metadata": {},
   "outputs": [
    {
     "name": "stderr",
     "output_type": "stream",
     "text": [
      "Python-dotenv could not parse statement starting at line 2\n"
     ]
    },
    {
     "name": "stdout",
     "output_type": "stream",
     "text": [
      "Lat. =  34.0178143\n",
      "Long. =  -118.4473286\n"
     ]
    }
   ],
   "source": [
    "load_dotenv()\n",
    "token = os.getenv(\"TOKEN_GOOGLE\")\n",
    "address='Santa Monica Airport'\n",
    "data = requests.get(f\"https://maps.googleapis.com/maps/api/geocode/json?address={address}&key={token}\").json()\n",
    "lat_paris_airport=(data['results'][0]['geometry']['location']['lat'])\n",
    "long_paris_airport=(data['results'][0]['geometry']['location']['lng'])\n",
    "print('Lat. = ',lat_paris_airport)\n",
    "print('Long. = ',long_paris_airport)"
   ]
  },
  {
   "cell_type": "code",
   "execution_count": 36,
   "metadata": {},
   "outputs": [
    {
     "name": "stdout",
     "output_type": "stream",
     "text": [
      "Km from Santa Monica to Santa Monica Airport = 3.3761049677896473 km\n"
     ]
    }
   ],
   "source": [
    "#KM between airport & city\n",
    "\n",
    "sm = (34.02401,-118.48319) \n",
    "airport_sm = (34.0178143,-118.4473286) \n",
    "print('Km from Santa Monica to Santa Monica Airport =', great_circle(sm, airport_sm).km,'km')"
   ]
  },
  {
   "cell_type": "markdown",
   "metadata": {},
   "source": [
    "### NEXT STEPS:\n",
    "\n",
    "Santa Monica is the closest city to the airport and has a huge amount of gaming companies around, thus, this city will be further analyzed."
   ]
  },
  {
   "cell_type": "markdown",
   "metadata": {},
   "source": [
    "## Convertig DataFrame into GeoDataFrame"
   ]
  },
  {
   "cell_type": "code",
   "execution_count": 37,
   "metadata": {},
   "outputs": [],
   "source": [
    "gdf = gpd.GeoDataFrame(df_companies, geometry=gpd.points_from_xy(df_companies.longitude, df_companies.latitude))"
   ]
  },
  {
   "cell_type": "code",
   "execution_count": 38,
   "metadata": {},
   "outputs": [
    {
     "data": {
      "text/plain": [
       "<folium.map.Marker at 0x1254bf3d0>"
      ]
     },
     "execution_count": 38,
     "metadata": {},
     "output_type": "execute_result"
    }
   ],
   "source": [
    "#Adding Airport on heatmap.\n",
    "start_lat = 34.02401\n",
    "start_lon = -118.48319\n",
    "heat_m_sm = folium.Map(location=[start_lat, start_lon],tiles='cartodbpositron', zoom_start=15)\n",
    "Marker([start_lat, start_lon], icon=folium.Icon(color='blue')).add_to(heat_m_sm)"
   ]
  },
  {
   "cell_type": "code",
   "execution_count": 39,
   "metadata": {},
   "outputs": [
    {
     "data": {
      "text/plain": [
       "<folium.map.FeatureGroup at 0x1254b4c10>"
      ]
     },
     "execution_count": 39,
     "metadata": {},
     "output_type": "execute_result"
    }
   ],
   "source": [
    "#Printing companies on heatmap.\n",
    "companies = gdf\n",
    "companies_group = folium.FeatureGroup(name=\"Gaming Companies\")\n",
    "HeatMap(data=companies[['latitude', 'longitude']],radius=15).add_to(companies_group)\n",
    "companies_group.add_to(heat_m_sm)"
   ]
  },
  {
   "cell_type": "code",
   "execution_count": 40,
   "metadata": {},
   "outputs": [],
   "source": [
    "#ADDING AIRPORT COORDINATES\n",
    "airport_long, airport_lat = -118.4459796197085, 34.01916328029149\n",
    "heat_m_sm=heat_m_sm.add_child(Marker([airport_lat, airport_long], icon=folium.Icon(icon='plane',color='lightblue')))"
   ]
  },
  {
   "cell_type": "code",
   "execution_count": 54,
   "metadata": {},
   "outputs": [
    {
     "name": "stderr",
     "output_type": "stream",
     "text": [
      "Python-dotenv could not parse statement starting at line 2\n"
     ]
    }
   ],
   "source": [
    "#ADDING NURSERIES\n",
    "load_dotenv()\n",
    "token = os.getenv(\"TOKEN_GOOGLE\")\n",
    "location=\"34.02401,-118.48319\"\n",
    "site='university'\n",
    "data=requests.get(f\"https://maps.googleapis.com/maps/api/place/nearbysearch/json?location={location}&radius=15000&type={site}&keyword=cruise&key={token}\").json()\n"
   ]
  },
  {
   "cell_type": "code",
   "execution_count": 55,
   "metadata": {},
   "outputs": [
    {
     "data": {
      "text/html": [
       "<div>\n",
       "<style scoped>\n",
       "    .dataframe tbody tr th:only-of-type {\n",
       "        vertical-align: middle;\n",
       "    }\n",
       "\n",
       "    .dataframe tbody tr th {\n",
       "        vertical-align: top;\n",
       "    }\n",
       "\n",
       "    .dataframe thead th {\n",
       "        text-align: right;\n",
       "    }\n",
       "</style>\n",
       "<table border=\"1\" class=\"dataframe\">\n",
       "  <thead>\n",
       "    <tr style=\"text-align: right;\">\n",
       "      <th></th>\n",
       "      <th>geometry</th>\n",
       "      <th>icon</th>\n",
       "      <th>id</th>\n",
       "      <th>name</th>\n",
       "      <th>photos</th>\n",
       "      <th>place_id</th>\n",
       "      <th>plus_code</th>\n",
       "      <th>rating</th>\n",
       "      <th>reference</th>\n",
       "      <th>scope</th>\n",
       "      <th>types</th>\n",
       "      <th>user_ratings_total</th>\n",
       "      <th>vicinity</th>\n",
       "      <th>opening_hours</th>\n",
       "      <th>location</th>\n",
       "      <th>viewport</th>\n",
       "      <th>lat</th>\n",
       "      <th>lng</th>\n",
       "    </tr>\n",
       "  </thead>\n",
       "  <tbody>\n",
       "    <tr>\n",
       "      <th>0</th>\n",
       "      <td>{'location': {'lat': 34.0165568, 'lng': -118.4...</td>\n",
       "      <td>https://maps.gstatic.com/mapfiles/place_api/ic...</td>\n",
       "      <td>a275a24b6da95d70dc896c7ed72bff2b0c08d072</td>\n",
       "      <td>Santa Monica College</td>\n",
       "      <td>[{'height': 833, 'html_attributions': ['&lt;a hre...</td>\n",
       "      <td>ChIJj9kmJSS7woARdGiSfGFMI5c</td>\n",
       "      <td>{'compound_code': '2G8H+JR Santa Monica, Calif...</td>\n",
       "      <td>4.3</td>\n",
       "      <td>ChIJj9kmJSS7woARdGiSfGFMI5c</td>\n",
       "      <td>GOOGLE</td>\n",
       "      <td>[university, point_of_interest, establishment]</td>\n",
       "      <td>331</td>\n",
       "      <td>1900 Pico Blvd, Santa Monica</td>\n",
       "      <td>NaN</td>\n",
       "      <td>{'lat': 34.0165568, 'lng': -118.4703948}</td>\n",
       "      <td>{'northeast': {'lat': 34.02144849999998, 'lng'...</td>\n",
       "      <td>34.016557</td>\n",
       "      <td>-118.470395</td>\n",
       "    </tr>\n",
       "    <tr>\n",
       "      <th>1</th>\n",
       "      <td>{'location': {'lat': 34.0042282, 'lng': -118.3...</td>\n",
       "      <td>https://maps.gstatic.com/mapfiles/place_api/ic...</td>\n",
       "      <td>ac0f510d8e6a4aba7ec0d78cc20f48a44dfb5aac</td>\n",
       "      <td>West Los Angeles College</td>\n",
       "      <td>[{'height': 3024, 'html_attributions': ['&lt;a hr...</td>\n",
       "      <td>ChIJaedHyfa5woARvfX-J1IrdEc</td>\n",
       "      <td>{'compound_code': '2J37+M4 Culver City, Califo...</td>\n",
       "      <td>3.1</td>\n",
       "      <td>ChIJaedHyfa5woARvfX-J1IrdEc</td>\n",
       "      <td>GOOGLE</td>\n",
       "      <td>[university, point_of_interest, establishment]</td>\n",
       "      <td>152</td>\n",
       "      <td>9000 Overland Ave, Culver City</td>\n",
       "      <td>{'open_now': True}</td>\n",
       "      <td>{'lat': 34.0042282, 'lng': -118.3871555}</td>\n",
       "      <td>{'northeast': {'lat': 34.00557362989272, 'lng'...</td>\n",
       "      <td>34.004228</td>\n",
       "      <td>-118.387156</td>\n",
       "    </tr>\n",
       "    <tr>\n",
       "      <th>2</th>\n",
       "      <td>{'location': {'lat': 33.9566849, 'lng': -118.4...</td>\n",
       "      <td>https://maps.gstatic.com/mapfiles/place_api/ic...</td>\n",
       "      <td>aab3cd1148dfa9d5407efeb19bf0a1bd8f7a5d86</td>\n",
       "      <td>Otis College of Art and Design</td>\n",
       "      <td>[{'height': 2592, 'html_attributions': ['&lt;a hr...</td>\n",
       "      <td>ChIJiy3U3OmwwoARXUw6sBeWVZE</td>\n",
       "      <td>{'compound_code': 'XH4M+M4 Los Angeles, Califo...</td>\n",
       "      <td>4.3</td>\n",
       "      <td>ChIJiy3U3OmwwoARXUw6sBeWVZE</td>\n",
       "      <td>GOOGLE</td>\n",
       "      <td>[university, point_of_interest, establishment]</td>\n",
       "      <td>56</td>\n",
       "      <td>9045 Lincoln Blvd, Los Angeles</td>\n",
       "      <td>NaN</td>\n",
       "      <td>{'lat': 33.9566849, 'lng': -118.4171575}</td>\n",
       "      <td>{'northeast': {'lat': 33.95884805, 'lng': -118...</td>\n",
       "      <td>33.956685</td>\n",
       "      <td>-118.417158</td>\n",
       "    </tr>\n",
       "    <tr>\n",
       "      <th>3</th>\n",
       "      <td>{'location': {'lat': 34.1520127, 'lng': -118.3...</td>\n",
       "      <td>https://maps.gstatic.com/mapfiles/place_api/ic...</td>\n",
       "      <td>9d22d0d1bbe3e9a51c6f08937e54b7505cc6959d</td>\n",
       "      <td>New York Film Academy | Los Angeles</td>\n",
       "      <td>[{'height': 490, 'html_attributions': ['&lt;a hre...</td>\n",
       "      <td>ChIJr6cVNbS_woARHzMMiXk9rds</td>\n",
       "      <td>{'compound_code': '5M27+RR Burbank, California...</td>\n",
       "      <td>4.6</td>\n",
       "      <td>ChIJr6cVNbS_woARHzMMiXk9rds</td>\n",
       "      <td>GOOGLE</td>\n",
       "      <td>[university, point_of_interest, establishment]</td>\n",
       "      <td>83</td>\n",
       "      <td>3300 W Riverside Dr, Burbank</td>\n",
       "      <td>{'open_now': True}</td>\n",
       "      <td>{'lat': 34.1520127, 'lng': -118.3353948}</td>\n",
       "      <td>{'northeast': {'lat': 34.15322257989272, 'lng'...</td>\n",
       "      <td>34.152013</td>\n",
       "      <td>-118.335395</td>\n",
       "    </tr>\n",
       "    <tr>\n",
       "      <th>4</th>\n",
       "      <td>{'location': {'lat': 34.1009837, 'lng': -118.3...</td>\n",
       "      <td>https://maps.gstatic.com/mapfiles/place_api/ic...</td>\n",
       "      <td>63741ec8116994420f79ae6d6cdde50a2a657b71</td>\n",
       "      <td>Southern California Health Institute</td>\n",
       "      <td>[{'height': 319, 'html_attributions': ['&lt;a hre...</td>\n",
       "      <td>ChIJxWUzZL2_woARdWupE6_FRXg</td>\n",
       "      <td>{'compound_code': '4M2F+97 Los Angeles, Califo...</td>\n",
       "      <td>0.0</td>\n",
       "      <td>ChIJxWUzZL2_woARdWupE6_FRXg</td>\n",
       "      <td>GOOGLE</td>\n",
       "      <td>[university, point_of_interest, establishment]</td>\n",
       "      <td>0</td>\n",
       "      <td>1639 Vine St, Los Angeles</td>\n",
       "      <td>NaN</td>\n",
       "      <td>{'lat': 34.1009837, 'lng': -118.3268649}</td>\n",
       "      <td>{'northeast': {'lat': 34.10233422989272, 'lng'...</td>\n",
       "      <td>34.100984</td>\n",
       "      <td>-118.326865</td>\n",
       "    </tr>\n",
       "    <tr>\n",
       "      <th>5</th>\n",
       "      <td>{'location': {'lat': 34.068921, 'lng': -118.44...</td>\n",
       "      <td>https://maps.gstatic.com/mapfiles/place_api/ic...</td>\n",
       "      <td>4d56f16ad3d8976d49143fa4fdfffbc0a7ce8e39</td>\n",
       "      <td>University of California, Los Angeles</td>\n",
       "      <td>[{'height': 3024, 'html_attributions': ['&lt;a hr...</td>\n",
       "      <td>ChIJZQ9c8IW8woARN0gTXFiTqSU</td>\n",
       "      <td>{'compound_code': '3H93+HW Los Angeles, Califo...</td>\n",
       "      <td>4.5</td>\n",
       "      <td>ChIJZQ9c8IW8woARN0gTXFiTqSU</td>\n",
       "      <td>GOOGLE</td>\n",
       "      <td>[university, point_of_interest, establishment]</td>\n",
       "      <td>1646</td>\n",
       "      <td>Los Angeles</td>\n",
       "      <td>NaN</td>\n",
       "      <td>{'lat': 34.068921, 'lng': -118.4451811}</td>\n",
       "      <td>{'northeast': {'lat': 34.0828575, 'lng': -118....</td>\n",
       "      <td>34.068921</td>\n",
       "      <td>-118.445181</td>\n",
       "    </tr>\n",
       "    <tr>\n",
       "      <th>6</th>\n",
       "      <td>{'location': {'lat': 34.09769540000001, 'lng':...</td>\n",
       "      <td>https://maps.gstatic.com/mapfiles/place_api/ic...</td>\n",
       "      <td>9c9313ee51d1a302774cbb70a1616c8ecef2b7cf</td>\n",
       "      <td>Emerson College Los Angeles Center</td>\n",
       "      <td>[{'height': 2668, 'html_attributions': ['&lt;a hr...</td>\n",
       "      <td>ChIJgY98A82_woARpsIIaqswmDA</td>\n",
       "      <td>{'compound_code': '3MXJ+33 Los Angeles, Califo...</td>\n",
       "      <td>4.0</td>\n",
       "      <td>ChIJgY98A82_woARpsIIaqswmDA</td>\n",
       "      <td>GOOGLE</td>\n",
       "      <td>[university, point_of_interest, establishment]</td>\n",
       "      <td>16</td>\n",
       "      <td>5960 Sunset Blvd, Los Angeles</td>\n",
       "      <td>NaN</td>\n",
       "      <td>{'lat': 34.09769540000001, 'lng': -118.3198129}</td>\n",
       "      <td>{'northeast': {'lat': 34.09922107989271, 'lng'...</td>\n",
       "      <td>34.097695</td>\n",
       "      <td>-118.319813</td>\n",
       "    </tr>\n",
       "    <tr>\n",
       "      <th>7</th>\n",
       "      <td>{'location': {'lat': 34.0302723, 'lng': -118.4...</td>\n",
       "      <td>https://maps.gstatic.com/mapfiles/place_api/ic...</td>\n",
       "      <td>b753d001171a64faf6dfc3653ed772aca2b8dc3d</td>\n",
       "      <td>Emperor's College of Traditional Oriental Medi...</td>\n",
       "      <td>[{'height': 3024, 'html_attributions': ['&lt;a hr...</td>\n",
       "      <td>ChIJJazW30q7woAREdYGVOTaVtk</td>\n",
       "      <td>{'compound_code': '2GJ7+4V Santa Monica, Calif...</td>\n",
       "      <td>5.0</td>\n",
       "      <td>ChIJJazW30q7woAREdYGVOTaVtk</td>\n",
       "      <td>GOOGLE</td>\n",
       "      <td>[university, health, point_of_interest, establ...</td>\n",
       "      <td>11</td>\n",
       "      <td>1807 Wilshire Blvd #200, Santa Monica</td>\n",
       "      <td>{'open_now': True}</td>\n",
       "      <td>{'lat': 34.0302723, 'lng': -118.4853093}</td>\n",
       "      <td>{'northeast': {'lat': 34.03148467989272, 'lng'...</td>\n",
       "      <td>34.030272</td>\n",
       "      <td>-118.485309</td>\n",
       "    </tr>\n",
       "    <tr>\n",
       "      <th>8</th>\n",
       "      <td>{'location': {'lat': 34.1438404, 'lng': -118.3...</td>\n",
       "      <td>https://maps.gstatic.com/mapfiles/place_api/ic...</td>\n",
       "      <td>4d378637e05217ea8d8c0d9b05c1037204996353</td>\n",
       "      <td>New York Film Academy | Los Angeles | Screen A...</td>\n",
       "      <td>[{'height': 2250, 'html_attributions': ['&lt;a hr...</td>\n",
       "      <td>ChIJ7eW407W_woARXQ72fKErcag</td>\n",
       "      <td>{'compound_code': '4MV5+GP Los Angeles, Califo...</td>\n",
       "      <td>3.8</td>\n",
       "      <td>ChIJ7eW407W_woARXQ72fKErcag</td>\n",
       "      <td>GOOGLE</td>\n",
       "      <td>[university, point_of_interest, establishment]</td>\n",
       "      <td>13</td>\n",
       "      <td>3800 Barham Blvd, Los Angeles</td>\n",
       "      <td>NaN</td>\n",
       "      <td>{'lat': 34.1438404, 'lng': -118.3407229}</td>\n",
       "      <td>{'northeast': {'lat': 34.14514162989272, 'lng'...</td>\n",
       "      <td>34.143840</td>\n",
       "      <td>-118.340723</td>\n",
       "    </tr>\n",
       "  </tbody>\n",
       "</table>\n",
       "</div>"
      ],
      "text/plain": [
       "                                            geometry  \\\n",
       "0  {'location': {'lat': 34.0165568, 'lng': -118.4...   \n",
       "1  {'location': {'lat': 34.0042282, 'lng': -118.3...   \n",
       "2  {'location': {'lat': 33.9566849, 'lng': -118.4...   \n",
       "3  {'location': {'lat': 34.1520127, 'lng': -118.3...   \n",
       "4  {'location': {'lat': 34.1009837, 'lng': -118.3...   \n",
       "5  {'location': {'lat': 34.068921, 'lng': -118.44...   \n",
       "6  {'location': {'lat': 34.09769540000001, 'lng':...   \n",
       "7  {'location': {'lat': 34.0302723, 'lng': -118.4...   \n",
       "8  {'location': {'lat': 34.1438404, 'lng': -118.3...   \n",
       "\n",
       "                                                icon  \\\n",
       "0  https://maps.gstatic.com/mapfiles/place_api/ic...   \n",
       "1  https://maps.gstatic.com/mapfiles/place_api/ic...   \n",
       "2  https://maps.gstatic.com/mapfiles/place_api/ic...   \n",
       "3  https://maps.gstatic.com/mapfiles/place_api/ic...   \n",
       "4  https://maps.gstatic.com/mapfiles/place_api/ic...   \n",
       "5  https://maps.gstatic.com/mapfiles/place_api/ic...   \n",
       "6  https://maps.gstatic.com/mapfiles/place_api/ic...   \n",
       "7  https://maps.gstatic.com/mapfiles/place_api/ic...   \n",
       "8  https://maps.gstatic.com/mapfiles/place_api/ic...   \n",
       "\n",
       "                                         id  \\\n",
       "0  a275a24b6da95d70dc896c7ed72bff2b0c08d072   \n",
       "1  ac0f510d8e6a4aba7ec0d78cc20f48a44dfb5aac   \n",
       "2  aab3cd1148dfa9d5407efeb19bf0a1bd8f7a5d86   \n",
       "3  9d22d0d1bbe3e9a51c6f08937e54b7505cc6959d   \n",
       "4  63741ec8116994420f79ae6d6cdde50a2a657b71   \n",
       "5  4d56f16ad3d8976d49143fa4fdfffbc0a7ce8e39   \n",
       "6  9c9313ee51d1a302774cbb70a1616c8ecef2b7cf   \n",
       "7  b753d001171a64faf6dfc3653ed772aca2b8dc3d   \n",
       "8  4d378637e05217ea8d8c0d9b05c1037204996353   \n",
       "\n",
       "                                                name  \\\n",
       "0                               Santa Monica College   \n",
       "1                           West Los Angeles College   \n",
       "2                     Otis College of Art and Design   \n",
       "3                New York Film Academy | Los Angeles   \n",
       "4               Southern California Health Institute   \n",
       "5              University of California, Los Angeles   \n",
       "6                 Emerson College Los Angeles Center   \n",
       "7  Emperor's College of Traditional Oriental Medi...   \n",
       "8  New York Film Academy | Los Angeles | Screen A...   \n",
       "\n",
       "                                              photos  \\\n",
       "0  [{'height': 833, 'html_attributions': ['<a hre...   \n",
       "1  [{'height': 3024, 'html_attributions': ['<a hr...   \n",
       "2  [{'height': 2592, 'html_attributions': ['<a hr...   \n",
       "3  [{'height': 490, 'html_attributions': ['<a hre...   \n",
       "4  [{'height': 319, 'html_attributions': ['<a hre...   \n",
       "5  [{'height': 3024, 'html_attributions': ['<a hr...   \n",
       "6  [{'height': 2668, 'html_attributions': ['<a hr...   \n",
       "7  [{'height': 3024, 'html_attributions': ['<a hr...   \n",
       "8  [{'height': 2250, 'html_attributions': ['<a hr...   \n",
       "\n",
       "                      place_id  \\\n",
       "0  ChIJj9kmJSS7woARdGiSfGFMI5c   \n",
       "1  ChIJaedHyfa5woARvfX-J1IrdEc   \n",
       "2  ChIJiy3U3OmwwoARXUw6sBeWVZE   \n",
       "3  ChIJr6cVNbS_woARHzMMiXk9rds   \n",
       "4  ChIJxWUzZL2_woARdWupE6_FRXg   \n",
       "5  ChIJZQ9c8IW8woARN0gTXFiTqSU   \n",
       "6  ChIJgY98A82_woARpsIIaqswmDA   \n",
       "7  ChIJJazW30q7woAREdYGVOTaVtk   \n",
       "8  ChIJ7eW407W_woARXQ72fKErcag   \n",
       "\n",
       "                                           plus_code  rating  \\\n",
       "0  {'compound_code': '2G8H+JR Santa Monica, Calif...     4.3   \n",
       "1  {'compound_code': '2J37+M4 Culver City, Califo...     3.1   \n",
       "2  {'compound_code': 'XH4M+M4 Los Angeles, Califo...     4.3   \n",
       "3  {'compound_code': '5M27+RR Burbank, California...     4.6   \n",
       "4  {'compound_code': '4M2F+97 Los Angeles, Califo...     0.0   \n",
       "5  {'compound_code': '3H93+HW Los Angeles, Califo...     4.5   \n",
       "6  {'compound_code': '3MXJ+33 Los Angeles, Califo...     4.0   \n",
       "7  {'compound_code': '2GJ7+4V Santa Monica, Calif...     5.0   \n",
       "8  {'compound_code': '4MV5+GP Los Angeles, Califo...     3.8   \n",
       "\n",
       "                     reference   scope  \\\n",
       "0  ChIJj9kmJSS7woARdGiSfGFMI5c  GOOGLE   \n",
       "1  ChIJaedHyfa5woARvfX-J1IrdEc  GOOGLE   \n",
       "2  ChIJiy3U3OmwwoARXUw6sBeWVZE  GOOGLE   \n",
       "3  ChIJr6cVNbS_woARHzMMiXk9rds  GOOGLE   \n",
       "4  ChIJxWUzZL2_woARdWupE6_FRXg  GOOGLE   \n",
       "5  ChIJZQ9c8IW8woARN0gTXFiTqSU  GOOGLE   \n",
       "6  ChIJgY98A82_woARpsIIaqswmDA  GOOGLE   \n",
       "7  ChIJJazW30q7woAREdYGVOTaVtk  GOOGLE   \n",
       "8  ChIJ7eW407W_woARXQ72fKErcag  GOOGLE   \n",
       "\n",
       "                                               types  user_ratings_total  \\\n",
       "0     [university, point_of_interest, establishment]                 331   \n",
       "1     [university, point_of_interest, establishment]                 152   \n",
       "2     [university, point_of_interest, establishment]                  56   \n",
       "3     [university, point_of_interest, establishment]                  83   \n",
       "4     [university, point_of_interest, establishment]                   0   \n",
       "5     [university, point_of_interest, establishment]                1646   \n",
       "6     [university, point_of_interest, establishment]                  16   \n",
       "7  [university, health, point_of_interest, establ...                  11   \n",
       "8     [university, point_of_interest, establishment]                  13   \n",
       "\n",
       "                                vicinity       opening_hours  \\\n",
       "0           1900 Pico Blvd, Santa Monica                 NaN   \n",
       "1         9000 Overland Ave, Culver City  {'open_now': True}   \n",
       "2         9045 Lincoln Blvd, Los Angeles                 NaN   \n",
       "3           3300 W Riverside Dr, Burbank  {'open_now': True}   \n",
       "4              1639 Vine St, Los Angeles                 NaN   \n",
       "5                            Los Angeles                 NaN   \n",
       "6          5960 Sunset Blvd, Los Angeles                 NaN   \n",
       "7  1807 Wilshire Blvd #200, Santa Monica  {'open_now': True}   \n",
       "8          3800 Barham Blvd, Los Angeles                 NaN   \n",
       "\n",
       "                                          location  \\\n",
       "0         {'lat': 34.0165568, 'lng': -118.4703948}   \n",
       "1         {'lat': 34.0042282, 'lng': -118.3871555}   \n",
       "2         {'lat': 33.9566849, 'lng': -118.4171575}   \n",
       "3         {'lat': 34.1520127, 'lng': -118.3353948}   \n",
       "4         {'lat': 34.1009837, 'lng': -118.3268649}   \n",
       "5          {'lat': 34.068921, 'lng': -118.4451811}   \n",
       "6  {'lat': 34.09769540000001, 'lng': -118.3198129}   \n",
       "7         {'lat': 34.0302723, 'lng': -118.4853093}   \n",
       "8         {'lat': 34.1438404, 'lng': -118.3407229}   \n",
       "\n",
       "                                            viewport        lat         lng  \n",
       "0  {'northeast': {'lat': 34.02144849999998, 'lng'...  34.016557 -118.470395  \n",
       "1  {'northeast': {'lat': 34.00557362989272, 'lng'...  34.004228 -118.387156  \n",
       "2  {'northeast': {'lat': 33.95884805, 'lng': -118...  33.956685 -118.417158  \n",
       "3  {'northeast': {'lat': 34.15322257989272, 'lng'...  34.152013 -118.335395  \n",
       "4  {'northeast': {'lat': 34.10233422989272, 'lng'...  34.100984 -118.326865  \n",
       "5  {'northeast': {'lat': 34.0828575, 'lng': -118....  34.068921 -118.445181  \n",
       "6  {'northeast': {'lat': 34.09922107989271, 'lng'...  34.097695 -118.319813  \n",
       "7  {'northeast': {'lat': 34.03148467989272, 'lng'...  34.030272 -118.485309  \n",
       "8  {'northeast': {'lat': 34.14514162989272, 'lng'...  34.143840 -118.340723  "
      ]
     },
     "execution_count": 55,
     "metadata": {},
     "output_type": "execute_result"
    }
   ],
   "source": [
    "#Extracting the info of results column. Splitting the information in order to get lat and lng.\n",
    "df_school=pd.DataFrame(data['results'])\n",
    "\n",
    "\n",
    "exapand_school_column = df_school[[\"geometry\"]].apply(lambda r: r.geometry, result_type=\"expand\", axis=1)\n",
    "data_expanded_school = pd.concat([df_school,exapand_school_column], axis=1)\n",
    "exapand_loc_column = data_expanded_school[[\"location\"]].apply(lambda r: r.location, result_type=\"expand\", axis=1)\n",
    "data_expanded_school_1 = pd.concat([data_expanded_school,exapand_loc_column], axis=1)\n",
    "data_expanded_school_1"
   ]
  },
  {
   "cell_type": "code",
   "execution_count": 53,
   "metadata": {},
   "outputs": [],
   "source": [
    "#Converting Pandas to Geopandas.\n",
    "gdf_school= gpd.GeoDataFrame(data_expanded_school_1, geometry=gpd.points_from_xy(data_expanded_school_1.lng, data_expanded_school_1.lat))"
   ]
  },
  {
   "cell_type": "code",
   "execution_count": 44,
   "metadata": {},
   "outputs": [],
   "source": [
    "#Adding nurseries on map.\n",
    "school = gdf_school[['lat', 'lng']]\n",
    "school_group = folium.FeatureGroup(name=\"School\")\n",
    "school_group.add_child(MarkerCluster(locations=school[['lat', 'lng']]))\n",
    "heat_m_sm=heat_m_sm.add_child(school_group)"
   ]
  },
  {
   "cell_type": "code",
   "execution_count": 45,
   "metadata": {},
   "outputs": [
    {
     "name": "stderr",
     "output_type": "stream",
     "text": [
      "Python-dotenv could not parse statement starting at line 2\n"
     ]
    }
   ],
   "source": [
    "#ADDING AMUSEMENT PARK!\n",
    "load_dotenv()\n",
    "token = os.getenv(\"TOKEN_GOOGLE\")\n",
    "location=\"34.02401,-118.48319\"\n",
    "site='amusement_park'\n",
    "data=requests.get(f\"https://maps.googleapis.com/maps/api/place/nearbysearch/json?location={location}&radius=5000&type={site}&keyword=cruise&key={token}\").json()"
   ]
  },
  {
   "cell_type": "code",
   "execution_count": 46,
   "metadata": {},
   "outputs": [
    {
     "data": {
      "text/html": [
       "<div>\n",
       "<style scoped>\n",
       "    .dataframe tbody tr th:only-of-type {\n",
       "        vertical-align: middle;\n",
       "    }\n",
       "\n",
       "    .dataframe tbody tr th {\n",
       "        vertical-align: top;\n",
       "    }\n",
       "\n",
       "    .dataframe thead th {\n",
       "        text-align: right;\n",
       "    }\n",
       "</style>\n",
       "<table border=\"1\" class=\"dataframe\">\n",
       "  <thead>\n",
       "    <tr style=\"text-align: right;\">\n",
       "      <th></th>\n",
       "      <th>geometry</th>\n",
       "      <th>icon</th>\n",
       "      <th>id</th>\n",
       "      <th>name</th>\n",
       "      <th>opening_hours</th>\n",
       "      <th>photos</th>\n",
       "      <th>place_id</th>\n",
       "      <th>plus_code</th>\n",
       "      <th>rating</th>\n",
       "      <th>reference</th>\n",
       "      <th>scope</th>\n",
       "      <th>types</th>\n",
       "      <th>user_ratings_total</th>\n",
       "      <th>vicinity</th>\n",
       "      <th>location</th>\n",
       "      <th>viewport</th>\n",
       "      <th>lat</th>\n",
       "      <th>lng</th>\n",
       "    </tr>\n",
       "  </thead>\n",
       "  <tbody>\n",
       "    <tr>\n",
       "      <th>0</th>\n",
       "      <td>{'location': {'lat': 34.008576, 'lng': -118.49...</td>\n",
       "      <td>https://maps.gstatic.com/mapfiles/place_api/ic...</td>\n",
       "      <td>46106265190691f9e91e1cd0bc95dab12cd2dffd</td>\n",
       "      <td>Pacific Park</td>\n",
       "      <td>{'open_now': True}</td>\n",
       "      <td>[{'height': 3036, 'html_attributions': ['&lt;a hr...</td>\n",
       "      <td>ChIJdShDN_fAwoARlRtwHmyGais</td>\n",
       "      <td>{'compound_code': '2G52+CQ Santa Monica, Calif...</td>\n",
       "      <td>4.6</td>\n",
       "      <td>ChIJdShDN_fAwoARlRtwHmyGais</td>\n",
       "      <td>GOOGLE</td>\n",
       "      <td>[amusement_park, tourist_attraction, point_of_...</td>\n",
       "      <td>8772</td>\n",
       "      <td>380 Santa Monica Pier, Santa Monica</td>\n",
       "      <td>{'lat': 34.008576, 'lng': -118.498101}</td>\n",
       "      <td>{'northeast': {'lat': 34.01014442989271, 'lng'...</td>\n",
       "      <td>34.008576</td>\n",
       "      <td>-118.498101</td>\n",
       "    </tr>\n",
       "  </tbody>\n",
       "</table>\n",
       "</div>"
      ],
      "text/plain": [
       "                                            geometry  \\\n",
       "0  {'location': {'lat': 34.008576, 'lng': -118.49...   \n",
       "\n",
       "                                                icon  \\\n",
       "0  https://maps.gstatic.com/mapfiles/place_api/ic...   \n",
       "\n",
       "                                         id          name       opening_hours  \\\n",
       "0  46106265190691f9e91e1cd0bc95dab12cd2dffd  Pacific Park  {'open_now': True}   \n",
       "\n",
       "                                              photos  \\\n",
       "0  [{'height': 3036, 'html_attributions': ['<a hr...   \n",
       "\n",
       "                      place_id  \\\n",
       "0  ChIJdShDN_fAwoARlRtwHmyGais   \n",
       "\n",
       "                                           plus_code  rating  \\\n",
       "0  {'compound_code': '2G52+CQ Santa Monica, Calif...     4.6   \n",
       "\n",
       "                     reference   scope  \\\n",
       "0  ChIJdShDN_fAwoARlRtwHmyGais  GOOGLE   \n",
       "\n",
       "                                               types  user_ratings_total  \\\n",
       "0  [amusement_park, tourist_attraction, point_of_...                8772   \n",
       "\n",
       "                              vicinity  \\\n",
       "0  380 Santa Monica Pier, Santa Monica   \n",
       "\n",
       "                                 location  \\\n",
       "0  {'lat': 34.008576, 'lng': -118.498101}   \n",
       "\n",
       "                                            viewport        lat         lng  \n",
       "0  {'northeast': {'lat': 34.01014442989271, 'lng'...  34.008576 -118.498101  "
      ]
     },
     "execution_count": 46,
     "metadata": {},
     "output_type": "execute_result"
    }
   ],
   "source": [
    "#Extracting the info of results column. Splitting the information in order to get lat and lng.\n",
    "df_park=pd.DataFrame(data['results'])\n",
    "exapand_park_column = df_park[[\"geometry\"]].apply(lambda r: r.geometry, result_type=\"expand\", axis=1)\n",
    "data_expanded_park = pd.concat([df_park,exapand_park_column], axis=1)\n",
    "exapand_loc_column = data_expanded_park[[\"location\"]].apply(lambda r: r.location, result_type=\"expand\", axis=1)\n",
    "data_expanded_park_1 = pd.concat([data_expanded_park,exapand_loc_column], axis=1)\n",
    "data_expanded_park_1"
   ]
  },
  {
   "cell_type": "code",
   "execution_count": 47,
   "metadata": {},
   "outputs": [],
   "source": [
    "#Converting Pandas to Geopandas.\n",
    "gdf_rest_geo = gpd.GeoDataFrame(data_expanded_park_1, geometry=gpd.points_from_xy(data_expanded_park_1.lng, data_expanded_park_1.lat))"
   ]
  },
  {
   "cell_type": "code",
   "execution_count": 48,
   "metadata": {},
   "outputs": [
    {
     "data": {
      "text/plain": [
       "<folium.map.LayerControl at 0x1254b7210>"
      ]
     },
     "execution_count": 48,
     "metadata": {},
     "output_type": "execute_result"
    }
   ],
   "source": [
    "#Adding amusement park on map.\n",
    "park = gdf_rest_geo[['lat', 'lng']]\n",
    "park_group = folium.FeatureGroup(name=\"Amusement Park\")\n",
    "park_group.add_child(MarkerCluster(locations=gdf_rest_geo[['lat', 'lng']]))\n",
    "heat_m_sm.add_child(park_group)\n",
    "folium.LayerControl(collapsed=False).add_to(heat_m_sm)"
   ]
  },
  {
   "cell_type": "code",
   "execution_count": 49,
   "metadata": {},
   "outputs": [
    {
     "data": {
      "text/html": [
       "<div style=\"width:100%;\"><div style=\"position:relative;width:100%;height:0;padding-bottom:60%;\"><iframe src=\"data:text/html;charset=utf-8;base64,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\" style=\"position:absolute;width:100%;height:100%;left:0;top:0;border:none !important;\" allowfullscreen webkitallowfullscreen mozallowfullscreen></iframe></div></div>"
      ],
      "text/plain": [
       "<folium.folium.Map at 0x1254bf6d0>"
      ]
     },
     "execution_count": 49,
     "metadata": {},
     "output_type": "execute_result"
    }
   ],
   "source": [
    "heat_m_sm"
   ]
  },
  {
   "cell_type": "markdown",
   "metadata": {},
   "source": [
    "## CONCLUSION"
   ]
  },
  {
   "cell_type": "markdown",
   "metadata": {},
   "source": [
    "As per collected information, Santa Monica seems to be a good city to allocate a gaming company, since it has an airport close to the city, near universities, near places to have fun with family or work colleagues and there are a lot of gaming companies around too, so, knowledge is guaranteed."
   ]
  },
  {
   "cell_type": "code",
   "execution_count": null,
   "metadata": {},
   "outputs": [],
   "source": []
  }
 ],
 "metadata": {
  "kernelspec": {
   "display_name": "Python 3",
   "language": "python",
   "name": "python3"
  },
  "language_info": {
   "codemirror_mode": {
    "name": "ipython",
    "version": 3
   },
   "file_extension": ".py",
   "mimetype": "text/x-python",
   "name": "python",
   "nbconvert_exporter": "python",
   "pygments_lexer": "ipython3",
   "version": "3.7.6"
  }
 },
 "nbformat": 4,
 "nbformat_minor": 4
}
