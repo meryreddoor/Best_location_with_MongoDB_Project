{
 "cells": [
  {
   "cell_type": "markdown",
   "metadata": {},
   "source": [
    "# BEST CITY TO ALLOCATE A GAMING COMPANY"
   ]
  },
  {
   "cell_type": "markdown",
   "metadata": {},
   "source": [
    "## Libraries"
   ]
  },
  {
   "cell_type": "code",
   "execution_count": 1,
   "metadata": {},
   "outputs": [],
   "source": [
    "import pandas as pd\n",
    "import numpy as np\n",
    "import requests\n",
    "import math\n",
    "import os\n",
    "from dotenv import load_dotenv\n",
    "\n",
    "from pymongo import MongoClient\n",
    "\n",
    "import geopandas as gpd\n",
    "from geopy.distance import distance\n",
    "from geopy.distance import geodesic \n",
    "from shapely.geometry import Point\n",
    "from geopy.distance import great_circle\n",
    "from descartes import PolygonPatch\n",
    "\n",
    "import matplotlib.pyplot as plt\n",
    "%matplotlib inline\n",
    "\n",
    "import folium\n",
    "from folium import plugins\n",
    "from folium import Choropleth, Circle, Marker\n",
    "from folium.plugins import HeatMap, MarkerCluster"
   ]
  },
  {
   "cell_type": "markdown",
   "metadata": {},
   "source": [
    "## MongoDB - Companies Data"
   ]
  },
  {
   "cell_type": "code",
   "execution_count": 2,
   "metadata": {},
   "outputs": [],
   "source": [
    "#Importing companies.json from mongodb.\n",
    "client = MongoClient(\"mongodb://localhost/companies\")\n",
    "db = client.get_database()"
   ]
  },
  {
   "cell_type": "markdown",
   "metadata": {},
   "source": [
    "Importing companies data from MongoDB.\n",
    "\n",
    "Filtering by gaming/video companies and the employees > 10 prs."
   ]
  },
  {
   "cell_type": "code",
   "execution_count": 3,
   "metadata": {},
   "outputs": [],
   "source": [
    "query={\"$and\":[{\"category_code\":{\"$eq\":\"games_video\"}},{\"number_of_employees\":{\"$gte\":10}}]}\n",
    "list_companies=list(db['companies'].find((query),{\"category_code\":1,'number_of_employees':1,'name':1,\"total_money_raised\":1,\"offices\":1,'_id':0}).sort(\"number_of_employees\",-1))"
   ]
  },
  {
   "cell_type": "code",
   "execution_count": 4,
   "metadata": {},
   "outputs": [],
   "source": [
    "#Converting the info into 'pandas'\n",
    "df = pd.DataFrame(list_companies)"
   ]
  },
  {
   "cell_type": "code",
   "execution_count": 5,
   "metadata": {},
   "outputs": [],
   "source": [
    "#Removing duplicates.\n",
    "df = df.drop_duplicates(subset='name', keep='first')"
   ]
  },
  {
   "cell_type": "code",
   "execution_count": 6,
   "metadata": {},
   "outputs": [],
   "source": [
    "#Removing the NAN values from offices column.\n",
    "df.dropna(subset=['offices'], inplace=True)"
   ]
  },
  {
   "cell_type": "code",
   "execution_count": 7,
   "metadata": {},
   "outputs": [],
   "source": [
    "#Removing the lists from offices column \n",
    "df = df.explode('offices')"
   ]
  },
  {
   "cell_type": "code",
   "execution_count": 8,
   "metadata": {},
   "outputs": [],
   "source": [
    "#Expand information from offices column.\n",
    "exapand_office_column = df[[\"offices\"]].apply(lambda r: r.offices, result_type=\"expand\", axis=1)\n",
    "data_expanded = pd.concat([df,exapand_office_column], axis=1)"
   ]
  },
  {
   "cell_type": "code",
   "execution_count": 9,
   "metadata": {},
   "outputs": [],
   "source": [
    "#Removing old column with lists.\n",
    "df_companies = data_expanded.drop(columns=[\"offices\"])"
   ]
  },
  {
   "cell_type": "code",
   "execution_count": 10,
   "metadata": {},
   "outputs": [],
   "source": [
    "#Removing the NAN long and latt columns.\n",
    "df_companies.dropna(subset=['latitude'], inplace=True)\n",
    "df_companies.dropna(subset=['longitude'], inplace=True)"
   ]
  },
  {
   "cell_type": "markdown",
   "metadata": {},
   "source": [
    "## TOP 5 CITIES WITH MORE GAMING COMPANIES"
   ]
  },
  {
   "cell_type": "code",
   "execution_count": 11,
   "metadata": {},
   "outputs": [
    {
     "data": {
      "image/png": "[encoded data removed]",
      "text/plain": [
       "<Figure size 2160x720 with 1 Axes>"
      ]
     },
     "metadata": {
      "needs_background": "light"
     },
     "output_type": "display_data"
    }
   ],
   "source": [
    "#TOP5 cities with more companies with 'category code' = 'video_games'\n",
    "\n",
    "graph_df=df_companies[['city','name']]\n",
    "graphic= graph_df.groupby('city').count().sort_values('name',ascending = False).head()\n",
    "\n",
    "graphic.plot.bar(figsize=(30,10));\n",
    "plt.legend([\"Total amount company/city\"])\n",
    "plt.title(\"TOP 5 - Number of gaming companies by city\")\n",
    "plt.xlabel(\"Cities\")\n",
    "plt.ylabel(\"Number of companies\");"
   ]
  },
  {
   "cell_type": "markdown",
   "metadata": {},
   "source": [
    "# Comparing Km for Companies & Airports"
   ]
  },
  {
   "cell_type": "markdown",
   "metadata": {},
   "source": [
    "### SAN FRANCISCO"
   ]
  },
  {
   "cell_type": "markdown",
   "metadata": {},
   "source": [
    "1- COMPANIES"
   ]
  },
  {
   "cell_type": "code",
   "execution_count": 12,
   "metadata": {},
   "outputs": [
    {
     "data": {
      "text/plain": [
       "{'type': 'Point', 'coordinates': [-122.40438, 37.66873]}"
      ]
     },
     "execution_count": 12,
     "metadata": {},
     "output_type": "execute_result"
    }
   ],
   "source": [
    "def geocode(address):\n",
    "    data = requests.get(f\"https://geocode.xyz/{address}?json=1\").json()\n",
    "    return {\n",
    "        \"type\":\"Point\",\n",
    "        \"coordinates\":[float(data[\"longt\"]),float(data[\"latt\"])]\n",
    "    }\n",
    "sf = geocode(\"San Francisco, CA, USA\")\n",
    "sf"
   ]
  },
  {
   "cell_type": "code",
   "execution_count": 13,
   "metadata": {},
   "outputs": [],
   "source": [
    "def withGeoQuery(location,maxDistance=15000,minDistance=0,field=\"location\"):\n",
    "    return {\n",
    "       field: {\n",
    "         \"$near\": {\n",
    "           \"$geometry\": location if type(location)==dict else geocode(location),\n",
    "           \"$maxDistance\": maxDistance,\n",
    "           \"$minDistance\": minDistance\n",
    "         }\n",
    "       }\n",
    "    }\n",
    "query = withGeoQuery(sf)"
   ]
  },
  {
   "cell_type": "code",
   "execution_count": 14,
   "metadata": {},
   "outputs": [
    {
     "name": "stdout",
     "output_type": "stream",
     "text": [
      "18 companies\n"
     ]
    }
   ],
   "source": [
    "#There are 18 gaming companies - 15 Km.\n",
    "comp_sf = list(db[\"cleancompanies\"].find(query))\n",
    "print(len(comp_sf),'companies')"
   ]
  },
  {
   "cell_type": "markdown",
   "metadata": {},
   "source": [
    "2- AIRPORT"
   ]
  },
  {
   "cell_type": "code",
   "execution_count": 15,
   "metadata": {},
   "outputs": [
    {
     "name": "stderr",
     "output_type": "stream",
     "text": [
      "Python-dotenv could not parse statement starting at line 2\n"
     ]
    },
    {
     "name": "stdout",
     "output_type": "stream",
     "text": [
      "Lat. =  37.6213129\n",
      "Long =  -122.3789554\n"
     ]
    }
   ],
   "source": [
    "load_dotenv()\n",
    "token = os.getenv(\"TOKEN_GOOGLE\")\n",
    "address='San Francisco Airport'\n",
    "data = requests.get(f\"https://maps.googleapis.com/maps/api/geocode/json?address={address}&key={token}\").json()\n",
    "lat_sf_airport=(data['results'][0]['geometry']['location']['lat'])\n",
    "long_sf_airport=(data['results'][0]['geometry']['location']['lng'])\n",
    "print('Lat. = ',lat_sf_airport)\n",
    "print('Long = ',long_sf_airport)"
   ]
  },
  {
   "cell_type": "code",
   "execution_count": 16,
   "metadata": {},
   "outputs": [
    {
     "name": "stdout",
     "output_type": "stream",
     "text": [
      "Km from San Francisco to SF Airport = 5.728065177954947 km\n"
     ]
    }
   ],
   "source": [
    "#KM between airport & city\n",
    "\n",
    "sf = (37.66873,-122.40438) \n",
    "airport_sf = (37.6213129,-122.3789554) \n",
    "print('Km from San Francisco to SF Airport =', great_circle(sf, airport_sf).km,'km')"
   ]
  },
  {
   "cell_type": "markdown",
   "metadata": {},
   "source": [
    "### NEW YORK"
   ]
  },
  {
   "cell_type": "markdown",
   "metadata": {},
   "source": [
    "1- COMPANIES "
   ]
  },
  {
   "cell_type": "code",
   "execution_count": 17,
   "metadata": {},
   "outputs": [
    {
     "data": {
      "text/plain": [
       "{'type': 'Point', 'coordinates': [-73.9586, 40.68908]}"
      ]
     },
     "execution_count": 17,
     "metadata": {},
     "output_type": "execute_result"
    }
   ],
   "source": [
    "def geocode(address):\n",
    "    data = requests.get(f\"https://geocode.xyz/{address}?json=1\").json()\n",
    "    return {\n",
    "        \"type\":\"Point\",\n",
    "        \"coordinates\":[float(data[\"longt\"]),float(data[\"latt\"])]\n",
    "    }\n",
    "ny = geocode(\"New York, USA\")\n",
    "ny"
   ]
  },
  {
   "cell_type": "code",
   "execution_count": 18,
   "metadata": {},
   "outputs": [],
   "source": [
    "def withGeoQuery(location,maxDistance=15000,minDistance=0,field=\"location\"):\n",
    "    return {\n",
    "       field: {\n",
    "         \"$near\": {\n",
    "           \"$geometry\": location if type(location)==dict else geocode(location),\n",
    "           \"$maxDistance\": maxDistance,\n",
    "           \"$minDistance\": minDistance\n",
    "         }\n",
    "       }\n",
    "    }\n",
    "query = withGeoQuery(ny)"
   ]
  },
  {
   "cell_type": "code",
   "execution_count": 19,
   "metadata": {},
   "outputs": [
    {
     "name": "stdout",
     "output_type": "stream",
     "text": [
      "17 companies\n"
     ]
    }
   ],
   "source": [
    "#There are 17 gaming companies - 15 Km.\n",
    "comp_ny = list(db[\"cleancompanies\"].find(query))\n",
    "print(len(comp_ny),'companies')"
   ]
  },
  {
   "cell_type": "markdown",
   "metadata": {},
   "source": [
    "2- AIRPORT"
   ]
  },
  {
   "cell_type": "code",
   "execution_count": 20,
   "metadata": {},
   "outputs": [
    {
     "name": "stderr",
     "output_type": "stream",
     "text": [
      "Python-dotenv could not parse statement starting at line 2\n"
     ]
    },
    {
     "name": "stdout",
     "output_type": "stream",
     "text": [
      "Lat. =  40.6413111\n",
      "Long =  -73.77813909999999\n"
     ]
    }
   ],
   "source": [
    "load_dotenv()\n",
    "token = os.getenv(\"TOKEN_GOOGLE\")\n",
    "address='New York KFC Airport'\n",
    "data = requests.get(f\"https://maps.googleapis.com/maps/api/geocode/json?address={address}&key={token}\").json()\n",
    "lat_ny_airport=(data['results'][0]['geometry']['location']['lat'])\n",
    "long_ny_airport=(data['results'][0]['geometry']['location']['lng'])\n",
    "print('Lat. = ',lat_ny_airport)\n",
    "print('Long = ',long_ny_airport)"
   ]
  },
  {
   "cell_type": "code",
   "execution_count": 21,
   "metadata": {},
   "outputs": [
    {
     "name": "stdout",
     "output_type": "stream",
     "text": [
      "Km from NY to NY Airport = 16.12113145961942 km\n"
     ]
    }
   ],
   "source": [
    "#KM between airport & city\n",
    "\n",
    "ny = (40.68908,-73.9586) \n",
    "airport_ny = (40.6413111,-73.77813909999999) \n",
    "print('Km from NY to NY Airport =', great_circle(ny, airport_ny).km,'km')"
   ]
  },
  {
   "cell_type": "markdown",
   "metadata": {},
   "source": [
    "### LOS ANGELES"
   ]
  },
  {
   "cell_type": "markdown",
   "metadata": {},
   "source": [
    "1- COMPANIES"
   ]
  },
  {
   "cell_type": "code",
   "execution_count": 22,
   "metadata": {},
   "outputs": [
    {
     "data": {
      "text/plain": [
       "{'type': 'Point', 'coordinates': [-118.29757, 34.04015]}"
      ]
     },
     "execution_count": 22,
     "metadata": {},
     "output_type": "execute_result"
    }
   ],
   "source": [
    "def geocode(address):\n",
    "    data = requests.get(f\"https://geocode.xyz/{address}?json=1\").json()\n",
    "    return {\n",
    "        \"type\":\"Point\",\n",
    "        \"coordinates\":[float(data[\"longt\"]),float(data[\"latt\"])]\n",
    "    }\n",
    "la = geocode(\"Los Angeles\")\n",
    "la"
   ]
  },
  {
   "cell_type": "code",
   "execution_count": 23,
   "metadata": {},
   "outputs": [],
   "source": [
    "def withGeoQuery(location,maxDistance=15000,minDistance=0,field=\"location\"):\n",
    "    return {\n",
    "       field: {\n",
    "         \"$near\": {\n",
    "           \"$geometry\": location if type(location)==dict else geocode(location),\n",
    "           \"$maxDistance\": maxDistance,\n",
    "           \"$minDistance\": minDistance\n",
    "         }\n",
    "       }\n",
    "    }\n",
    "query = withGeoQuery(la)"
   ]
  },
  {
   "cell_type": "code",
   "execution_count": 24,
   "metadata": {},
   "outputs": [
    {
     "name": "stdout",
     "output_type": "stream",
     "text": [
      "12 companies\n"
     ]
    }
   ],
   "source": [
    "#There are 12 gaming companies - 15 Km.\n",
    "comp_la = list(db[\"cleancompanies\"].find(query))\n",
    "print(len(comp_la),'companies')"
   ]
  },
  {
   "cell_type": "markdown",
   "metadata": {},
   "source": [
    "2- AIRPORT"
   ]
  },
  {
   "cell_type": "code",
   "execution_count": 25,
   "metadata": {},
   "outputs": [
    {
     "name": "stderr",
     "output_type": "stream",
     "text": [
      "Python-dotenv could not parse statement starting at line 2\n"
     ]
    },
    {
     "name": "stdout",
     "output_type": "stream",
     "text": [
      "Lat. =  33.9415889\n",
      "Long =  -118.40853\n"
     ]
    }
   ],
   "source": [
    "load_dotenv()\n",
    "token = os.getenv(\"TOKEN_GOOGLE\")\n",
    "address='Los Angeles Airport'\n",
    "data = requests.get(f\"https://maps.googleapis.com/maps/api/geocode/json?address={address}&key={token}\").json()\n",
    "lat_la_airport=(data['results'][0]['geometry']['location']['lat'])\n",
    "long_la_airport=(data['results'][0]['geometry']['location']['lng'])\n",
    "print('Lat. = ',lat_la_airport)\n",
    "print('Long = ',long_la_airport)"
   ]
  },
  {
   "cell_type": "code",
   "execution_count": 26,
   "metadata": {},
   "outputs": [
    {
     "name": "stdout",
     "output_type": "stream",
     "text": [
      "Km from LA to LA Airport = 14.992077104477458 km\n"
     ]
    }
   ],
   "source": [
    "#KM between airport & city\n",
    "\n",
    "la = (34.04015,-118.29757) \n",
    "airport_la = (33.9415889,-118.40853) \n",
    "print('Km from LA to LA Airport =', great_circle(la, airport_la).km,'km')"
   ]
  },
  {
   "cell_type": "markdown",
   "metadata": {},
   "source": [
    "### PARIS"
   ]
  },
  {
   "cell_type": "markdown",
   "metadata": {},
   "source": [
    "1- COMPANIES"
   ]
  },
  {
   "cell_type": "code",
   "execution_count": 27,
   "metadata": {},
   "outputs": [
    {
     "data": {
      "text/plain": [
       "{'type': 'Point', 'coordinates': [2.34293, 48.85717]}"
      ]
     },
     "execution_count": 27,
     "metadata": {},
     "output_type": "execute_result"
    }
   ],
   "source": [
    "def geocode(address):\n",
    "    data = requests.get(f\"https://geocode.xyz/{address}?json=1\").json()\n",
    "    return {\n",
    "        \"type\":\"Point\",\n",
    "        \"coordinates\":[float(data[\"longt\"]),float(data[\"latt\"])]\n",
    "    }\n",
    "paris = geocode(\"Paris\")\n",
    "paris"
   ]
  },
  {
   "cell_type": "code",
   "execution_count": 28,
   "metadata": {},
   "outputs": [],
   "source": [
    "def withGeoQuery(location,maxDistance=15000,minDistance=0,field=\"location\"):\n",
    "    return {\n",
    "       field: {\n",
    "         \"$near\": {\n",
    "           \"$geometry\": location if type(location)==dict else geocode(location),\n",
    "           \"$maxDistance\": maxDistance,\n",
    "           \"$minDistance\": minDistance\n",
    "         }\n",
    "       }\n",
    "    }\n",
    "query = withGeoQuery(paris)"
   ]
  },
  {
   "cell_type": "code",
   "execution_count": 29,
   "metadata": {},
   "outputs": [
    {
     "name": "stdout",
     "output_type": "stream",
     "text": [
      "4 companies\n"
     ]
    }
   ],
   "source": [
    "#There are 4 gaming companies - 15 Km.\n",
    "comp_paris = list(db[\"cleancompanies\"].find(query))\n",
    "print(len(comp_paris),'companies')"
   ]
  },
  {
   "cell_type": "markdown",
   "metadata": {},
   "source": [
    "2- AIRPORT"
   ]
  },
  {
   "cell_type": "code",
   "execution_count": 30,
   "metadata": {},
   "outputs": [
    {
     "name": "stderr",
     "output_type": "stream",
     "text": [
      "Python-dotenv could not parse statement starting at line 2\n"
     ]
    },
    {
     "name": "stdout",
     "output_type": "stream",
     "text": [
      "Lat. =  49.0096906\n",
      "Long =  2.5479245\n"
     ]
    }
   ],
   "source": [
    "load_dotenv()\n",
    "token = os.getenv(\"TOKEN_GOOGLE\")\n",
    "address='Paris-Charles De Gaulle'\n",
    "data = requests.get(f\"https://maps.googleapis.com/maps/api/geocode/json?address={address}&key={token}\").json()\n",
    "lat_paris_airport=(data['results'][0]['geometry']['location']['lat'])\n",
    "long_paris_airport=(data['results'][0]['geometry']['location']['lng'])\n",
    "print('Lat. = ',lat_paris_airport)\n",
    "print('Long = ',long_paris_airport)"
   ]
  },
  {
   "cell_type": "code",
   "execution_count": 31,
   "metadata": {},
   "outputs": [
    {
     "name": "stdout",
     "output_type": "stream",
     "text": [
      "Km from Paris to Paris-Charles De Gaulle = 22.62430090103764 km\n"
     ]
    }
   ],
   "source": [
    "#KM between airport & city\n",
    "\n",
    "paris = (48.85717,2.34293) \n",
    "airport_paris = (49.0096906,2.5479245) \n",
    "print('Km from Paris to Paris-Charles De Gaulle =', great_circle(paris, airport_paris).km,'km')"
   ]
  },
  {
   "cell_type": "markdown",
   "metadata": {},
   "source": [
    "### SANTA MONICA"
   ]
  },
  {
   "cell_type": "markdown",
   "metadata": {},
   "source": [
    "1- COMPANIES"
   ]
  },
  {
   "cell_type": "code",
   "execution_count": 32,
   "metadata": {},
   "outputs": [
    {
     "data": {
      "text/plain": [
       "{'type': 'Point', 'coordinates': [-118.48319, 34.02401]}"
      ]
     },
     "execution_count": 32,
     "metadata": {},
     "output_type": "execute_result"
    }
   ],
   "source": [
    "def geocode(address):\n",
    "    data = requests.get(f\"https://geocode.xyz/{address}?json=1\").json()\n",
    "    return {\n",
    "        \"type\":\"Point\",\n",
    "        \"coordinates\":[float(data[\"longt\"]),float(data[\"latt\"])]\n",
    "    }\n",
    "sm = geocode(\"Santa Monica, CA, USA\")\n",
    "sm"
   ]
  },
  {
   "cell_type": "code",
   "execution_count": 33,
   "metadata": {},
   "outputs": [],
   "source": [
    "def withGeoQuery(location,maxDistance=15000,minDistance=0,field=\"location\"):\n",
    "    return {\n",
    "       field: {\n",
    "         \"$near\": {\n",
    "           \"$geometry\": location if type(location)==dict else geocode(location),\n",
    "           \"$maxDistance\": maxDistance,\n",
    "           \"$minDistance\": minDistance\n",
    "         }\n",
    "       }\n",
    "    }\n",
    "query = withGeoQuery(sm)"
   ]
  },
  {
   "cell_type": "code",
   "execution_count": 34,
   "metadata": {},
   "outputs": [
    {
     "name": "stdout",
     "output_type": "stream",
     "text": [
      "12 companies\n"
     ]
    }
   ],
   "source": [
    "#There are 4 gaming companies - 15 Km.\n",
    "comp_sm = list(db[\"cleancompanies\"].find(query))\n",
    "print(len(comp_sm),'companies')"
   ]
  },
  {
   "cell_type": "markdown",
   "metadata": {},
   "source": [
    "2- AIRPORT"
   ]
  },
  {
   "cell_type": "code",
   "execution_count": 35,
   "metadata": {},
   "outputs": [
    {
     "name": "stderr",
     "output_type": "stream",
     "text": [
      "Python-dotenv could not parse statement starting at line 2\n"
     ]
    },
    {
     "name": "stdout",
     "output_type": "stream",
     "text": [
      "Lat. =  34.0178143\n",
      "Long. =  -118.4473286\n"
     ]
    }
   ],
   "source": [
    "load_dotenv()\n",
    "token = os.getenv(\"TOKEN_GOOGLE\")\n",
    "address='Santa Monica Airport'\n",
    "data = requests.get(f\"https://maps.googleapis.com/maps/api/geocode/json?address={address}&key={token}\").json()\n",
    "lat_paris_airport=(data['results'][0]['geometry']['location']['lat'])\n",
    "long_paris_airport=(data['results'][0]['geometry']['location']['lng'])\n",
    "print('Lat. = ',lat_paris_airport)\n",
    "print('Long. = ',long_paris_airport)"
   ]
  },
  {
   "cell_type": "code",
   "execution_count": 36,
   "metadata": {},
   "outputs": [
    {
     "name": "stdout",
     "output_type": "stream",
     "text": [
      "Km from Santa Monica to Santa Monica Airport = 3.3761049677896473 km\n"
     ]
    }
   ],
   "source": [
    "#KM between airport & city\n",
    "\n",
    "sm = (34.02401,-118.48319) \n",
    "airport_sm = (34.0178143,-118.4473286) \n",
    "print('Km from Santa Monica to Santa Monica Airport =', great_circle(sm, airport_sm).km,'km')"
   ]
  },
  {
   "cell_type": "markdown",
   "metadata": {},
   "source": [
    "### NEXT STEPS:\n",
    "\n",
    "Santa Monica is the closest city to the airport and has a huge amount of gaming companies around, thus, this city will be further analyzed."
   ]
  },
  {
   "cell_type": "markdown",
   "metadata": {},
   "source": [
    "# Convertig DataFrame into GeoDataFrame"
   ]
  },
  {
   "cell_type": "markdown",
   "metadata": {},
   "source": [
    "### GAMING COMPANIES"
   ]
  },
  {
   "cell_type": "code",
   "execution_count": 37,
   "metadata": {},
   "outputs": [],
   "source": [
    "gdf = gpd.GeoDataFrame(df_companies, geometry=gpd.points_from_xy(df_companies.longitude, df_companies.latitude))"
   ]
  },
  {
   "cell_type": "code",
   "execution_count": 38,
   "metadata": {},
   "outputs": [
    {
     "data": {
      "text/plain": [
       "<folium.map.Marker at 0x124174610>"
      ]
     },
     "execution_count": 38,
     "metadata": {},
     "output_type": "execute_result"
    }
   ],
   "source": [
    "#Adding Companies on heatmap.\n",
    "start_lat = 34.02401\n",
    "start_lon = -118.48319\n",
    "heat_m_sm = folium.Map(location=[start_lat, start_lon],tiles='cartodbpositron', zoom_start=15)\n",
    "Marker([start_lat, start_lon], icon=folium.Icon(color='blue')).add_to(heat_m_sm)"
   ]
  },
  {
   "cell_type": "code",
   "execution_count": 39,
   "metadata": {},
   "outputs": [
    {
     "data": {
      "text/plain": [
       "<folium.map.FeatureGroup at 0x123bf17d0>"
      ]
     },
     "execution_count": 39,
     "metadata": {},
     "output_type": "execute_result"
    }
   ],
   "source": [
    "#Printing companies on heatmap.\n",
    "companies = gdf\n",
    "companies_group = folium.FeatureGroup(name=\"Gaming Companies\")\n",
    "HeatMap(data=companies[['latitude', 'longitude']],radius=15).add_to(companies_group)\n",
    "companies_group.add_to(heat_m_sm)"
   ]
  },
  {
   "cell_type": "markdown",
   "metadata": {},
   "source": [
    "### AIRPORT"
   ]
  },
  {
   "cell_type": "code",
   "execution_count": 40,
   "metadata": {},
   "outputs": [],
   "source": [
    "#ADDING AIRPORT\n",
    "airport_long, airport_lat = -118.4459796197085, 34.01916328029149\n",
    "heat_m_sm=heat_m_sm.add_child(Marker([airport_lat, airport_long], icon=folium.Icon(icon='plane',color='lightblue')))"
   ]
  },
  {
   "cell_type": "markdown",
   "metadata": {},
   "source": [
    "### UNIVERSITIES"
   ]
  },
  {
   "cell_type": "code",
   "execution_count": 41,
   "metadata": {},
   "outputs": [
    {
     "name": "stderr",
     "output_type": "stream",
     "text": [
      "Python-dotenv could not parse statement starting at line 2\n"
     ]
    }
   ],
   "source": [
    "#ADDING UNIVERSITIES\n",
    "load_dotenv()\n",
    "token = os.getenv(\"TOKEN_GOOGLE\")\n",
    "location=\"34.02401,-118.48319\"\n",
    "site='university'\n",
    "data=requests.get(f\"https://maps.googleapis.com/maps/api/place/nearbysearch/json?location={location}&radius=15000&type={site}&keyword=cruise&key={token}\").json()"
   ]
  },
  {
   "cell_type": "code",
   "execution_count": 42,
   "metadata": {},
   "outputs": [],
   "source": [
    "#Extracting the info of results column. Splitting the information in order to get lat and lng.\n",
    "df_school=pd.DataFrame(data['results'])\n",
    "exapand_school_column = df_school[[\"geometry\"]].apply(lambda r: r.geometry, result_type=\"expand\", axis=1)\n",
    "data_expanded_school = pd.concat([df_school,exapand_school_column], axis=1)\n",
    "exapand_loc_column = data_expanded_school[[\"location\"]].apply(lambda r: r.location, result_type=\"expand\", axis=1)\n",
    "data_expanded_school_1 = pd.concat([data_expanded_school,exapand_loc_column], axis=1)"
   ]
  },
  {
   "cell_type": "code",
   "execution_count": 43,
   "metadata": {},
   "outputs": [],
   "source": [
    "#Converting Pandas to Geopandas.\n",
    "gdf_school= gpd.GeoDataFrame(data_expanded_school_1, geometry=gpd.points_from_xy(data_expanded_school_1.lng, data_expanded_school_1.lat))"
   ]
  },
  {
   "cell_type": "code",
   "execution_count": 44,
   "metadata": {},
   "outputs": [],
   "source": [
    "#Adding universities on map.\n",
    "school = gdf_school[['lat', 'lng']]\n",
    "school_group = folium.FeatureGroup(name=\"Universities\")\n",
    "school_group.add_child(MarkerCluster(locations=school[['lat', 'lng']]))\n",
    "heat_m_sm=heat_m_sm.add_child(school_group)"
   ]
  },
  {
   "cell_type": "markdown",
   "metadata": {},
   "source": [
    "### PARKS"
   ]
  },
  {
   "cell_type": "code",
   "execution_count": 45,
   "metadata": {},
   "outputs": [
    {
     "name": "stderr",
     "output_type": "stream",
     "text": [
      "Python-dotenv could not parse statement starting at line 2\n"
     ]
    }
   ],
   "source": [
    "#ADDING Parks\n",
    "load_dotenv()\n",
    "token = os.getenv(\"TOKEN_GOOGLE\")\n",
    "location=\"34.02401,-118.48319\"\n",
    "site='amusement_park'\n",
    "data=requests.get(f\"https://maps.googleapis.com/maps/api/place/nearbysearch/json?location={location}&radius=5000&type={site}&keyword=cruise&key={token}\").json()"
   ]
  },
  {
   "cell_type": "code",
   "execution_count": 46,
   "metadata": {},
   "outputs": [],
   "source": [
    "#Extracting the info of results column. Splitting the information in order to get lat and lng.\n",
    "df_park=pd.DataFrame(data['results'])\n",
    "exapand_park_column = df_park[[\"geometry\"]].apply(lambda r: r.geometry, result_type=\"expand\", axis=1)\n",
    "data_expanded_park = pd.concat([df_park,exapand_park_column], axis=1)\n",
    "exapand_loc_column = data_expanded_park[[\"location\"]].apply(lambda r: r.location, result_type=\"expand\", axis=1)\n",
    "data_expanded_park_1 = pd.concat([data_expanded_park,exapand_loc_column], axis=1)"
   ]
  },
  {
   "cell_type": "code",
   "execution_count": 47,
   "metadata": {},
   "outputs": [],
   "source": [
    "#Converting Pandas to Geopandas.\n",
    "gdf_rest_geo = gpd.GeoDataFrame(data_expanded_park_1, geometry=gpd.points_from_xy(data_expanded_park_1.lng, data_expanded_park_1.lat))"
   ]
  },
  {
   "cell_type": "code",
   "execution_count": 48,
   "metadata": {},
   "outputs": [],
   "source": [
    "#Adding park on map.\n",
    "park = gdf_rest_geo[['lat', 'lng']]\n",
    "park_group = folium.FeatureGroup(name=\"Amusement Parks\")\n",
    "park_group.add_child(MarkerCluster(locations=gdf_rest_geo[['lat', 'lng']]))\n",
    "heat_m_sm=heat_m_sm.add_child(park_group)"
   ]
  },
  {
   "cell_type": "markdown",
   "metadata": {},
   "source": [
    "### NIGHT CLUBS"
   ]
  },
  {
   "cell_type": "code",
   "execution_count": 49,
   "metadata": {},
   "outputs": [
    {
     "name": "stderr",
     "output_type": "stream",
     "text": [
      "Python-dotenv could not parse statement starting at line 2\n"
     ]
    }
   ],
   "source": [
    "#ADDING NIGHT CLUBS\n",
    "load_dotenv()\n",
    "token = os.getenv(\"TOKEN_GOOGLE\")\n",
    "location=\"34.02401,-118.48319\"\n",
    "site=\"night_club\"\n",
    "data=requests.get(f\"https://maps.googleapis.com/maps/api/place/nearbysearch/json?location={location}&radius=5000&type={site}&keyword=cruise&key={token}\").json()"
   ]
  },
  {
   "cell_type": "code",
   "execution_count": 50,
   "metadata": {},
   "outputs": [],
   "source": [
    "df_club=pd.DataFrame(data['results'])\n",
    "exapand_club_column = df_club[[\"geometry\"]].apply(lambda r: r.geometry, result_type=\"expand\", axis=1)\n",
    "data_expanded_club = pd.concat([df_club,exapand_club_column], axis=1)\n",
    "exapand_loc_column1 = data_expanded_club[[\"location\"]].apply(lambda r: r.location, result_type=\"expand\", axis=1)\n",
    "data_expanded_club_1 = pd.concat([data_expanded_club,exapand_loc_column1], axis=1)"
   ]
  },
  {
   "cell_type": "code",
   "execution_count": 51,
   "metadata": {},
   "outputs": [],
   "source": [
    "#Converting Pandas to Geopandas.\n",
    "gdf_rest_geo_club = gpd.GeoDataFrame(data_expanded_club_1, geometry=gpd.points_from_xy(data_expanded_club_1.lng, data_expanded_club_1.lat))"
   ]
  },
  {
   "cell_type": "code",
   "execution_count": 52,
   "metadata": {},
   "outputs": [],
   "source": [
    "club = gdf_rest_geo_club[['lat', 'lng']]\n",
    "club_group = folium.FeatureGroup(name=\"Night Clubs\")\n",
    "club_group.add_child(MarkerCluster(locations=gdf_rest_geo_club[['lat', 'lng']]))\n",
    "heat_m_sm=heat_m_sm.add_child(club_group)"
   ]
  },
  {
   "cell_type": "markdown",
   "metadata": {},
   "source": [
    "### BARS"
   ]
  },
  {
   "cell_type": "code",
   "execution_count": 53,
   "metadata": {},
   "outputs": [
    {
     "name": "stderr",
     "output_type": "stream",
     "text": [
      "Python-dotenv could not parse statement starting at line 2\n"
     ]
    }
   ],
   "source": [
    "#ADDING BARs\n",
    "load_dotenv()\n",
    "token = os.getenv(\"TOKEN_GOOGLE\")\n",
    "location=\"34.02401,-118.48319\"\n",
    "site='bar'\n",
    "data_bar=requests.get(f\"https://maps.googleapis.com/maps/api/place/nearbysearch/json?location={location}&radius=5000&type={site}&keyword=cruise&key={token}\").json()"
   ]
  },
  {
   "cell_type": "code",
   "execution_count": 54,
   "metadata": {},
   "outputs": [],
   "source": [
    "df_bar=pd.DataFrame(data_bar['results'])\n",
    "exapand_bar_column = df_bar[[\"geometry\"]].apply(lambda r: r.geometry, result_type=\"expand\", axis=1)\n",
    "data_expanded_bar = pd.concat([df_bar,exapand_bar_column], axis=1)\n",
    "exapand_loc_column2 = data_expanded_bar[[\"location\"]].apply(lambda r: r.location, result_type=\"expand\", axis=1)\n",
    "data_expanded_bar = pd.concat([data_expanded_bar,exapand_loc_column2], axis=1)"
   ]
  },
  {
   "cell_type": "code",
   "execution_count": 55,
   "metadata": {},
   "outputs": [],
   "source": [
    "gdf_rest_geo_bar = gpd.GeoDataFrame(data_expanded_bar, geometry=gpd.points_from_xy(data_expanded_bar.lng, data_expanded_bar.lat))"
   ]
  },
  {
   "cell_type": "code",
   "execution_count": 56,
   "metadata": {},
   "outputs": [],
   "source": [
    "bar = gdf_rest_geo_bar[['lat', 'lng']]\n",
    "bar_group = folium.FeatureGroup(name=\"Bars\")\n",
    "bar_group.add_child(MarkerCluster(locations=gdf_rest_geo_bar[['lat', 'lng']]))\n",
    "heat_m_sm=heat_m_sm.add_child(bar_group)"
   ]
  },
  {
   "cell_type": "markdown",
   "metadata": {},
   "source": [
    "### SCHOOLS"
   ]
  },
  {
   "cell_type": "code",
   "execution_count": 57,
   "metadata": {},
   "outputs": [
    {
     "name": "stderr",
     "output_type": "stream",
     "text": [
      "Python-dotenv could not parse statement starting at line 2\n"
     ]
    }
   ],
   "source": [
    "#ADDING SCHOOLS\n",
    "load_dotenv()\n",
    "token = os.getenv(\"TOKEN_GOOGLE\")\n",
    "location=\"34.02401,-118.48319\"\n",
    "site='secondary_school'\n",
    "data_apark=requests.get(f\"https://maps.googleapis.com/maps/api/place/nearbysearch/json?location={location}&radius=5000&type={site}&keyword=cruise&key={token}\").json()"
   ]
  },
  {
   "cell_type": "code",
   "execution_count": 58,
   "metadata": {},
   "outputs": [],
   "source": [
    "df_apark=pd.DataFrame(data_apark['results'])\n",
    "exapand_apark_column = df_apark[[\"geometry\"]].apply(lambda r: r.geometry, result_type=\"expand\", axis=1)\n",
    "data_expanded_apark = pd.concat([df_apark,exapand_apark_column], axis=1)\n",
    "exapand_loc_column3 = data_expanded_apark[[\"location\"]].apply(lambda r: r.location, result_type=\"expand\", axis=1)\n",
    "data_expanded_apark = pd.concat([data_expanded_apark,exapand_loc_column3], axis=1)"
   ]
  },
  {
   "cell_type": "code",
   "execution_count": 59,
   "metadata": {},
   "outputs": [],
   "source": [
    "gdf_rest_geo_apark = gpd.GeoDataFrame(data_expanded_apark, geometry=gpd.points_from_xy(data_expanded_apark.lng, data_expanded_apark.lat))"
   ]
  },
  {
   "cell_type": "code",
   "execution_count": 60,
   "metadata": {},
   "outputs": [],
   "source": [
    "apark = gdf_rest_geo_apark[['lat', 'lng']]\n",
    "apark_group = folium.FeatureGroup(name=\"School\")\n",
    "apark_group.add_child(MarkerCluster(locations=gdf_rest_geo_apark[['lat', 'lng']]))\n",
    "heat_m_sm=heat_m_sm.add_child(apark_group)"
   ]
  },
  {
   "cell_type": "markdown",
   "metadata": {},
   "source": [
    "### MAP"
   ]
  },
  {
   "cell_type": "code",
   "execution_count": 61,
   "metadata": {},
   "outputs": [
    {
     "data": {
      "text/html": [
       "<div style=\"width:100%;\"><div style=\"position:relative;width:100%;height:0;padding-bottom:60%;\"><iframe src=\"data:text/html;charset=utf-8;base64,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\" style=\"position:absolute;width:100%;height:100%;left:0;top:0;border:none !important;\" allowfullscreen webkitallowfullscreen mozallowfullscreen></iframe></div></div>"
      ],
      "text/plain": [
       "<folium.folium.Map at 0x124174490>"
      ]
     },
     "execution_count": 61,
     "metadata": {},
     "output_type": "execute_result"
    }
   ],
   "source": [
    "folium.LayerControl(collapsed=False).add_to(heat_m_sm)\n",
    "heat_m_sm"
   ]
  },
  {
   "cell_type": "markdown",
   "metadata": {},
   "source": [
    "## CONCLUSION"
   ]
  },
  {
   "cell_type": "markdown",
   "metadata": {},
   "source": [
    "As per collected information, Santa Monica seems to be a good city to allocate a gaming company, since it has an airport close to the city, near universities, near places to have fun with family or work colleagues and there are a lot of gaming companies around too, so, knowledge is guaranteed."
   ]
  },
  {
   "cell_type": "code",
   "execution_count": null,
   "metadata": {},
   "outputs": [],
   "source": []
  }
 ],
 "metadata": {
  "kernelspec": {
   "display_name": "Python 3",
   "language": "python",
   "name": "python3"
  },
  "language_info": {
   "codemirror_mode": {
    "name": "ipython",
    "version": 3
   },
   "file_extension": ".py",
   "mimetype": "text/x-python",
   "name": "python",
   "nbconvert_exporter": "python",
   "pygments_lexer": "ipython3",
   "version": "3.7.6"
  }
 },
 "nbformat": 4,
 "nbformat_minor": 4
}
