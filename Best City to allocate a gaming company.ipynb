{
 "cells": [
  {
   "cell_type": "markdown",
   "metadata": {},
   "source": [
    "# BEST CITY TO ALLOCATE A GAMING COMPANY"
   ]
  },
  {
   "cell_type": "markdown",
   "metadata": {},
   "source": [
    "## Libraries"
   ]
  },
  {
   "cell_type": "code",
   "execution_count": 1,
   "metadata": {},
   "outputs": [],
   "source": [
    "import pandas as pd\n",
    "import numpy as np\n",
    "import requests\n",
    "import math\n",
    "import os\n",
    "from dotenv import load_dotenv\n",
    "\n",
    "from pymongo import MongoClient\n",
    "\n",
    "import geopandas as gpd\n",
    "from geopy.distance import distance\n",
    "from geopy.distance import geodesic \n",
    "from shapely.geometry import Point\n",
    "from geopy.distance import great_circle\n",
    "from descartes import PolygonPatch\n",
    "\n",
    "import matplotlib.pyplot as plt\n",
    "%matplotlib inline\n",
    "\n",
    "import folium\n",
    "from folium import plugins\n",
    "from folium import Choropleth, Circle, Marker\n",
    "from folium.plugins import HeatMap, MarkerCluster"
   ]
  },
  {
   "cell_type": "code",
   "execution_count": 2,
   "metadata": {},
   "outputs": [
    {
     "name": "stdout",
     "output_type": "stream",
     "text": [
      "Requirement already up-to-date: python-dotenv in /usr/local/lib/python3.7/site-packages (0.12.0)\r\n"
     ]
    }
   ],
   "source": [
    "!pip3 install -U python-dotenv"
   ]
  },
  {
   "cell_type": "markdown",
   "metadata": {},
   "source": [
    "## MongoDB - Companies Data"
   ]
  },
  {
   "cell_type": "code",
   "execution_count": 3,
   "metadata": {},
   "outputs": [],
   "source": [
    "#Importing companies.json from mongodb.\n",
    "client = MongoClient(\"mongodb://localhost/companies\")\n",
    "db = client.get_database()"
   ]
  },
  {
   "cell_type": "markdown",
   "metadata": {},
   "source": [
    "Importing companies data from MongoDB.\n",
    "\n",
    "Filtering by gaming/video companies and the employees > 10 prs."
   ]
  },
  {
   "cell_type": "code",
   "execution_count": 4,
   "metadata": {},
   "outputs": [],
   "source": [
    "query={\"$and\":[{\"category_code\":{\"$eq\":\"games_video\"}},{\"number_of_employees\":{\"$gte\":10}}]}\n",
    "list_companies=list(db['companies'].find((query),{\"category_code\":1,'number_of_employees':1,'name':1,\"total_money_raised\":1,\"offices\":1,'_id':0}).sort(\"number_of_employees\",-1))"
   ]
  },
  {
   "cell_type": "code",
   "execution_count": 5,
   "metadata": {},
   "outputs": [],
   "source": [
    "#Converting the info into 'pandas'\n",
    "df = pd.DataFrame(list_companies)"
   ]
  },
  {
   "cell_type": "code",
   "execution_count": 6,
   "metadata": {},
   "outputs": [],
   "source": [
    "#Removing duplicates.\n",
    "df = df.drop_duplicates(subset='name', keep='first')"
   ]
  },
  {
   "cell_type": "code",
   "execution_count": 7,
   "metadata": {},
   "outputs": [],
   "source": [
    "#Removing the lists from offices column \n",
    "df = df.explode('offices')"
   ]
  },
  {
   "cell_type": "code",
   "execution_count": 8,
   "metadata": {},
   "outputs": [],
   "source": [
    "#Removing the NAN values from offices column.\n",
    "df.dropna(subset=['offices'], inplace=True)"
   ]
  },
  {
   "cell_type": "code",
   "execution_count": 9,
   "metadata": {},
   "outputs": [],
   "source": [
    "#Expand information from offices column.\n",
    "exapand_office_column = df[[\"offices\"]].apply(lambda r: r.offices, result_type=\"expand\", axis=1)\n",
    "data_expanded = pd.concat([df,exapand_office_column], axis=1)"
   ]
  },
  {
   "cell_type": "code",
   "execution_count": 10,
   "metadata": {},
   "outputs": [],
   "source": [
    "#Removing old column with lists.\n",
    "df_companies = data_expanded.drop(columns=[\"offices\"])"
   ]
  },
  {
   "cell_type": "code",
   "execution_count": 11,
   "metadata": {},
   "outputs": [],
   "source": [
    "#Removing the NAN long and latt columns.\n",
    "df_companies.dropna(subset=['latitude'], inplace=True)\n",
    "df_companies.dropna(subset=['longitude'], inplace=True)"
   ]
  },
  {
   "cell_type": "markdown",
   "metadata": {},
   "source": [
    "## TOP 5 CITIES WITH MORE GAMING COMPANIES"
   ]
  },
  {
   "cell_type": "code",
   "execution_count": 12,
   "metadata": {},
   "outputs": [
    {
     "data": {
      "image/png": "[encoded data removed]",
      "text/plain": [
       "<Figure size 2160x720 with 1 Axes>"
      ]
     },
     "metadata": {
      "needs_background": "light"
     },
     "output_type": "display_data"
    }
   ],
   "source": [
    "#TOP5 cities with more companies with 'category code' = 'video_games'\n",
    "\n",
    "graph_df=df_companies[['city','name']]\n",
    "graphic= graph_df.groupby('city').count().sort_values('name',ascending = False).head()\n",
    "\n",
    "graphic.plot.bar(figsize=(30,10));\n",
    "plt.legend([\"Total amount company/city\"])\n",
    "plt.title(\"TOP 5 - Number of gaming companies by city\")\n",
    "plt.xlabel(\"Cities\")\n",
    "plt.ylabel(\"Number of companies\");"
   ]
  },
  {
   "cell_type": "markdown",
   "metadata": {},
   "source": [
    "# Comparing Km for Companies & Airports"
   ]
  },
  {
   "cell_type": "markdown",
   "metadata": {},
   "source": [
    "### SAN FRANCISCO"
   ]
  },
  {
   "cell_type": "markdown",
   "metadata": {},
   "source": [
    "1- COMPANIES"
   ]
  },
  {
   "cell_type": "code",
   "execution_count": 13,
   "metadata": {},
   "outputs": [
    {
     "data": {
      "text/plain": [
       "{'coordinates': [-122.40438, 37.66873], 'type': 'Point'}"
      ]
     },
     "execution_count": 13,
     "metadata": {},
     "output_type": "execute_result"
    }
   ],
   "source": [
    "def geocode(address):\n",
    "    data = requests.get(f\"https://geocode.xyz/{address}?json=1\").json()\n",
    "    return {\n",
    "        \"type\":\"Point\",\n",
    "        \"coordinates\":[float(data[\"longt\"]),float(data[\"latt\"])]\n",
    "    }\n",
    "sf = geocode(\"San Francisco, CA, USA\")\n",
    "sf"
   ]
  },
  {
   "cell_type": "code",
   "execution_count": 14,
   "metadata": {},
   "outputs": [],
   "source": [
    "def withGeoQuery(location,maxDistance=15000,minDistance=0,field=\"location\"):\n",
    "    return {\n",
    "       field: {\n",
    "         \"$near\": {\n",
    "           \"$geometry\": location if type(location)==dict else geocode(location),\n",
    "           \"$maxDistance\": maxDistance,\n",
    "           \"$minDistance\": minDistance\n",
    "         }\n",
    "       }\n",
    "    }\n",
    "query = withGeoQuery(sf)"
   ]
  },
  {
   "cell_type": "code",
   "execution_count": 15,
   "metadata": {},
   "outputs": [
    {
     "name": "stdout",
     "output_type": "stream",
     "text": [
      "18 companies\n"
     ]
    }
   ],
   "source": [
    "#There are 18 gaming companies - 15 Km.\n",
    "comp_sf = list(db[\"cleancompanies\"].find(query))\n",
    "print(len(comp_sf),'companies')"
   ]
  },
  {
   "cell_type": "markdown",
   "metadata": {},
   "source": [
    "2- AIRPORT"
   ]
  },
  {
   "cell_type": "code",
   "execution_count": 16,
   "metadata": {},
   "outputs": [
    {
     "name": "stdout",
     "output_type": "stream",
     "text": [
      "Lat. =  37.6213129\n",
      "Long =  -122.3789554\n"
     ]
    }
   ],
   "source": [
    "load_dotenv()\n",
    "token = os.getenv(\"TOKEN_GOOGLE\")\n",
    "address='San Francisco Airport'\n",
    "data = requests.get(f\"https://maps.googleapis.com/maps/api/geocode/json?address={address}&key={token}\").json()\n",
    "lat_sf_airport=(data['results'][0]['geometry']['location']['lat'])\n",
    "long_sf_airport=(data['results'][0]['geometry']['location']['lng'])\n",
    "print('Lat. = ',lat_sf_airport)\n",
    "print('Long = ',long_sf_airport)"
   ]
  },
  {
   "cell_type": "code",
   "execution_count": 17,
   "metadata": {},
   "outputs": [
    {
     "name": "stdout",
     "output_type": "stream",
     "text": [
      "Km from San Francisco to SF Airport = 5.728065177954947 km\n"
     ]
    }
   ],
   "source": [
    "#KM between airport & city\n",
    "\n",
    "sf = (37.66873,-122.40438) \n",
    "airport_sf = (37.6213129,-122.3789554) \n",
    "print('Km from San Francisco to SF Airport =', great_circle(sf, airport_sf).km,'km')"
   ]
  },
  {
   "cell_type": "markdown",
   "metadata": {},
   "source": [
    "### NEW YORK"
   ]
  },
  {
   "cell_type": "markdown",
   "metadata": {},
   "source": [
    "1- COMPANIES "
   ]
  },
  {
   "cell_type": "code",
   "execution_count": 19,
   "metadata": {},
   "outputs": [
    {
     "data": {
      "text/plain": [
       "{'coordinates': [-73.9586, 40.68908], 'type': 'Point'}"
      ]
     },
     "execution_count": 19,
     "metadata": {},
     "output_type": "execute_result"
    }
   ],
   "source": [
    "def geocode(address):\n",
    "    data = requests.get(f\"https://geocode.xyz/{address}?json=1\").json()\n",
    "    return {\n",
    "        \"type\":\"Point\",\n",
    "        \"coordinates\":[float(data[\"longt\"]),float(data[\"latt\"])]\n",
    "    }\n",
    "ny = geocode(\"New York, USA\")\n",
    "ny"
   ]
  },
  {
   "cell_type": "code",
   "execution_count": 20,
   "metadata": {},
   "outputs": [],
   "source": [
    "def withGeoQuery(location,maxDistance=15000,minDistance=0,field=\"location\"):\n",
    "    return {\n",
    "       field: {\n",
    "         \"$near\": {\n",
    "           \"$geometry\": location if type(location)==dict else geocode(location),\n",
    "           \"$maxDistance\": maxDistance,\n",
    "           \"$minDistance\": minDistance\n",
    "         }\n",
    "       }\n",
    "    }\n",
    "query = withGeoQuery(ny)"
   ]
  },
  {
   "cell_type": "code",
   "execution_count": 21,
   "metadata": {},
   "outputs": [
    {
     "name": "stdout",
     "output_type": "stream",
     "text": [
      "17 companies\n"
     ]
    }
   ],
   "source": [
    "#There are 17 gaming companies - 15 Km.\n",
    "comp_ny = list(db[\"cleancompanies\"].find(query))\n",
    "print(len(comp_ny),'companies')"
   ]
  },
  {
   "cell_type": "markdown",
   "metadata": {},
   "source": [
    "2- AIRPORT"
   ]
  },
  {
   "cell_type": "code",
   "execution_count": 22,
   "metadata": {},
   "outputs": [
    {
     "name": "stdout",
     "output_type": "stream",
     "text": [
      "Lat. =  40.6413111\n",
      "Long =  -73.77813909999999\n"
     ]
    }
   ],
   "source": [
    "load_dotenv()\n",
    "token = os.getenv(\"TOKEN_GOOGLE\")\n",
    "address='New York KFC Airport'\n",
    "data = requests.get(f\"https://maps.googleapis.com/maps/api/geocode/json?address={address}&key={token}\").json()\n",
    "lat_ny_airport=(data['results'][0]['geometry']['location']['lat'])\n",
    "long_ny_airport=(data['results'][0]['geometry']['location']['lng'])\n",
    "print('Lat. = ',lat_ny_airport)\n",
    "print('Long = ',long_ny_airport)"
   ]
  },
  {
   "cell_type": "code",
   "execution_count": 23,
   "metadata": {},
   "outputs": [
    {
     "name": "stdout",
     "output_type": "stream",
     "text": [
      "Km from NY to NY Airport = 16.12113145961942 km\n"
     ]
    }
   ],
   "source": [
    "#KM between airport & city\n",
    "\n",
    "ny = (40.68908,-73.9586) \n",
    "airport_ny = (40.6413111,-73.77813909999999) \n",
    "print('Km from NY to NY Airport =', great_circle(ny, airport_ny).km,'km')"
   ]
  },
  {
   "cell_type": "markdown",
   "metadata": {},
   "source": [
    "### LOS ANGELES"
   ]
  },
  {
   "cell_type": "markdown",
   "metadata": {},
   "source": [
    "1- COMPANIES"
   ]
  },
  {
   "cell_type": "code",
   "execution_count": 28,
   "metadata": {},
   "outputs": [
    {
     "data": {
      "text/plain": [
       "{'coordinates': [-118.29757, 34.04015], 'type': 'Point'}"
      ]
     },
     "execution_count": 28,
     "metadata": {},
     "output_type": "execute_result"
    }
   ],
   "source": [
    "def geocode(address):\n",
    "    data = requests.get(f\"https://geocode.xyz/{address}?json=1\").json()\n",
    "    return {\n",
    "        \"type\":\"Point\",\n",
    "        \"coordinates\":[float(data[\"longt\"]),float(data[\"latt\"])]\n",
    "    }\n",
    "la = geocode(\"Los Angeles\")\n",
    "la"
   ]
  },
  {
   "cell_type": "code",
   "execution_count": 29,
   "metadata": {},
   "outputs": [],
   "source": [
    "def withGeoQuery(location,maxDistance=15000,minDistance=0,field=\"location\"):\n",
    "    return {\n",
    "       field: {\n",
    "         \"$near\": {\n",
    "           \"$geometry\": location if type(location)==dict else geocode(location),\n",
    "           \"$maxDistance\": maxDistance,\n",
    "           \"$minDistance\": minDistance\n",
    "         }\n",
    "       }\n",
    "    }\n",
    "query = withGeoQuery(la)"
   ]
  },
  {
   "cell_type": "code",
   "execution_count": 30,
   "metadata": {},
   "outputs": [
    {
     "name": "stdout",
     "output_type": "stream",
     "text": [
      "12 companies\n"
     ]
    }
   ],
   "source": [
    "#There are 12 gaming companies - 15 Km.\n",
    "comp_la = list(db[\"cleancompanies\"].find(query))\n",
    "print(len(comp_la),'companies')"
   ]
  },
  {
   "cell_type": "markdown",
   "metadata": {},
   "source": [
    "2- AIRPORT"
   ]
  },
  {
   "cell_type": "code",
   "execution_count": 31,
   "metadata": {},
   "outputs": [
    {
     "name": "stdout",
     "output_type": "stream",
     "text": [
      "Lat. =  33.9415889\n",
      "Long =  -118.40853\n"
     ]
    }
   ],
   "source": [
    "load_dotenv()\n",
    "token = os.getenv(\"TOKEN_GOOGLE\")\n",
    "address='Los Angeles Airport'\n",
    "data = requests.get(f\"https://maps.googleapis.com/maps/api/geocode/json?address={address}&key={token}\").json()\n",
    "lat_la_airport=(data['results'][0]['geometry']['location']['lat'])\n",
    "long_la_airport=(data['results'][0]['geometry']['location']['lng'])\n",
    "print('Lat. = ',lat_la_airport)\n",
    "print('Long = ',long_la_airport)"
   ]
  },
  {
   "cell_type": "code",
   "execution_count": 32,
   "metadata": {},
   "outputs": [
    {
     "name": "stdout",
     "output_type": "stream",
     "text": [
      "Km from LA to LA Airport = 14.992077104477458 km\n"
     ]
    }
   ],
   "source": [
    "#KM between airport & city\n",
    "\n",
    "la = (34.04015,-118.29757) \n",
    "airport_la = (33.9415889,-118.40853) \n",
    "print('Km from LA to LA Airport =', great_circle(la, airport_la).km,'km')"
   ]
  },
  {
   "cell_type": "markdown",
   "metadata": {},
   "source": [
    "### PARIS"
   ]
  },
  {
   "cell_type": "markdown",
   "metadata": {},
   "source": [
    "1- COMPANIES"
   ]
  },
  {
   "cell_type": "code",
   "execution_count": 36,
   "metadata": {},
   "outputs": [
    {
     "data": {
      "text/plain": [
       "{'coordinates': [2.34293, 48.85717], 'type': 'Point'}"
      ]
     },
     "execution_count": 36,
     "metadata": {},
     "output_type": "execute_result"
    }
   ],
   "source": [
    "def geocode(address):\n",
    "    data = requests.get(f\"https://geocode.xyz/{address}?json=1\").json()\n",
    "    return {\n",
    "        \"type\":\"Point\",\n",
    "        \"coordinates\":[float(data[\"longt\"]),float(data[\"latt\"])]\n",
    "    }\n",
    "paris = geocode(\"Paris\")\n",
    "paris"
   ]
  },
  {
   "cell_type": "code",
   "execution_count": 37,
   "metadata": {},
   "outputs": [],
   "source": [
    "def withGeoQuery(location,maxDistance=15000,minDistance=0,field=\"location\"):\n",
    "    return {\n",
    "       field: {\n",
    "         \"$near\": {\n",
    "           \"$geometry\": location if type(location)==dict else geocode(location),\n",
    "           \"$maxDistance\": maxDistance,\n",
    "           \"$minDistance\": minDistance\n",
    "         }\n",
    "       }\n",
    "    }\n",
    "query = withGeoQuery(paris)"
   ]
  },
  {
   "cell_type": "code",
   "execution_count": 38,
   "metadata": {},
   "outputs": [
    {
     "name": "stdout",
     "output_type": "stream",
     "text": [
      "4 companies\n"
     ]
    }
   ],
   "source": [
    "#There are 4 gaming companies - 15 Km.\n",
    "comp_paris = list(db[\"cleancompanies\"].find(query))\n",
    "print(len(comp_paris),'companies')"
   ]
  },
  {
   "cell_type": "markdown",
   "metadata": {},
   "source": [
    "2- AIRPORT"
   ]
  },
  {
   "cell_type": "code",
   "execution_count": 39,
   "metadata": {},
   "outputs": [
    {
     "name": "stdout",
     "output_type": "stream",
     "text": [
      "Lat. =  49.0096906\n",
      "Long =  2.5479245\n"
     ]
    }
   ],
   "source": [
    "load_dotenv()\n",
    "token = os.getenv(\"TOKEN_GOOGLE\")\n",
    "address='Paris-Charles De Gaulle'\n",
    "data = requests.get(f\"https://maps.googleapis.com/maps/api/geocode/json?address={address}&key={token}\").json()\n",
    "lat_paris_airport=(data['results'][0]['geometry']['location']['lat'])\n",
    "long_paris_airport=(data['results'][0]['geometry']['location']['lng'])\n",
    "print('Lat. = ',lat_paris_airport)\n",
    "print('Long = ',long_paris_airport)"
   ]
  },
  {
   "cell_type": "code",
   "execution_count": 40,
   "metadata": {},
   "outputs": [
    {
     "name": "stdout",
     "output_type": "stream",
     "text": [
      "Km from Paris to Paris-Charles De Gaulle = 22.62430090103764 km\n"
     ]
    }
   ],
   "source": [
    "#KM between airport & city\n",
    "\n",
    "paris = (48.85717,2.34293) \n",
    "airport_paris = (49.0096906,2.5479245) \n",
    "print('Km from Paris to Paris-Charles De Gaulle =', great_circle(paris, airport_paris).km,'km')"
   ]
  },
  {
   "cell_type": "markdown",
   "metadata": {},
   "source": [
    "### SANTA MONICA"
   ]
  },
  {
   "cell_type": "markdown",
   "metadata": {},
   "source": [
    "1- COMPANIES"
   ]
  },
  {
   "cell_type": "code",
   "execution_count": 41,
   "metadata": {},
   "outputs": [
    {
     "ename": "KeyError",
     "evalue": "'longt'",
     "output_type": "error",
     "traceback": [
      "\u001b[0;31m---------------------------------------------------------------------------\u001b[0m",
      "\u001b[0;31mKeyError\u001b[0m                                  Traceback (most recent call last)",
      "\u001b[0;32m<ipython-input-41-d81fad0b6031>\u001b[0m in \u001b[0;36m<module>\u001b[0;34m()\u001b[0m\n\u001b[1;32m      5\u001b[0m         \u001b[0;34m\"coordinates\"\u001b[0m\u001b[0;34m:\u001b[0m\u001b[0;34m[\u001b[0m\u001b[0mfloat\u001b[0m\u001b[0;34m(\u001b[0m\u001b[0mdata\u001b[0m\u001b[0;34m[\u001b[0m\u001b[0;34m\"longt\"\u001b[0m\u001b[0;34m]\u001b[0m\u001b[0;34m)\u001b[0m\u001b[0;34m,\u001b[0m\u001b[0mfloat\u001b[0m\u001b[0;34m(\u001b[0m\u001b[0mdata\u001b[0m\u001b[0;34m[\u001b[0m\u001b[0;34m\"latt\"\u001b[0m\u001b[0;34m]\u001b[0m\u001b[0;34m)\u001b[0m\u001b[0;34m]\u001b[0m\u001b[0;34m\u001b[0m\u001b[0;34m\u001b[0m\u001b[0m\n\u001b[1;32m      6\u001b[0m     }\n\u001b[0;32m----> 7\u001b[0;31m \u001b[0msm\u001b[0m \u001b[0;34m=\u001b[0m \u001b[0mgeocode\u001b[0m\u001b[0;34m(\u001b[0m\u001b[0;34m\"Santa Monica, CA, USA\"\u001b[0m\u001b[0;34m)\u001b[0m\u001b[0;34m\u001b[0m\u001b[0;34m\u001b[0m\u001b[0m\n\u001b[0m\u001b[1;32m      8\u001b[0m \u001b[0msm\u001b[0m\u001b[0;34m\u001b[0m\u001b[0;34m\u001b[0m\u001b[0m\n",
      "\u001b[0;32m<ipython-input-41-d81fad0b6031>\u001b[0m in \u001b[0;36mgeocode\u001b[0;34m(address)\u001b[0m\n\u001b[1;32m      3\u001b[0m     return {\n\u001b[1;32m      4\u001b[0m         \u001b[0;34m\"type\"\u001b[0m\u001b[0;34m:\u001b[0m\u001b[0;34m\"Point\"\u001b[0m\u001b[0;34m,\u001b[0m\u001b[0;34m\u001b[0m\u001b[0;34m\u001b[0m\u001b[0m\n\u001b[0;32m----> 5\u001b[0;31m         \u001b[0;34m\"coordinates\"\u001b[0m\u001b[0;34m:\u001b[0m\u001b[0;34m[\u001b[0m\u001b[0mfloat\u001b[0m\u001b[0;34m(\u001b[0m\u001b[0mdata\u001b[0m\u001b[0;34m[\u001b[0m\u001b[0;34m\"longt\"\u001b[0m\u001b[0;34m]\u001b[0m\u001b[0;34m)\u001b[0m\u001b[0;34m,\u001b[0m\u001b[0mfloat\u001b[0m\u001b[0;34m(\u001b[0m\u001b[0mdata\u001b[0m\u001b[0;34m[\u001b[0m\u001b[0;34m\"latt\"\u001b[0m\u001b[0;34m]\u001b[0m\u001b[0;34m)\u001b[0m\u001b[0;34m]\u001b[0m\u001b[0;34m\u001b[0m\u001b[0;34m\u001b[0m\u001b[0m\n\u001b[0m\u001b[1;32m      6\u001b[0m     }\n\u001b[1;32m      7\u001b[0m \u001b[0msm\u001b[0m \u001b[0;34m=\u001b[0m \u001b[0mgeocode\u001b[0m\u001b[0;34m(\u001b[0m\u001b[0;34m\"Santa Monica, CA, USA\"\u001b[0m\u001b[0;34m)\u001b[0m\u001b[0;34m\u001b[0m\u001b[0;34m\u001b[0m\u001b[0m\n",
      "\u001b[0;31mKeyError\u001b[0m: 'longt'"
     ]
    }
   ],
   "source": [
    "def geocode(address):\n",
    "    data = requests.get(f\"https://geocode.xyz/{address}?json=1\").json()\n",
    "    return {\n",
    "        \"type\":\"Point\",\n",
    "        \"coordinates\":[float(data[\"longt\"]),float(data[\"latt\"])]\n",
    "    }\n",
    "sm = geocode(\"Santa Monica, CA, USA\")\n",
    "sm"
   ]
  },
  {
   "cell_type": "code",
   "execution_count": null,
   "metadata": {},
   "outputs": [],
   "source": [
    "def withGeoQuery(location,maxDistance=15000,minDistance=0,field=\"location\"):\n",
    "    return {\n",
    "       field: {\n",
    "         \"$near\": {\n",
    "           \"$geometry\": location if type(location)==dict else geocode(location),\n",
    "           \"$maxDistance\": maxDistance,\n",
    "           \"$minDistance\": minDistance\n",
    "         }\n",
    "       }\n",
    "    }\n",
    "query = withGeoQuery(sm)"
   ]
  },
  {
   "cell_type": "code",
   "execution_count": 42,
   "metadata": {},
   "outputs": [
    {
     "name": "stdout",
     "output_type": "stream",
     "text": [
      "4 companies\n"
     ]
    }
   ],
   "source": [
    "#There are 4 gaming companies - 15 Km.\n",
    "comp_sm = list(db[\"cleancompanies\"].find(query))\n",
    "print(len(comp_sm),'companies')"
   ]
  },
  {
   "cell_type": "markdown",
   "metadata": {},
   "source": [
    "2- AIRPORT"
   ]
  },
  {
   "cell_type": "code",
   "execution_count": 43,
   "metadata": {},
   "outputs": [
    {
     "name": "stdout",
     "output_type": "stream",
     "text": [
      "Lat. =  34.0178143\n",
      "Long. =  -118.4473286\n"
     ]
    }
   ],
   "source": [
    "load_dotenv()\n",
    "token = os.getenv(\"TOKEN_GOOGLE\")\n",
    "address='Santa Monica Airport'\n",
    "data = requests.get(f\"https://maps.googleapis.com/maps/api/geocode/json?address={address}&key={token}\").json()\n",
    "lat_paris_airport=(data['results'][0]['geometry']['location']['lat'])\n",
    "long_paris_airport=(data['results'][0]['geometry']['location']['lng'])\n",
    "print('Lat. = ',lat_paris_airport)\n",
    "print('Long. = ',long_paris_airport)"
   ]
  },
  {
   "cell_type": "code",
   "execution_count": 44,
   "metadata": {},
   "outputs": [
    {
     "name": "stdout",
     "output_type": "stream",
     "text": [
      "Km from Santa Monica to Santa Monica Airport = 3.3761049677896473 km\n"
     ]
    }
   ],
   "source": [
    "#KM between airport & city\n",
    "\n",
    "sm = (34.02401,-118.48319) \n",
    "airport_sm = (34.0178143,-118.4473286) \n",
    "print('Km from Santa Monica to Santa Monica Airport =', great_circle(sm, airport_sm).km,'km')"
   ]
  },
  {
   "cell_type": "markdown",
   "metadata": {},
   "source": [
    "### NEXT STEPS:\n",
    "\n",
    "Santa Monica is the closest city to the airport and has a huge amount of gaming companies around, thus, this city will be further analyzed."
   ]
  },
  {
   "cell_type": "markdown",
   "metadata": {},
   "source": [
    "# Convertig DataFrame into GeoDataFrame"
   ]
  },
  {
   "cell_type": "markdown",
   "metadata": {},
   "source": [
    "### GAMING COMPANIES"
   ]
  },
  {
   "cell_type": "code",
   "execution_count": 45,
   "metadata": {},
   "outputs": [],
   "source": [
    "gdf = gpd.GeoDataFrame(df_companies, geometry=gpd.points_from_xy(df_companies.longitude, df_companies.latitude))"
   ]
  },
  {
   "cell_type": "code",
   "execution_count": 46,
   "metadata": {},
   "outputs": [
    {
     "data": {
      "text/plain": [
       "<folium.map.Marker at 0x114789690>"
      ]
     },
     "execution_count": 46,
     "metadata": {},
     "output_type": "execute_result"
    }
   ],
   "source": [
    "#Adding Companies on heatmap.\n",
    "start_lat = 34.02401\n",
    "start_lon = -118.48319\n",
    "heat_m_sm = folium.Map(location=[start_lat, start_lon],tiles='cartodbpositron', zoom_start=15)\n",
    "Marker([start_lat, start_lon], icon=folium.Icon(color='blue')).add_to(heat_m_sm)"
   ]
  },
  {
   "cell_type": "code",
   "execution_count": 47,
   "metadata": {},
   "outputs": [
    {
     "data": {
      "text/plain": [
       "<folium.map.FeatureGroup at 0x11478f3d0>"
      ]
     },
     "execution_count": 47,
     "metadata": {},
     "output_type": "execute_result"
    }
   ],
   "source": [
    "#Printing companies on heatmap.\n",
    "companies = gdf\n",
    "companies_group = folium.FeatureGroup(name=\"Gaming Companies\")\n",
    "HeatMap(data=companies[['latitude', 'longitude']],radius=15).add_to(companies_group)\n",
    "companies_group.add_to(heat_m_sm)"
   ]
  },
  {
   "cell_type": "markdown",
   "metadata": {},
   "source": [
    "### AIRPORT"
   ]
  },
  {
   "cell_type": "code",
   "execution_count": 48,
   "metadata": {},
   "outputs": [],
   "source": [
    "#ADDING AIRPORT\n",
    "airport_long, airport_lat = -118.4459796197085, 34.01916328029149\n",
    "heat_m_sm=heat_m_sm.add_child(Marker([airport_lat, airport_long], icon=folium.Icon(icon='plane',color='lightblue')))"
   ]
  },
  {
   "cell_type": "markdown",
   "metadata": {},
   "source": [
    "### UNIVERSITIES"
   ]
  },
  {
   "cell_type": "code",
   "execution_count": 49,
   "metadata": {},
   "outputs": [],
   "source": [
    "#ADDING UNIVERSITIES\n",
    "load_dotenv()\n",
    "token = os.getenv(\"TOKEN_GOOGLE\")\n",
    "location=\"34.02401,-118.48319\"\n",
    "site='university'\n",
    "data=requests.get(f\"https://maps.googleapis.com/maps/api/place/nearbysearch/json?location={location}&radius=15000&type={site}&keyword=cruise&key={token}\").json()"
   ]
  },
  {
   "cell_type": "code",
   "execution_count": 50,
   "metadata": {},
   "outputs": [],
   "source": [
    "#Extracting the info of results column. Splitting the information in order to get lat and lng.\n",
    "df_school=pd.DataFrame(data['results'])\n",
    "exapand_school_column = df_school[[\"geometry\"]].apply(lambda r: r.geometry, result_type=\"expand\", axis=1)\n",
    "data_expanded_school = pd.concat([df_school,exapand_school_column], axis=1)\n",
    "exapand_loc_column = data_expanded_school[[\"location\"]].apply(lambda r: r.location, result_type=\"expand\", axis=1)\n",
    "data_expanded_school_1 = pd.concat([data_expanded_school,exapand_loc_column], axis=1)"
   ]
  },
  {
   "cell_type": "code",
   "execution_count": 51,
   "metadata": {},
   "outputs": [],
   "source": [
    "#Converting Pandas to Geopandas.\n",
    "gdf_school= gpd.GeoDataFrame(data_expanded_school_1, geometry=gpd.points_from_xy(data_expanded_school_1.lng, data_expanded_school_1.lat))"
   ]
  },
  {
   "cell_type": "code",
   "execution_count": 52,
   "metadata": {},
   "outputs": [],
   "source": [
    "#Adding universities on map.\n",
    "school = gdf_school[['lat', 'lng']]\n",
    "school_group = folium.FeatureGroup(name=\"Universities\")\n",
    "school_group.add_child(MarkerCluster(locations=school[['lat', 'lng']]))\n",
    "heat_m_sm=heat_m_sm.add_child(school_group)"
   ]
  },
  {
   "cell_type": "markdown",
   "metadata": {},
   "source": [
    "### PARKS"
   ]
  },
  {
   "cell_type": "code",
   "execution_count": 53,
   "metadata": {},
   "outputs": [
    {
     "name": "stdout",
     "output_type": "stream",
     "text": [
      "{'html_attributions': [], 'results': [{'geometry': {'location': {'lat': 34.0140158, 'lng': -118.4963663}, 'viewport': {'northeast': {'lat': 34.01543457989273, 'lng': -118.4949296701073}, 'southwest': {'lat': 34.01273492010728, 'lng': -118.4976293298927}}}, 'icon': 'https://maps.gstatic.com/mapfiles/place_api/icons/generic_business-71.png', 'id': '01b1eff0d67877442cb4cd1c3999125fc6d2552d', 'name': 'Santa Monica Cruise Tour & Travel Center', 'opening_hours': {'open_now': False}, 'photos': [{'height': 1080, 'html_attributions': ['<a href=\"https://maps.google.com/maps/contrib/101414482886684900509\">Ibrahim AlZabin</a>'], 'photo_reference': 'CmRaAAAAEiJ4pEakDx_ZMBeyPRa9UaLt5yKKHqkji7iG91ZmZ1421STHrI2aPIx6FSlPfk_5xHKzIikZcU1I_2AhZvB7f8fNugpZ8FO8_hZYf4YtYtVgVGvL4wlHXx0o8-YRt8R3EhBDblmORo6Y6oK3VH9szus1GhS2BUBkukUNvBfrrdWYCrSvNpHu_Q', 'width': 1920}], 'place_id': 'ChIJN09HPNCkwoARMPnMOtX8Cgg', 'plus_code': {'compound_code': '2G73+JF Santa Monica, California, United States', 'global_code': '85632G73+JF'}, 'rating': 4.6, 'reference': 'ChIJN09HPNCkwoARMPnMOtX8Cgg', 'scope': 'GOOGLE', 'types': ['travel_agency', 'point_of_interest', 'establishment'], 'user_ratings_total': 7, 'vicinity': '1434 2nd St, Santa Monica'}, {'geometry': {'location': {'lat': 34.0075789, 'lng': -118.4869211}, 'viewport': {'northeast': {'lat': 34.00897012989272, 'lng': -118.4855107201073}, 'southwest': {'lat': 34.00627047010728, 'lng': -118.4882103798927}}}, 'icon': 'https://maps.gstatic.com/mapfiles/place_api/icons/generic_business-71.png', 'id': '3f892821ae19e92f8b5c985399df39b041e87e3a', 'name': 'Royal Caribbean Cruise Reservations', 'opening_hours': {'open_now': False}, 'photos': [{'height': 1117, 'html_attributions': ['<a href=\"https://maps.google.com/maps/contrib/105584994684130286582\">A Google User</a>'], 'photo_reference': 'CmRaAAAAnAwqoEWk4nw-AAxycmr7GDcjajmOR2hVG1z6NL1qQMoe8U5i-LrmfOgo2leF1hpJi5LVEUJddbKuWZnEeMpj8sZwL1tioZqXQWX7dlTSIogiz0s7nDj4AhQxDNcj0vzsEhCaQP22zt03pbJ3l6F54Id-GhTbDOvy3mQul7NSDcP9JMe9qjTZrA', 'width': 1681}], 'place_id': 'ChIJuyC0UdWkwoARQDL1Z5wywuA', 'plus_code': {'compound_code': '2G57+26 Santa Monica, California, United States', 'global_code': '85632G57+26'}, 'rating': 4, 'reference': 'ChIJuyC0UdWkwoARQDL1Z5wywuA', 'scope': 'GOOGLE', 'types': ['travel_agency', 'point_of_interest', 'establishment'], 'user_ratings_total': 3, 'vicinity': '2024 3rd St #A, Santa Monica'}, {'geometry': {'location': {'lat': 34.038395, 'lng': -118.44204}, 'viewport': {'northeast': {'lat': 34.03952717989272, 'lng': -118.4405055701073}, 'southwest': {'lat': 34.03682752010727, 'lng': -118.4432052298927}}}, 'icon': 'https://maps.gstatic.com/mapfiles/place_api/icons/generic_business-71.png', 'id': '9e327aabfe2cd4e50d40076db8438097b9111b65', 'name': 'Cruise One', 'place_id': 'ChIJYdeoxwq7woARbm_vPnqoLW4', 'plus_code': {'compound_code': '2HQ5+95 Los Angeles, California, United States', 'global_code': '85632HQ5+95'}, 'rating': 5, 'reference': 'ChIJYdeoxwq7woARbm_vPnqoLW4', 'scope': 'GOOGLE', 'types': ['travel_agency', 'point_of_interest', 'establishment'], 'user_ratings_total': 1, 'vicinity': '11301 W Olympic Blvd # 533, Los Angeles'}, {'geometry': {'location': {'lat': 34.0360665, 'lng': -118.4714781}, 'viewport': {'northeast': {'lat': 34.03730477989272, 'lng': -118.4699942201073}, 'southwest': {'lat': 34.03460512010728, 'lng': -118.4726938798927}}}, 'icon': 'https://maps.gstatic.com/mapfiles/place_api/icons/generic_business-71.png', 'id': '92c3a746d6e623140bfe94545f2535741c844ab6', 'name': 'Royal Caribbean Reservations', 'place_id': 'ChIJV1Ydj0a7woARa2EblzsXkLU', 'plus_code': {'compound_code': '2GPH+CC Santa Monica, California, United States', 'global_code': '85632GPH+CC'}, 'rating': 0, 'reference': 'ChIJV1Ydj0a7woARa2EblzsXkLU', 'scope': 'GOOGLE', 'types': ['travel_agency', 'point_of_interest', 'establishment'], 'user_ratings_total': 0, 'vicinity': '2907 Santa Monica Blvd, Santa Monica'}, {'geometry': {'location': {'lat': 34.0270738, 'lng': -118.5017374}, 'viewport': {'northeast': {'lat': 34.02837797989272, 'lng': -118.5003342201073}, 'southwest': {'lat': 34.02567832010727, 'lng': -118.5030338798927}}}, 'icon': 'https://maps.gstatic.com/mapfiles/place_api/icons/generic_business-71.png', 'id': '06bfb6164766fa0fafdc70ab1c454fb8fd4e527a', 'name': \"Let's Travel\", 'place_id': 'ChIJ16nhEbmkwoARJ0NAp5Z8_Vc', 'plus_code': {'compound_code': '2FGX+R8 Santa Monica, California, United States', 'global_code': '85632FGX+R8'}, 'rating': 4.3, 'reference': 'ChIJ16nhEbmkwoARJ0NAp5Z8_Vc', 'scope': 'GOOGLE', 'types': ['travel_agency', 'point_of_interest', 'establishment'], 'user_ratings_total': 4, 'vicinity': '711 Montana Ave # A, Santa Monica'}, {'geometry': {'location': {'lat': 34.0513424, 'lng': -118.4379962}, 'viewport': {'northeast': {'lat': 34.05262342989272, 'lng': -118.4367638201073}, 'southwest': {'lat': 34.04992377010727, 'lng': -118.4394634798928}}}, 'icon': 'https://maps.gstatic.com/mapfiles/place_api/icons/generic_business-71.png', 'id': 'db3554e4d4dfaf478bf8d1f9599f70cd435f1c6e', 'name': 'PNR & ABC American Express Travel', 'opening_hours': {'open_now': False}, 'photos': [{'height': 300, 'html_attributions': ['<a href=\"https://maps.google.com/maps/contrib/115180262919964912198\">PNR &amp; ABC American Express Travel</a>'], 'photo_reference': 'CmRaAAAACMMheSWgl02xx7L0k3UCd_fdpd9B5bee6yNRw0MOia3xTKFE-3WJ2kQGfOQ97fiQv1hlhycpulNMM4shVlOtSusCqWj4wme0W-8tbgKuPBKHw1jydyFKNF8T3QXshcd9EhCuAdw3rUxDM5HJ230x0ehJGhTC3CR--54-tjoCxR2YEdZ76fpazg', 'width': 400}], 'place_id': 'ChIJ20sZwIK7woAR2g-3Zw8z3TE', 'plus_code': {'compound_code': '3H26+GR Los Angeles, California, United States', 'global_code': '85633H26+GR'}, 'rating': 0, 'reference': 'ChIJ20sZwIK7woAR2g-3Zw8z3TE', 'scope': 'GOOGLE', 'types': ['travel_agency', 'point_of_interest', 'establishment'], 'user_ratings_total': 0, 'vicinity': '1726 Westwood Blvd, Los Angeles'}, {'geometry': {'location': {'lat': 33.9833085, 'lng': -118.4461324}, 'viewport': {'northeast': {'lat': 33.98466652989272, 'lng': -118.4448257201073}, 'southwest': {'lat': 33.98196687010728, 'lng': -118.4475253798927}}}, 'icon': 'https://maps.gstatic.com/mapfiles/place_api/icons/generic_business-71.png', 'id': 'a3704033fb5ff1362f2f3cf8023847c4888234f9', 'name': 'Golden Coast Charters, LLC.', 'place_id': 'ChIJazknbb2jwoAR83Muzq__14w', 'plus_code': {'compound_code': 'XHM3+8G Marina Del Rey, California, United States', 'global_code': '8553XHM3+8G'}, 'rating': 0, 'reference': 'ChIJazknbb2jwoAR83Muzq__14w', 'scope': 'GOOGLE', 'types': ['travel_agency', 'point_of_interest', 'establishment'], 'user_ratings_total': 0, 'vicinity': '4469 Admiralty Way, Marina Del Rey'}, {'geometry': {'location': {'lat': 34.0489339, 'lng': -118.4621493}, 'viewport': {'northeast': {'lat': 34.05015312989272, 'lng': -118.4606441201073}, 'southwest': {'lat': 34.04745347010728, 'lng': -118.4633437798927}}}, 'icon': 'https://maps.gstatic.com/mapfiles/place_api/icons/generic_business-71.png', 'id': '7f86ea82ea37b9396d8f6186e25dd947439c9640', 'name': 'Crystal Cruises, LLC.', 'opening_hours': {'open_now': False}, 'photos': [{'height': 2841, 'html_attributions': ['<a href=\"https://maps.google.com/maps/contrib/100815657701406643567\">Claudio Ritossa</a>'], 'photo_reference': 'CmRaAAAAyBZMBv20jkId-Num5Ip3-cYIjPREHvGMKhsFcZXASdsF3myHMOapno2rX7bhacLUbtJDevfdwWFvlpQKVpFqU3xRlYMJiqZR6qf8-S263DAiPOIgDLnfsByWjQzYa4QAEhBh1azsE1_PS8UhAE3ZKeyUGhQjdldBo3q7ulzxrgKenSH7PiRf7w', 'width': 4261}], 'place_id': 'ChIJRzIWVPK7woAR81yEpKrh4_Y', 'plus_code': {'compound_code': '2GXQ+H4 Los Angeles, California, United States', 'global_code': '85632GXQ+H4'}, 'rating': 4, 'reference': 'ChIJRzIWVPK7woAR81yEpKrh4_Y', 'scope': 'GOOGLE', 'types': ['point_of_interest', 'establishment'], 'user_ratings_total': 8, 'vicinity': '11755 Wilshire Blvd #900, Los Angeles'}, {'geometry': {'location': {'lat': 33.979271, 'lng': -118.4382805}, 'viewport': {'northeast': {'lat': 33.98068557989272, 'lng': -118.4368524201073}, 'southwest': {'lat': 33.97798592010728, 'lng': -118.4395520798927}}}, 'icon': 'https://maps.gstatic.com/mapfiles/place_api/icons/generic_business-71.png', 'id': '4c367546fd4aa9e19cbd7c0b46dd0003d1a9b121', 'name': 'Captain Steven Leigh - USGC Licensed Master - Boat Charters / Rental - CruiseMDR.com', 'opening_hours': {'open_now': True}, 'photos': [{'height': 971, 'html_attributions': ['<a href=\"https://maps.google.com/maps/contrib/102937286143332131207\">Captain Steven H. Leigh</a>'], 'photo_reference': 'CmRaAAAAvhh9mRGnhWwIUtnXIy--6d57gs40G1zF7HZh86kJpZ4Dq80S0YamOsDYwTvPN6pkQfPxTyPX9LwdIyJ8xwt7SJKYYOmpTTim7BUPkxoSOilU3rnuA57Whhsn85qNtgc-EhAAClUMSIsdgRllgS8I7ah2GhR8055DSLnebV3hR5iQzSn-vERP7w', 'width': 1280}], 'place_id': 'ChIJyzpZ63-6woAR0wuWtUCWuOI', 'plus_code': {'compound_code': 'XHH6+PM Marina Del Rey, California, United States', 'global_code': '8553XHH6+PM'}, 'rating': 5, 'reference': 'ChIJyzpZ63-6woAR0wuWtUCWuOI', 'scope': 'GOOGLE', 'types': ['travel_agency', 'point_of_interest', 'establishment'], 'user_ratings_total': 1, 'vicinity': '4712 Admiralty Way #433, Marina Del Rey'}, {'geometry': {'location': {'lat': 33.98492100000001, 'lng': -118.453605}, 'viewport': {'northeast': {'lat': 33.98644457989273, 'lng': -118.4522825701073}, 'southwest': {'lat': 33.98374492010728, 'lng': -118.4549822298927}}}, 'icon': 'https://maps.gstatic.com/mapfiles/place_api/icons/generic_business-71.png', 'id': '8af4a4334720ada91692d500231f6d4a1901f3bf', 'name': 'LA Sailing Charter Marina Del Rey CA - Boat Rental & Yacht Charters', 'opening_hours': {'open_now': False}, 'photos': [{'height': 1536, 'html_attributions': ['<a href=\"https://maps.google.com/maps/contrib/105966786841366604468\">Paul Thistle</a>'], 'photo_reference': 'CmRaAAAAYBOoN6l_4t6Y7e_5B2sqelSJ6MiLdWlniRmp24_gogchOrk9JSEEreuwPbbShR3rt2IPaP4dsZr54I6AciL89hY7stwUpd6W3Ln1kd3svL9N5LnNF7BUApMpGGVpkFBVEhDyz_0WBWRqEh6QkYTUAj3YGhSYAxocv4MbF58CYtt_I9yLKsO0Fw', 'width': 2048}], 'place_id': 'ChIJSzrCeZC6woARAPJhUdRKCG4', 'plus_code': {'compound_code': 'XGMW+XH Marina Del Rey, California, United States', 'global_code': '8553XGMW+XH'}, 'rating': 5, 'reference': 'ChIJSzrCeZC6woARAPJhUdRKCG4', 'scope': 'GOOGLE', 'types': ['travel_agency', 'point_of_interest', 'establishment'], 'user_ratings_total': 20, 'vicinity': '4333 Admiralty Way, Marina Del Rey'}, {'geometry': {'location': {'lat': 33.984026, 'lng': -118.450606}, 'viewport': {'northeast': {'lat': 33.98569597989272, 'lng': -118.4491352201073}, 'southwest': {'lat': 33.98299632010728, 'lng': -118.4518348798927}}}, 'icon': 'https://maps.gstatic.com/mapfiles/place_api/icons/generic_business-71.png', 'id': 'affc9e53d29244f798072b473878b4944f63df41', 'name': 'Paradise Bound Yacht Charters', 'opening_hours': {'open_now': True}, 'photos': [{'height': 667, 'html_attributions': ['<a href=\"https://maps.google.com/maps/contrib/103246368893813209077\">A-A Paradise Bound Yacht Charters</a>'], 'photo_reference': 'CmRaAAAAYJr50KQJuDqgS1lZH2bJQ8ytJ2zgU5pfT24MuWAivuaUPzhwqlKIPLb0Nu6S8HgAsAPA7dNJfOzXnhnMMItOg8TV_gWhCotiZLJe4z8eb6KZIdqeSMK_QKoMTig1oScYEhBLb8YN8tYhVfDtEHgGj_OpGhS_TJLgm3v7ZOmNGdzqDJ5mpOp9rA', 'width': 1000}], 'place_id': 'ChIJieZoRYW6woARW09-d1mswN0', 'plus_code': {'compound_code': 'XGMX+JQ Marina Del Rey, California, United States', 'global_code': '8553XGMX+JQ'}, 'rating': 4.4, 'reference': 'ChIJieZoRYW6woARW09-d1mswN0', 'scope': 'GOOGLE', 'types': ['travel_agency', 'school', 'point_of_interest', 'establishment'], 'user_ratings_total': 15, 'vicinity': '4375 Admiralty Way, Marina Del Rey'}, {'geometry': {'location': {'lat': 33.9795191, 'lng': -118.4401825}, 'viewport': {'northeast': {'lat': 33.98079407989272, 'lng': -118.4388524201073}, 'southwest': {'lat': 33.97809442010728, 'lng': -118.4415520798927}}}, 'icon': 'https://maps.gstatic.com/mapfiles/place_api/icons/generic_business-71.png', 'id': '763ea8d47e193ea2dd8d66bcd1a2bf4f832a214b', 'name': 'Marina del Rey Visitors Center', 'opening_hours': {'open_now': False}, 'photos': [{'height': 1452, 'html_attributions': ['<a href=\"https://maps.google.com/maps/contrib/117033240685805544066\">A Google User</a>'], 'photo_reference': 'CmRaAAAAjw0UfKhdP_uQq9rIa4OE8xlSzpprk5g-ukY7486bWGjfqMq4SSyFm4x9i3Z1lf4sBvW0oCjWmabxBGKvVxqtzQEzaSBELYOprwlSdjF6eAAIkh9T3CZk4lTpW2H1CqirEhCTPB28Qo4rpBF_U-hhL-McGhT3UfVgvhIkWuHj7N-caTJVA8x-1Q', 'width': 2048}], 'place_id': 'ChIJh0UR43-6woARUrcVHKenB3M', 'plus_code': {'compound_code': 'XHH5+RW Marina Del Rey, California, United States', 'global_code': '8553XHH5+RW'}, 'rating': 4.4, 'reference': 'ChIJh0UR43-6woARUrcVHKenB3M', 'scope': 'GOOGLE', 'types': ['travel_agency', 'point_of_interest', 'establishment'], 'user_ratings_total': 31, 'vicinity': '4701 Admiralty Way, Marina Del Rey'}, {'geometry': {'location': {'lat': 33.9816074, 'lng': -118.4409362}, 'viewport': {'northeast': {'lat': 33.98300762989273, 'lng': -118.4394809201073}, 'southwest': {'lat': 33.98030797010728, 'lng': -118.4421805798927}}}, 'icon': 'https://maps.gstatic.com/mapfiles/place_api/icons/generic_business-71.png', 'id': 'abc407b6e0cf8c9793d2030ca2e96c34937518b6', 'name': 'Legend Yacht Charter Marina del Rey', 'opening_hours': {'open_now': True}, 'photos': [{'height': 644, 'html_attributions': ['<a href=\"https://maps.google.com/maps/contrib/113674273859829998189\">A Google User</a>'], 'photo_reference': 'CmRaAAAAUPh3BXAFUUhUPigK7bT8yW-Q8Ohmc7kyuGqHgvI4I8Nb16bMgwl1M4myNKyg6lvxVlV1KpRZlMIu0CoM2pzlYnFC5B7SEFFaB3g97b1Lh0qiljw5DTACkrXTPLMSoCrhEhAM6kfbDtuaNR1qCbZcLteSGhSXGiRq8FE36JK_tCUZpl-FXvsIxw', 'width': 924}], 'place_id': 'ChIJifgRlYC6woARwaj-y_-6MyU', 'plus_code': {'compound_code': 'XHJ5+JJ Marina Del Rey, California, United States', 'global_code': '8553XHJ5+JJ'}, 'rating': 4.5, 'reference': 'ChIJifgRlYC6woARwaj-y_-6MyU', 'scope': 'GOOGLE', 'types': ['travel_agency', 'point_of_interest', 'establishment'], 'user_ratings_total': 6, 'vicinity': '4640 Admiralty Way #500, Marina Del Rey'}], 'status': 'OK'}\n"
     ]
    }
   ],
   "source": [
    "#ADDING Parks\n",
    "load_dotenv()\n",
    "token = os.getenv(\"TOKEN_GOOGLE\")\n",
    "location=\"34.02401,-118.48319\"\n",
    "site='amusement_parks'\n",
    "data=requests.get(f\"https://maps.googleapis.com/maps/api/place/nearbysearch/json?location={location}&radius=5000&type={site}&keyword=cruise&key={token}\").json()\n",
    "print(data)"
   ]
  },
  {
   "cell_type": "code",
   "execution_count": 54,
   "metadata": {},
   "outputs": [],
   "source": [
    "#Extracting the info of results column. Splitting the information in order to get lat and lng.\n",
    "df_park=pd.DataFrame(data['results'])\n",
    "exapand_park_column = df_park[[\"geometry\"]].apply(lambda r: r.geometry, result_type=\"expand\", axis=1)\n",
    "data_expanded_park = pd.concat([df_park,exapand_park_column], axis=1)\n",
    "exapand_loc_column = data_expanded_park[[\"location\"]].apply(lambda r: r.location, result_type=\"expand\", axis=1)\n",
    "data_expanded_park_1 = pd.concat([data_expanded_park,exapand_loc_column], axis=1)"
   ]
  },
  {
   "cell_type": "code",
   "execution_count": 55,
   "metadata": {},
   "outputs": [],
   "source": [
    "#Converting Pandas to Geopandas.\n",
    "gdf_rest_geo = gpd.GeoDataFrame(data_expanded_park_1, geometry=gpd.points_from_xy(data_expanded_park_1.lng, data_expanded_park_1.lat))"
   ]
  },
  {
   "cell_type": "code",
   "execution_count": 56,
   "metadata": {},
   "outputs": [],
   "source": [
    "#Adding park on map.\n",
    "park = gdf_rest_geo[['lat', 'lng']]\n",
    "park_group = folium.FeatureGroup(name=\"Amusement Parks\")\n",
    "park_group.add_child(MarkerCluster(locations=gdf_rest_geo[['lat', 'lng']]))\n",
    "heat_m_sm=heat_m_sm.add_child(park_group)"
   ]
  },
  {
   "cell_type": "markdown",
   "metadata": {},
   "source": [
    "### NIGHT CLUBS"
   ]
  },
  {
   "cell_type": "code",
   "execution_count": 57,
   "metadata": {},
   "outputs": [],
   "source": [
    "#ADDING NIGHT CLUBS\n",
    "load_dotenv()\n",
    "token = os.getenv(\"TOKEN_GOOGLE\")\n",
    "location=\"34.02401,-118.48319\"\n",
    "site=\"night_club\"\n",
    "data=requests.get(f\"https://maps.googleapis.com/maps/api/place/nearbysearch/json?location={location}&radius=5000&type={site}&keyword=cruise&key={token}\").json()"
   ]
  },
  {
   "cell_type": "code",
   "execution_count": 58,
   "metadata": {},
   "outputs": [],
   "source": [
    "df_club=pd.DataFrame(data['results'])\n",
    "exapand_club_column = df_club[[\"geometry\"]].apply(lambda r: r.geometry, result_type=\"expand\", axis=1)\n",
    "data_expanded_club = pd.concat([df_club,exapand_club_column], axis=1)\n",
    "exapand_loc_column1 = data_expanded_club[[\"location\"]].apply(lambda r: r.location, result_type=\"expand\", axis=1)\n",
    "data_expanded_club_1 = pd.concat([data_expanded_club,exapand_loc_column1], axis=1)"
   ]
  },
  {
   "cell_type": "code",
   "execution_count": 59,
   "metadata": {},
   "outputs": [],
   "source": [
    "#Converting Pandas to Geopandas.\n",
    "gdf_rest_geo_club = gpd.GeoDataFrame(data_expanded_club_1, geometry=gpd.points_from_xy(data_expanded_club_1.lng, data_expanded_club_1.lat))"
   ]
  },
  {
   "cell_type": "code",
   "execution_count": 60,
   "metadata": {},
   "outputs": [],
   "source": [
    "club = gdf_rest_geo_club[['lat', 'lng']]\n",
    "club_group = folium.FeatureGroup(name=\"Night Clubs\")\n",
    "club_group.add_child(MarkerCluster(locations=gdf_rest_geo_club[['lat', 'lng']]))\n",
    "heat_m_sm=heat_m_sm.add_child(club_group)"
   ]
  },
  {
   "cell_type": "markdown",
   "metadata": {},
   "source": [
    "### BARS"
   ]
  },
  {
   "cell_type": "code",
   "execution_count": 61,
   "metadata": {},
   "outputs": [],
   "source": [
    "#ADDING BARs\n",
    "load_dotenv()\n",
    "token = os.getenv(\"TOKEN_GOOGLE\")\n",
    "location=\"34.02401,-118.48319\"\n",
    "site='bar'\n",
    "data_bar=requests.get(f\"https://maps.googleapis.com/maps/api/place/nearbysearch/json?location={location}&radius=5000&type={site}&keyword=cruise&key={token}\").json()"
   ]
  },
  {
   "cell_type": "code",
   "execution_count": 62,
   "metadata": {},
   "outputs": [],
   "source": [
    "df_bar=pd.DataFrame(data_bar['results'])\n",
    "exapand_bar_column = df_bar[[\"geometry\"]].apply(lambda r: r.geometry, result_type=\"expand\", axis=1)\n",
    "data_expanded_bar = pd.concat([df_bar,exapand_bar_column], axis=1)\n",
    "exapand_loc_column2 = data_expanded_bar[[\"location\"]].apply(lambda r: r.location, result_type=\"expand\", axis=1)\n",
    "data_expanded_bar = pd.concat([data_expanded_bar,exapand_loc_column2], axis=1)"
   ]
  },
  {
   "cell_type": "code",
   "execution_count": 63,
   "metadata": {},
   "outputs": [],
   "source": [
    "gdf_rest_geo_bar = gpd.GeoDataFrame(data_expanded_bar, geometry=gpd.points_from_xy(data_expanded_bar.lng, data_expanded_bar.lat))"
   ]
  },
  {
   "cell_type": "code",
   "execution_count": 64,
   "metadata": {},
   "outputs": [],
   "source": [
    "bar = gdf_rest_geo_bar[['lat', 'lng']]\n",
    "bar_group = folium.FeatureGroup(name=\"Bars\")\n",
    "bar_group.add_child(MarkerCluster(locations=gdf_rest_geo_bar[['lat', 'lng']]))\n",
    "heat_m_sm=heat_m_sm.add_child(bar_group)"
   ]
  },
  {
   "cell_type": "markdown",
   "metadata": {},
   "source": [
    "### SCHOOLS"
   ]
  },
  {
   "cell_type": "code",
   "execution_count": 65,
   "metadata": {},
   "outputs": [],
   "source": [
    "#ADDING SCHOOLS\n",
    "load_dotenv()\n",
    "token = os.getenv(\"TOKEN_GOOGLE\")\n",
    "location=\"34.02401,-118.48319\"\n",
    "site='secondary_school'\n",
    "data_apark=requests.get(f\"https://maps.googleapis.com/maps/api/place/nearbysearch/json?location={location}&radius=5000&type={site}&keyword=cruise&key={token}\").json()"
   ]
  },
  {
   "cell_type": "code",
   "execution_count": 66,
   "metadata": {},
   "outputs": [],
   "source": [
    "df_apark=pd.DataFrame(data_apark['results'])\n",
    "exapand_apark_column = df_apark[[\"geometry\"]].apply(lambda r: r.geometry, result_type=\"expand\", axis=1)\n",
    "data_expanded_apark = pd.concat([df_apark,exapand_apark_column], axis=1)\n",
    "exapand_loc_column3 = data_expanded_apark[[\"location\"]].apply(lambda r: r.location, result_type=\"expand\", axis=1)\n",
    "data_expanded_apark = pd.concat([data_expanded_apark,exapand_loc_column3], axis=1)"
   ]
  },
  {
   "cell_type": "code",
   "execution_count": 67,
   "metadata": {},
   "outputs": [],
   "source": [
    "gdf_rest_geo_apark = gpd.GeoDataFrame(data_expanded_apark, geometry=gpd.points_from_xy(data_expanded_apark.lng, data_expanded_apark.lat))"
   ]
  },
  {
   "cell_type": "code",
   "execution_count": 68,
   "metadata": {},
   "outputs": [],
   "source": [
    "apark = gdf_rest_geo_apark[['lat', 'lng']]\n",
    "apark_group = folium.FeatureGroup(name=\"School\")\n",
    "apark_group.add_child(MarkerCluster(locations=gdf_rest_geo_apark[['lat', 'lng']]))\n",
    "heat_m_sm=heat_m_sm.add_child(apark_group)"
   ]
  },
  {
   "cell_type": "markdown",
   "metadata": {},
   "source": [
    "### MAP"
   ]
  },
  {
   "cell_type": "code",
   "execution_count": 69,
   "metadata": {},
   "outputs": [
    {
     "data": {
      "text/html": [
       "<div style=\"width:100%;\"><div style=\"position:relative;width:100%;height:0;padding-bottom:60%;\"><iframe src=\"data:text/html;charset=utf-8;base64,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\" style=\"position:absolute;width:100%;height:100%;left:0;top:0;border:none !important;\" allowfullscreen webkitallowfullscreen mozallowfullscreen></iframe></div></div>"
      ],
      "text/plain": [
       "<folium.folium.Map at 0x114789050>"
      ]
     },
     "execution_count": 69,
     "metadata": {},
     "output_type": "execute_result"
    }
   ],
   "source": [
    "folium.LayerControl(collapsed=False).add_to(heat_m_sm)\n",
    "heat_m_sm"
   ]
  },
  {
   "cell_type": "markdown",
   "metadata": {},
   "source": [
    "## CONCLUSION"
   ]
  },
  {
   "cell_type": "markdown",
   "metadata": {},
   "source": [
    "As per collected information, Santa Monica seems to be a good city to allocate a gaming company, since it has an airport close to the city, near universities, near places to have fun with family or work colleagues and there are a lot of gaming companies around too, so, knowledge is guaranteed."
   ]
  }
 ],
 "metadata": {
  "kernelspec": {
   "display_name": "Python 3",
   "language": "python",
   "name": "python3"
  },
  "language_info": {
   "codemirror_mode": {
    "name": "ipython",
    "version": 3
   },
   "file_extension": ".py",
   "mimetype": "text/x-python",
   "name": "python",
   "nbconvert_exporter": "python",
   "pygments_lexer": "ipython3",
   "version": "3.7.6"
  }
 },
 "nbformat": 4,
 "nbformat_minor": 4
}
