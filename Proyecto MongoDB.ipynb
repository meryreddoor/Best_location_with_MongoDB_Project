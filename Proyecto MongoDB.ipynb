{
 "cells": [
  {
   "cell_type": "markdown",
   "metadata": {},
   "source": [
    "# BEST CITY TO ALLOCATE A GAMING COMPANY"
   ]
  },
  {
   "cell_type": "markdown",
   "metadata": {},
   "source": [
    "## Libraries"
   ]
  },
  {
   "cell_type": "code",
   "execution_count": 124,
   "metadata": {},
   "outputs": [],
   "source": [
    "import pandas as pd\n",
    "import numpy as np\n",
    "import requests\n",
    "import math\n",
    "import os\n",
    "from dotenv import load_dotenv\n",
    "\n",
    "from pymongo import MongoClient\n",
    "\n",
    "import geopandas as gpd\n",
    "from geopy.distance import distance\n",
    "from geopy.distance import geodesic \n",
    "from shapely.geometry import Point\n",
    "from geopy.distance import great_circle\n",
    "from descartes import PolygonPatch\n",
    "\n",
    "import matplotlib.pyplot as plt\n",
    "%matplotlib inline\n",
    "\n",
    "from cartoframes.viz import Map, Layer\n",
    "from cartoframes.viz.helpers import size_continuous_layer\n",
    "from cartoframes.viz.widgets import histogram_widget\n",
    "\n",
    "import folium\n",
    "from folium import plugins\n",
    "from folium import Choropleth, Circle, Marker\n",
    "from folium.plugins import HeatMap, MarkerCluster\n"
   ]
  },
  {
   "cell_type": "markdown",
   "metadata": {},
   "source": [
    "## MongoDB"
   ]
  },
  {
   "cell_type": "code",
   "execution_count": 2,
   "metadata": {},
   "outputs": [],
   "source": [
    "#Importing companies.json from mongodb.\n",
    "client = MongoClient(\"mongodb://localhost/companies\")\n",
    "db = client.get_database()"
   ]
  },
  {
   "cell_type": "code",
   "execution_count": 3,
   "metadata": {
    "scrolled": false
   },
   "outputs": [],
   "source": [
    "#Importing information about companies from MongoDB.\n",
    "query={\"$and\":[{\"category_code\":{\"$eq\":\"games_video\"}},{\"number_of_employees\":{\"$gte\":10}}]}\n",
    "list_companies=list(db['companies'].find((query),{\"category_code\":1,'number_of_employees':1,'name':1,\"total_money_raised\":1,\"offices\":1,'_id':0}).sort(\"number_of_employees\",-1))"
   ]
  },
  {
   "cell_type": "code",
   "execution_count": 4,
   "metadata": {
    "scrolled": false
   },
   "outputs": [],
   "source": [
    "#Converting the info into 'pandas'\n",
    "df = pd.DataFrame(list_companies)"
   ]
  },
  {
   "cell_type": "code",
   "execution_count": 5,
   "metadata": {},
   "outputs": [],
   "source": [
    "#Removing duplicates.\n",
    "df = df.drop_duplicates(subset='name', keep='first')"
   ]
  },
  {
   "cell_type": "code",
   "execution_count": 6,
   "metadata": {},
   "outputs": [],
   "source": [
    "#Removing the NAN values from offices column.\n",
    "df.dropna(subset=['offices'], inplace=True)"
   ]
  },
  {
   "cell_type": "code",
   "execution_count": 7,
   "metadata": {},
   "outputs": [],
   "source": [
    "#Removing the lists from offices column \n",
    "df = df.explode('offices')\n",
    "exapand_office_column = df[[\"offices\"]].apply(lambda r: r.offices, result_type=\"expand\", axis=1)\n",
    "data_expanded = pd.concat([df,exapand_office_column], axis=1)"
   ]
  },
  {
   "cell_type": "code",
   "execution_count": 8,
   "metadata": {},
   "outputs": [],
   "source": [
    "#Removing old column with lists.\n",
    "df_companies = data_expanded.drop(columns=[\"offices\"])"
   ]
  },
  {
   "cell_type": "code",
   "execution_count": 9,
   "metadata": {},
   "outputs": [],
   "source": [
    "#Removing the NAN long and latt columns.\n",
    "df_companies.dropna(subset=['latitude'], inplace=True)\n",
    "df_companies.dropna(subset=['longitude'], inplace=True)"
   ]
  },
  {
   "cell_type": "markdown",
   "metadata": {},
   "source": [
    "## TOP 5 CITIES WITH MORE GAMING COMPANIES"
   ]
  },
  {
   "cell_type": "code",
   "execution_count": 10,
   "metadata": {},
   "outputs": [
    {
     "data": {
      "image/png": "[encoded data removed]",
      "text/plain": [
       "<Figure size 2160x720 with 1 Axes>"
      ]
     },
     "metadata": {
      "needs_background": "light"
     },
     "output_type": "display_data"
    }
   ],
   "source": [
    "#TOP5 cities with more companies with 'category code' = 'video_games'\n",
    "\n",
    "graph_df=df_companies[['city','name']]\n",
    "graphic= graph_df.groupby('city').count().sort_values('name',ascending = False).head()\n",
    "\n",
    "graphic.plot.bar(figsize=(30,10));\n",
    "plt.legend([\"Total amount company/city\"])\n",
    "plt.title(\"TOP 5 - Number of gaming companies by city\")\n",
    "plt.xlabel(\"Cities\")\n",
    "plt.ylabel(\"Number of companies\");"
   ]
  },
  {
   "cell_type": "markdown",
   "metadata": {},
   "source": [
    "## Convertig DataFrame into GeoDataFrame"
   ]
  },
  {
   "cell_type": "code",
   "execution_count": 11,
   "metadata": {},
   "outputs": [
    {
     "data": {
      "text/html": [
       "<div>\n",
       "<style scoped>\n",
       "    .dataframe tbody tr th:only-of-type {\n",
       "        vertical-align: middle;\n",
       "    }\n",
       "\n",
       "    .dataframe tbody tr th {\n",
       "        vertical-align: top;\n",
       "    }\n",
       "\n",
       "    .dataframe thead th {\n",
       "        text-align: right;\n",
       "    }\n",
       "</style>\n",
       "<table border=\"1\" class=\"dataframe\">\n",
       "  <thead>\n",
       "    <tr style=\"text-align: right;\">\n",
       "      <th></th>\n",
       "      <th>name</th>\n",
       "      <th>category_code</th>\n",
       "      <th>number_of_employees</th>\n",
       "      <th>total_money_raised</th>\n",
       "      <th>description</th>\n",
       "      <th>address1</th>\n",
       "      <th>address2</th>\n",
       "      <th>zip_code</th>\n",
       "      <th>city</th>\n",
       "      <th>state_code</th>\n",
       "      <th>country_code</th>\n",
       "      <th>latitude</th>\n",
       "      <th>longitude</th>\n",
       "      <th>geometry</th>\n",
       "    </tr>\n",
       "  </thead>\n",
       "  <tbody>\n",
       "    <tr>\n",
       "      <th>0</th>\n",
       "      <td>Comcast</td>\n",
       "      <td>games_video</td>\n",
       "      <td>100000</td>\n",
       "      <td>$725M</td>\n",
       "      <td>One Comcast Center</td>\n",
       "      <td>1701 JFK Blvd</td>\n",
       "      <td></td>\n",
       "      <td>19103</td>\n",
       "      <td>Philadelphia</td>\n",
       "      <td>PA</td>\n",
       "      <td>USA</td>\n",
       "      <td>39.952576</td>\n",
       "      <td>-75.165252</td>\n",
       "      <td>POINT (-75.16525 39.95258)</td>\n",
       "    </tr>\n",
       "    <tr>\n",
       "      <th>1</th>\n",
       "      <td>The Walt Disney Company</td>\n",
       "      <td>games_video</td>\n",
       "      <td>25000</td>\n",
       "      <td>$0</td>\n",
       "      <td>None</td>\n",
       "      <td>500 S. Buena Vista St.</td>\n",
       "      <td></td>\n",
       "      <td>91521</td>\n",
       "      <td>Burbank</td>\n",
       "      <td>CA</td>\n",
       "      <td>USA</td>\n",
       "      <td>34.156802</td>\n",
       "      <td>-118.324987</td>\n",
       "      <td>POINT (-118.32499 34.15680)</td>\n",
       "    </tr>\n",
       "    <tr>\n",
       "      <th>2</th>\n",
       "      <td>Nintendo</td>\n",
       "      <td>games_video</td>\n",
       "      <td>5080</td>\n",
       "      <td>$0</td>\n",
       "      <td>None</td>\n",
       "      <td>None</td>\n",
       "      <td>None</td>\n",
       "      <td>None</td>\n",
       "      <td>None</td>\n",
       "      <td>None</td>\n",
       "      <td>JPN</td>\n",
       "      <td>36.204824</td>\n",
       "      <td>138.252924</td>\n",
       "      <td>POINT (138.25292 36.20482)</td>\n",
       "    </tr>\n",
       "    <tr>\n",
       "      <th>5</th>\n",
       "      <td>Netflix</td>\n",
       "      <td>games_video</td>\n",
       "      <td>2000</td>\n",
       "      <td>$230M</td>\n",
       "      <td>None</td>\n",
       "      <td>100 Winchester Circle</td>\n",
       "      <td></td>\n",
       "      <td>95032</td>\n",
       "      <td>Los Gatos</td>\n",
       "      <td>CA</td>\n",
       "      <td>USA</td>\n",
       "      <td>37.251420</td>\n",
       "      <td>-121.968687</td>\n",
       "      <td>POINT (-121.96869 37.25142)</td>\n",
       "    </tr>\n",
       "    <tr>\n",
       "      <th>9</th>\n",
       "      <td>Kabam</td>\n",
       "      <td>games_video</td>\n",
       "      <td>650</td>\n",
       "      <td>$125M</td>\n",
       "      <td>HQ</td>\n",
       "      <td>795 Folsom Street</td>\n",
       "      <td>Suite 600</td>\n",
       "      <td>94107</td>\n",
       "      <td>San Francisco</td>\n",
       "      <td>CA</td>\n",
       "      <td>USA</td>\n",
       "      <td>37.394456</td>\n",
       "      <td>-122.078531</td>\n",
       "      <td>POINT (-122.07853 37.39446)</td>\n",
       "    </tr>\n",
       "  </tbody>\n",
       "</table>\n",
       "</div>"
      ],
      "text/plain": [
       "                      name category_code  number_of_employees  \\\n",
       "0                  Comcast   games_video               100000   \n",
       "1  The Walt Disney Company   games_video                25000   \n",
       "2                 Nintendo   games_video                 5080   \n",
       "5                  Netflix   games_video                 2000   \n",
       "9                    Kabam   games_video                  650   \n",
       "\n",
       "  total_money_raised         description                address1   address2  \\\n",
       "0              $725M  One Comcast Center           1701 JFK Blvd              \n",
       "1                 $0                None  500 S. Buena Vista St.              \n",
       "2                 $0                None                    None       None   \n",
       "5              $230M                None   100 Winchester Circle              \n",
       "9              $125M                  HQ       795 Folsom Street  Suite 600   \n",
       "\n",
       "  zip_code           city state_code country_code   latitude   longitude  \\\n",
       "0    19103   Philadelphia         PA          USA  39.952576  -75.165252   \n",
       "1    91521        Burbank         CA          USA  34.156802 -118.324987   \n",
       "2     None           None       None          JPN  36.204824  138.252924   \n",
       "5    95032      Los Gatos         CA          USA  37.251420 -121.968687   \n",
       "9    94107  San Francisco         CA          USA  37.394456 -122.078531   \n",
       "\n",
       "                      geometry  \n",
       "0   POINT (-75.16525 39.95258)  \n",
       "1  POINT (-118.32499 34.15680)  \n",
       "2   POINT (138.25292 36.20482)  \n",
       "5  POINT (-121.96869 37.25142)  \n",
       "9  POINT (-122.07853 37.39446)  "
      ]
     },
     "execution_count": 11,
     "metadata": {},
     "output_type": "execute_result"
    }
   ],
   "source": [
    "gdf = gpd.GeoDataFrame(df_companies, geometry=gpd.points_from_xy(df_companies.longitude, df_companies.latitude))\n",
    "gdf.head()"
   ]
  },
  {
   "cell_type": "code",
   "execution_count": 12,
   "metadata": {},
   "outputs": [
    {
     "data": {
      "text/html": [
       "<iframe\n",
       "  frameborder=\"0\"\n",
       "  style=\"\n",
       "    border: 1px solid #cfcfcf;\n",
       "    width: 100%;\n",
       "    height: 632px;\n",
       "    \"\n",
       "  srcDoc=\"\n",
       "  <!DOCTYPE html>\n",
       "<html lang=&quot;en&quot;>\n",
       "<head>\n",
       "  <title>None</title>\n",
       "  <meta name=&quot;description&quot; content=&quot;None&quot;>\n",
       "  <meta name=&quot;viewport&quot; content=&quot;width=device-width, initial-scale=1.0&quot;>\n",
       "  <meta charset=&quot;UTF-8&quot;>\n",
       "  <!-- Include CARTO VL JS -->\n",
       "  <script src=&quot;https://libs.cartocdn.com/carto-vl/v1.4/carto-vl.min.js&quot;></script>\n",
       "  <!-- Include Mapbox GL JS -->\n",
       "  <script src=&quot;https://api.tiles.mapbox.com/mapbox-gl-js/v1.0.0/mapbox-gl.js&quot;></script>\n",
       "  <!-- Include Mapbox GL CSS -->\n",
       "  <link href=&quot;https://api.tiles.mapbox.com/mapbox-gl-js/v1.0.0/mapbox-gl.css&quot; rel=&quot;stylesheet&quot; />\n",
       "\n",
       "  <!-- Include Airship -->\n",
       "  <script nomodule=&quot;&quot; src=&quot;https://libs.cartocdn.com/airship-components/v2.2.0-rc.2.1/airship.js&quot;></script>\n",
       "  <script type=&quot;module&quot; src=&quot;https://libs.cartocdn.com/airship-components/v2.2.0-rc.2.1/airship/airship.esm.js&quot;></script>\n",
       "  <script src=&quot;https://libs.cartocdn.com/airship-bridge/v2.2.0-rc.2.1/asbridge.min.js&quot;></script>\n",
       "  <link href=&quot;https://libs.cartocdn.com/airship-style/v2.2.0-rc.2.1/airship.min.css&quot; rel=&quot;stylesheet&quot;>\n",
       "  <link href=&quot;https://libs.cartocdn.com/airship-icons/v2.2.0-rc.2.1/icons.css&quot; rel=&quot;stylesheet&quot;>\n",
       "\n",
       "  <link href=&quot;https://fonts.googleapis.com/css?family=Roboto&quot; rel=&quot;stylesheet&quot; type=&quot;text/css&quot;>\n",
       "\n",
       "  <!-- External libraries -->\n",
       "  \n",
       "  <!-- base64-js -->\n",
       "  <script src='https://libs.cartocdn.com/cartoframes/dependencies/base64.js'></script>\n",
       "  \n",
       "  <!-- html2canvas -->\n",
       "  \n",
       "\n",
       "  \n",
       "  <style>\n",
       "  body {\n",
       "    margin: 0;\n",
       "    padding: 0;\n",
       "  }\n",
       "\n",
       "  aside.as-sidebar {\n",
       "    min-width: 300px;\n",
       "  }\n",
       "\n",
       "  .map-image {\n",
       "    display: none;\n",
       "    max-width: 100%;\n",
       "    height: auto;\n",
       "  }\n",
       "</style>\n",
       "  <style>\n",
       "  .map {\n",
       "    position: absolute;\n",
       "    height: 100%;\n",
       "    width: 100%;\n",
       "  }\n",
       "\n",
       "  .map-info {\n",
       "    position: absolute;\n",
       "    bottom: 0;\n",
       "    padding: 0 5px;\n",
       "    background-color: rgba(255, 255, 255, 0.5);\n",
       "    margin: 0;\n",
       "    color: rgba(0, 0, 0, 0.75);\n",
       "    font-size: 12px;\n",
       "    width: auto;\n",
       "    height: 18px;\n",
       "    font-family: 'Open Sans';\n",
       "  }\n",
       "\n",
       "  .map-footer {\n",
       "    background: #F2F6F9;\n",
       "    font-family: Roboto;\n",
       "    font-size: 12px;\n",
       "    line-height: 24px;\n",
       "    color: #162945;\n",
       "    text-align: center;\n",
       "    z-index: 2;\n",
       "  }\n",
       "\n",
       "  .map-footer a {\n",
       "    text-decoration: none;\n",
       "  }\n",
       "\n",
       "  .map-footer a:hover {\n",
       "    text-decoration: underline;\n",
       "  }\n",
       "</style>\n",
       "    <style>\n",
       "    #error-container {\n",
       "      position: absolute;\n",
       "      width: 100%;\n",
       "      height: 100%;\n",
       "      background-color: white;\n",
       "      visibility: hidden;\n",
       "      padding: 1em;\n",
       "      font-family: &quot;Courier New&quot;, Courier, monospace;\n",
       "      margin: 0 auto;\n",
       "      font-size: 14px;\n",
       "      overflow: auto;\n",
       "      z-index: 1000;\n",
       "      color: black;\n",
       "    }\n",
       "\n",
       "    .error-section {\n",
       "      padding: 1em;\n",
       "      border-radius: 5px;\n",
       "      background-color: #fee;\n",
       "    }\n",
       "\n",
       "    #error-container #error-highlight {\n",
       "      font-weight: bold;\n",
       "      color: inherit;\n",
       "    }\n",
       "\n",
       "    #error-container #error-type {\n",
       "      color: #008000;\n",
       "    }\n",
       "\n",
       "    #error-container #error-name {\n",
       "      color: #ba2121;\n",
       "    }\n",
       "\n",
       "    #error-container #error-content {\n",
       "      margin-top: 0.4em;\n",
       "    }\n",
       "\n",
       "    .error-details {\n",
       "      margin-top: 1em;\n",
       "    }\n",
       "\n",
       "    #error-stacktrace {\n",
       "      list-style: none;\n",
       "    }\n",
       "</style>\n",
       "  <style>\n",
       "    .popup-content {\n",
       "      display: flex;\n",
       "      flex-direction: column;\n",
       "      padding: 8px;\n",
       "    }\n",
       "\n",
       "    .popup-name {\n",
       "      font-size: 12px;\n",
       "      font-weight: 400;\n",
       "      line-height: 20px;\n",
       "      margin-bottom: 4px;\n",
       "    }\n",
       "\n",
       "    .popup-value {\n",
       "      font-size: 16px;\n",
       "      font-weight: 600;\n",
       "      line-height: 20px;\n",
       "    }\n",
       "\n",
       "    .popup-value:not(:last-of-type) {\n",
       "      margin-bottom: 16px;\n",
       "    }\n",
       "</style>\n",
       "  <style>\n",
       "  as-widget-header .as-widget-header__header {\n",
       "    margin-bottom: 8px;\n",
       "    overflow-wrap: break-word;\n",
       "  }\n",
       "\n",
       "  as-widget-header .as-widget-header__subheader {\n",
       "    margin-bottom: 12px;\n",
       "  }\n",
       "\n",
       "  as-category-widget {\n",
       "    max-height: 250px;\n",
       "  }\n",
       "</style>\n",
       "</head>\n",
       "\n",
       "<body class=&quot;as-app-body as-app&quot;>\n",
       "  <img id=&quot;map-image&quot; class=&quot;map-image&quot; alt='Static map image' />\n",
       "  <as-responsive-content id=&quot;main-container&quot;>\n",
       "    \n",
       "    <main class=&quot;as-main&quot;>\n",
       "      <div class=&quot;as-map-area&quot;>\n",
       "        <div id=&quot;map&quot; class=&quot;map&quot;></div>\n",
       "        \n",
       "        \n",
       "          <div class=&quot;as-map-panels&quot; data-name=&quot;Legends&quot;>\n",
       "            <div class=&quot;as-panel as-panel--left as-panel--top&quot;>\n",
       "              \n",
       "\n",
       "<div class=&quot;as-panel__element&quot; id=&quot;legends&quot;>\n",
       "  \n",
       "\n",
       "  \n",
       "    \n",
       "    \n",
       "      \n",
       "        <as-legend\n",
       "          heading=&quot;number_of_employees&quot;\n",
       "          description=&quot;&quot;>\n",
       "          <as-legend-size-continuous-point id=&quot;layer0_map0_legend0&quot; slot=&quot;legends&quot;></as-legend-size-continuous-point>\n",
       "          \n",
       "        </as-legend>\n",
       "      \n",
       "    \n",
       "  \n",
       "    \n",
       "  \n",
       "</div>\n",
       "            </div> <!-- as-panel -->\n",
       "          </div> <!-- as-map-panels -->\n",
       "        \n",
       "      </div> <!-- as-map-area -->\n",
       "    </main> <!-- as-main -->\n",
       "  </as-responsive-content>\n",
       "\n",
       "  \n",
       "\n",
       "  <div id=&quot;error-container&quot; class=&quot;error&quot;>\n",
       "  <p>There is a <span class=&quot;errors&quot; id=&quot;error-highlight&quot;></span>\n",
       "  from the <a href=&quot;https://carto.com/developers/carto-vl/&quot; target=&quot;_blank&quot;>CARTO VL</a> library:</p>\n",
       "  <section class=&quot;error-section&quot;>\n",
       "    <span class=&quot;errors&quot; id=&quot;error-name&quot;></span>:\n",
       "    <section id=&quot;error-content&quot;>\n",
       "      <span class=&quot;errors&quot; id=&quot;error-type&quot;></span>\n",
       "      <span class=&quot;errors&quot; id=&quot;error-message&quot;></span>\n",
       "    </section>\n",
       "  </section>\n",
       "\n",
       "  <details class=&quot;error-details&quot;>\n",
       "    <summary>StackTrace</summary>\n",
       "    <ul id=&quot;error-stacktrace&quot;></ul>\n",
       "  </details>\n",
       "</div>\n",
       "</body>\n",
       "\n",
       "<script>\n",
       "  var init = (function () {\n",
       "  'use strict';\n",
       "\n",
       "  const BASEMAPS = {\n",
       "    DarkMatter: carto.basemaps.darkmatter,\n",
       "    Voyager: carto.basemaps.voyager,\n",
       "    Positron: carto.basemaps.positron\n",
       "  };\n",
       "\n",
       "  const attributionControl = new mapboxgl.AttributionControl({\n",
       "    compact: false\n",
       "  });\n",
       "\n",
       "  const FIT_BOUNDS_SETTINGS = { animate: false, padding: 50, maxZoom: 14 };\n",
       "\n",
       "  function format(value) {\n",
       "    if (Array.isArray(value)) {\n",
       "      const [first, second] = value;\n",
       "      if (first === -Infinity) {\n",
       "        return `< ${formatValue(second)}`;\n",
       "      }\n",
       "      if (second === Infinity) {\n",
       "        return `> ${formatValue(first)}`;\n",
       "      }\n",
       "      return `${formatValue(first)} - ${formatValue(second)}`;\n",
       "    }\n",
       "    return formatValue(value);\n",
       "  }\n",
       "\n",
       "  function formatValue(value) {\n",
       "    if (typeof value === 'number') {\n",
       "      return formatNumber(value);\n",
       "    }\n",
       "    return value;\n",
       "  }\n",
       "\n",
       "  function formatNumber(value) {\n",
       "    const log = Math.log10(Math.abs(value));\n",
       "\n",
       "    if ((log > 4 || log < -2.00000001) && value) {\n",
       "      return value.toExponential(2);\n",
       "    }\n",
       "    \n",
       "    if (!Number.isInteger(value)) {\n",
       "      return value.toLocaleString(undefined, {\n",
       "        minimumFractionDigits: 2,\n",
       "        maximumFractionDigits: 3\n",
       "      });\n",
       "    }\n",
       "    \n",
       "    return value.toLocaleString();\n",
       "  }\n",
       "\n",
       "  function updateViewport(map) {\n",
       "    function updateMapInfo() {\n",
       "      const mapInfo$ = document.getElementById('map-info');\n",
       "      const center = map.getCenter();\n",
       "      const lat = center.lat.toFixed(6);\n",
       "      const lng = center.lng.toFixed(6);\n",
       "      const zoom = map.getZoom().toFixed(2);\n",
       "    \n",
       "      mapInfo$.innerText = `viewport={'zoom': ${zoom}, 'lat': ${lat}, 'lng': ${lng}}`;\n",
       "    }\n",
       "\n",
       "    updateMapInfo();\n",
       "\n",
       "    map.on('zoom', updateMapInfo);\n",
       "    map.on('move', updateMapInfo); \n",
       "  }\n",
       "\n",
       "  function getBasecolorSettings(basecolor) {\n",
       "    return {\n",
       "      'version': 8,\n",
       "      'sources': {},\n",
       "      'layers': [{\n",
       "          'id': 'background',\n",
       "          'type': 'background',\n",
       "          'paint': {\n",
       "              'background-color': basecolor\n",
       "          }\n",
       "      }]\n",
       "    };\n",
       "  }\n",
       "\n",
       "  function getImageElement(mapIndex) {\n",
       "    const id = mapIndex !== undefined ? `map-image-${mapIndex}` : 'map-image';\n",
       "    return document.getElementById(id);\n",
       "  }\n",
       "\n",
       "  function getContainerElement(mapIndex) {\n",
       "    const id = mapIndex !== undefined ? `main-container-${mapIndex}` : 'main-container';\n",
       "    return document.getElementById(id);\n",
       "  }\n",
       "\n",
       "  function saveImage(mapIndex) {\n",
       "    const img = getImageElement(mapIndex);\n",
       "    const container = getContainerElement(mapIndex);\n",
       "\n",
       "    html2canvas(container)\n",
       "      .then((canvas) => setMapImage(canvas, img, container));\n",
       "  }\n",
       "\n",
       "  function setMapImage(canvas, img, container) {\n",
       "    const src = canvas.toDataURL();\n",
       "    img.setAttribute('src', src);\n",
       "    img.style.display = 'block';\n",
       "    container.style.display = 'none';\n",
       "  }\n",
       "\n",
       "  function createDefaultLegend(layers) {\n",
       "    const defaultLegendContainer = document.getElementById('default-legend-container');\n",
       "    defaultLegendContainer.style.display = 'none';\n",
       "\n",
       "    AsBridge.VL.Legends.layersLegend(\n",
       "      '#default-legend',\n",
       "      layers,\n",
       "      {\n",
       "        onLoad: () => defaultLegendContainer.style.display = 'unset'\n",
       "      }\n",
       "    );\n",
       "  }\n",
       "\n",
       "  function createLegend(layer, legendData, layerIndex, mapIndex=0) {\n",
       "    const element = document.querySelector(`#layer${layerIndex}_map${mapIndex}_legend`);\n",
       "    \n",
       "    if (legendData.length) {\n",
       "      legendData.forEach((legend, legendIndex) => _createLegend(layer, legend, layerIndex, legendIndex, mapIndex));\n",
       "    } else {\n",
       "      _createLegend(layer, legendData, layerIndex, 0, mapIndex);\n",
       "    }\n",
       "  }\n",
       "\n",
       "  function _createLegend(layer, legend, layerIndex, legendIndex, mapIndex=0) {\n",
       "    const element = document.querySelector(`#layer${layerIndex}_map${mapIndex}_legend${legendIndex}`);\n",
       "\n",
       "    if (legend.prop) {\n",
       "      const othersLabel = 'Others';   // TODO: i18n\n",
       "      const prop = legend.prop;\n",
       "      const dynamic = legend.dynamic;\n",
       "      const variable = legend.variable;\n",
       "      const config = { othersLabel, variable };\n",
       "      const options = { format, config, dynamic };\n",
       "\n",
       "      if (legend.type.startsWith('size-continuous')) {\n",
       "        config.samples = 4;\n",
       "      }\n",
       "      \n",
       "      AsBridge.VL.Legends.rampLegend(element, layer, prop, options);\n",
       "    }\n",
       "  }\n",
       "\n",
       "  /** From https://github.com/errwischt/stacktrace-parser/blob/master/src/stack-trace-parser.js */\n",
       "\n",
       "  /**\n",
       "   * This parses the different stack traces and puts them into one format\n",
       "   * This borrows heavily from TraceKit (https://github.com/csnover/TraceKit)\n",
       "   */\n",
       "\n",
       "  const UNKNOWN_FUNCTION = '<unknown>';\n",
       "  const chromeRe = /^\\s*at (.*?) ?\\(((?:file|https?|blob|chrome-extension|native|eval|webpack|<anonymous>|\\/).*?)(?::(\\d+))?(?::(\\d+))?\\)?\\s*$/i;\n",
       "  const chromeEvalRe = /\\((\\S*)(?::(\\d+))(?::(\\d+))\\)/;\n",
       "  const winjsRe = /^\\s*at (?:((?:\\[object object\\])?.+) )?\\(?((?:file|ms-appx|https?|webpack|blob):.*?):(\\d+)(?::(\\d+))?\\)?\\s*$/i;\n",
       "  const geckoRe = /^\\s*(.*?)(?:\\((.*?)\\))?(?:^|@)((?:file|https?|blob|chrome|webpack|resource|\\[native).*?|[^@]*bundle)(?::(\\d+))?(?::(\\d+))?\\s*$/i;\n",
       "  const geckoEvalRe = /(\\S+) line (\\d+)(?: > eval line \\d+)* > eval/i;\n",
       "\n",
       "  function parse(stackString) {\n",
       "    const lines = stackString.split('\\n');\n",
       "\n",
       "    return lines.reduce((stack, line) => {\n",
       "      const parseResult =\n",
       "        parseChrome(line) ||\n",
       "        parseWinjs(line) ||\n",
       "        parseGecko(line);\n",
       "\n",
       "      if (parseResult) {\n",
       "        stack.push(parseResult);\n",
       "      }\n",
       "\n",
       "      return stack;\n",
       "    }, []);\n",
       "  }\n",
       "\n",
       "  function parseChrome(line) {\n",
       "    const parts = chromeRe.exec(line);\n",
       "\n",
       "    if (!parts) {\n",
       "      return null;\n",
       "    }\n",
       "\n",
       "    const isNative = parts[2] && parts[2].indexOf('native') === 0; // start of line\n",
       "    const isEval = parts[2] && parts[2].indexOf('eval') === 0; // start of line\n",
       "\n",
       "    const submatch = chromeEvalRe.exec(parts[2]);\n",
       "    if (isEval && submatch != null) {\n",
       "      // throw out eval line/column and use top-most line/column number\n",
       "      parts[2] = submatch[1]; // url\n",
       "      parts[3] = submatch[2]; // line\n",
       "      parts[4] = submatch[3]; // column\n",
       "    }\n",
       "\n",
       "    return {\n",
       "      file: !isNative ? parts[2] : null,\n",
       "      methodName: parts[1] || UNKNOWN_FUNCTION,\n",
       "      arguments: isNative ? [parts[2]] : [],\n",
       "      lineNumber: parts[3] ? +parts[3] : null,\n",
       "      column: parts[4] ? +parts[4] : null,\n",
       "    };\n",
       "  }\n",
       "\n",
       "  function parseWinjs(line) {\n",
       "    const parts = winjsRe.exec(line);\n",
       "\n",
       "    if (!parts) {\n",
       "      return null;\n",
       "    }\n",
       "\n",
       "    return {\n",
       "      file: parts[2],\n",
       "      methodName: parts[1] || UNKNOWN_FUNCTION,\n",
       "      arguments: [],\n",
       "      lineNumber: +parts[3],\n",
       "      column: parts[4] ? +parts[4] : null,\n",
       "    };\n",
       "  }\n",
       "\n",
       "  function parseGecko(line) {\n",
       "    const parts = geckoRe.exec(line);\n",
       "\n",
       "    if (!parts) {\n",
       "      return null;\n",
       "    }\n",
       "\n",
       "    const isEval = parts[3] && parts[3].indexOf(' > eval') > -1;\n",
       "\n",
       "    const submatch = geckoEvalRe.exec(parts[3]);\n",
       "    if (isEval && submatch != null) {\n",
       "      // throw out eval line/column and use top-most line number\n",
       "      parts[3] = submatch[1];\n",
       "      parts[4] = submatch[2];\n",
       "      parts[5] = null; // no column when eval\n",
       "    }\n",
       "\n",
       "    return {\n",
       "      file: parts[3],\n",
       "      methodName: parts[1] || UNKNOWN_FUNCTION,\n",
       "      arguments: parts[2] ? parts[2].split(',') : [],\n",
       "      lineNumber: parts[4] ? +parts[4] : null,\n",
       "      column: parts[5] ? +parts[5] : null,\n",
       "    };\n",
       "  }\n",
       "\n",
       "  function displayError(e) {\n",
       "    const error$ = document.getElementById('error-container');\n",
       "    const errors$ = error$.getElementsByClassName('errors');\n",
       "    const stacktrace$ = document.getElementById('error-stacktrace');\n",
       "\n",
       "    errors$[0].innerHTML = e.name;\n",
       "    errors$[1].innerHTML = e.name;\n",
       "    errors$[2].innerHTML = e.type;\n",
       "    errors$[3].innerHTML = e.message.replace(e.type, '');\n",
       "\n",
       "    error$.style.visibility = 'visible';\n",
       "\n",
       "    const stack = parse(e.stack);\n",
       "    const list = stack.map(item => {\n",
       "      return `<li>\n",
       "      at <span class=&quot;stacktrace-method&quot;>${item.methodName}:</span>\n",
       "      (${item.file}:${item.lineNumber}:${item.column})\n",
       "    </li>`;\n",
       "    });\n",
       "\n",
       "    stacktrace$.innerHTML = list.join('\\n');\n",
       "  }\n",
       "\n",
       "  function resetPopupClick(interactivity) {\n",
       "    interactivity.off('featureClick');\n",
       "  }\n",
       "\n",
       "  function resetPopupHover(interactivity) {\n",
       "    interactivity.off('featureHover');\n",
       "  }\n",
       "\n",
       "  function setPopupsClick(map, popup, interactivity, attrs) {\n",
       "    interactivity.on('featureClick', (event) => {\n",
       "      updatePopup(map, popup, event, attrs);\n",
       "    });\n",
       "  }\n",
       "\n",
       "  function setPopupsHover(map, popup, interactivity, attrs) {\n",
       "    interactivity.on('featureHover', (event) => {\n",
       "      updatePopup(map, popup, event, attrs);\n",
       "    });\n",
       "  }\n",
       "\n",
       "  function updatePopup(map, popup, event, attrs) {\n",
       "    if (event.features.length > 0) {\n",
       "      let popupHTML = '';\n",
       "      const layerIDs = [];\n",
       "\n",
       "      for (const feature of event.features) {\n",
       "        if (layerIDs.includes(feature.layerId)) {\n",
       "          continue;\n",
       "        }\n",
       "        // Track layers to add only one feature per layer\n",
       "        layerIDs.push(feature.layerId);\n",
       "    \n",
       "        for (const item of attrs) {\n",
       "          const variable = feature.variables[item.name];\n",
       "          if (variable) {\n",
       "            let value = variable.value;\n",
       "            value = formatValue(value);\n",
       "\n",
       "            popupHTML = `\n",
       "            <span class=&quot;popup-name&quot;>${item.title}</span>\n",
       "            <span class=&quot;popup-value&quot;>${value}</span>\n",
       "          ` + popupHTML;\n",
       "          }\n",
       "        }\n",
       "      }\n",
       "\n",
       "      popup\n",
       "          .setLngLat([event.coordinates.lng, event.coordinates.lat])\n",
       "          .setHTML(`<div class=&quot;popup-content&quot;>${popupHTML}</div>`);\n",
       "\n",
       "      if (!popup.isOpen()) {\n",
       "        popup.addTo(map);\n",
       "      }\n",
       "    } else {\n",
       "      popup.remove();\n",
       "    }\n",
       "  }\n",
       "\n",
       "  function setInteractivity(map, interactiveLayers, interactiveMapLayers) {\n",
       "    const interactivity = new carto.Interactivity(interactiveMapLayers);\n",
       "    const popup = new mapboxgl.Popup({\n",
       "      closeButton: false,\n",
       "      closeOnClick: false\n",
       "    });\n",
       "\n",
       "    const { clickAttrs, hoverAttrs } = _setInteractivityAttrs(interactiveLayers);\n",
       "\n",
       "    resetPopupClick(map);\n",
       "    resetPopupHover(map);\n",
       "\n",
       "    if (clickAttrs.length > 0) {\n",
       "      setPopupsClick(map, popup, interactivity, clickAttrs);\n",
       "    }\n",
       "\n",
       "    if (hoverAttrs.length > 0) {\n",
       "      setPopupsHover(map, popup, interactivity, hoverAttrs);\n",
       "    }\n",
       "  }\n",
       "\n",
       "  function _setInteractivityAttrs(interactiveLayers) {\n",
       "    let clickAttrs = [];\n",
       "    let hoverAttrs = [];\n",
       "\n",
       "    interactiveLayers.forEach((interactiveLayer) => {\n",
       "      interactiveLayer.interactivity.forEach((interactivityDef) => {\n",
       "        if (interactivityDef.event === 'click') {\n",
       "          clickAttrs = clickAttrs.concat(interactivityDef.attrs);\n",
       "        } else if (interactivityDef.event === 'hover') {\n",
       "          hoverAttrs = hoverAttrs.concat(interactivityDef.attrs);\n",
       "        }\n",
       "      });\n",
       "    });\n",
       "\n",
       "    return { clickAttrs, hoverAttrs };\n",
       "  }\n",
       "\n",
       "  function renderWidget(widget, value) {\n",
       "    widget.element = widget.element || document.querySelector(`#${widget.id}-value`);\n",
       "\n",
       "    if (value && widget.element) {\n",
       "      widget.element.innerText = typeof value === 'number' ? format(value) : value;\n",
       "    }\n",
       "  }\n",
       "\n",
       "  function renderBridge(bridge, widget, mapLayer) {\n",
       "    widget.element = widget.element || document.querySelector(`#${widget.id}`);\n",
       "\n",
       "    switch (widget.type) {\n",
       "      case 'histogram':\n",
       "        const type = _getWidgetType(mapLayer, widget.value, widget.prop);\n",
       "        const histogram = type === 'category' ? 'categoricalHistogram' : 'numericalHistogram';\n",
       "        bridge[histogram](widget.element, widget.value, widget.options);\n",
       "\n",
       "        break;\n",
       "      case 'category':\n",
       "        bridge.category(widget.element, widget.value, widget.options);\n",
       "        break;\n",
       "      case 'animation':\n",
       "        widget.options.propertyName = widget.prop;\n",
       "        bridge.animationControls(widget.element, widget.value, widget.options);\n",
       "        break;\n",
       "      case 'time-series':\n",
       "        widget.options.propertyName = widget.prop;\n",
       "        bridge.timeSeries(widget.element, widget.value, widget.options);\n",
       "        break;\n",
       "    }\n",
       "  }\n",
       "\n",
       "  function bridgeLayerWidgets(map, mapLayer, mapSource, widgets) {\n",
       "    const bridge = new AsBridge.VL.Bridge({\n",
       "      carto: carto,\n",
       "      layer: mapLayer,\n",
       "      source: mapSource,\n",
       "      map: map\n",
       "    });\n",
       "\n",
       "    widgets\n",
       "      .filter((widget) => widget.has_bridge)\n",
       "      .forEach((widget) => renderBridge(bridge, widget, mapLayer));\n",
       "\n",
       "    bridge.build();\n",
       "  }\n",
       "\n",
       "  function _getWidgetType(layer, property, value) {\n",
       "    return layer.metadata && layer.metadata.properties[value] ?\n",
       "      layer.metadata.properties[value].type\n",
       "      : _getWidgetPropertyType(layer, property);\n",
       "  }\n",
       "\n",
       "  function _getWidgetPropertyType(layer, property) {\n",
       "    return layer.metadata && layer.metadata.properties[property] ?\n",
       "      layer.metadata.properties[property].type\n",
       "      : null;\n",
       "  }\n",
       "\n",
       "  function SourceFactory() {\n",
       "    const sourceTypes = { GeoJSON, Query, MVT };\n",
       "\n",
       "    this.createSource = (layer) => {\n",
       "      return sourceTypes[layer.type](layer);\n",
       "    };\n",
       "  }\n",
       "\n",
       "  function GeoJSON(layer) {\n",
       "    return new carto.source.GeoJSON(_decodeJSONQuery(layer.query));\n",
       "  }\n",
       "\n",
       "  function Query(layer) {\n",
       "    const auth = {\n",
       "      username: layer.credentials.username,\n",
       "      apiKey: layer.credentials.api_key || 'default_public'\n",
       "    };\n",
       "\n",
       "    const config = {\n",
       "      serverURL: layer.credentials.base_url || `https://${layer.credentials.username}.carto.com/`\n",
       "    };\n",
       "\n",
       "    return new carto.source.SQL(layer.query, auth, config);\n",
       "  }\n",
       "\n",
       "  function MVT(layer) {\n",
       "    return new carto.source.MVT(layer.query.file, JSON.parse(layer.query.metadata));\n",
       "  }\n",
       "\n",
       "  function _decodeJSONQuery(query) {\n",
       "    return JSON.parse(Base64.decode(query.replace(/b\\'/, '\\'')));\n",
       "  }\n",
       "\n",
       "  const factory = new SourceFactory();\n",
       "\n",
       "  function initMapLayer(layer, layerIndex, numLayers, hasLegends, map, mapIndex) {\n",
       "    const mapSource = factory.createSource(layer);\n",
       "    const mapViz = new carto.Viz(layer.viz);\n",
       "    const mapLayer = new carto.Layer(`layer${layerIndex}`, mapSource, mapViz);\n",
       "    const mapLayerIndex = numLayers - layerIndex - 1;\n",
       "\n",
       "    try {\n",
       "      mapLayer._updateLayer.catch(displayError);\n",
       "    } catch (e) {\n",
       "      throw e;\n",
       "    }\n",
       "\n",
       "\n",
       "    mapLayer.addTo(map);\n",
       "\n",
       "    setLayerLegend(layer, mapLayerIndex, mapLayer, mapIndex, hasLegends);\n",
       "    setLayerWidgets(map, layer, mapLayer, mapLayerIndex, mapSource);\n",
       "\n",
       "    return mapLayer;\n",
       "  }\n",
       "\n",
       "  function getInteractiveLayers(layers, mapLayers) {\n",
       "    const interactiveLayers = [];\n",
       "    const interactiveMapLayers = [];\n",
       "\n",
       "    layers.forEach((layer, index) => {\n",
       "      if (layer.interactivity) {\n",
       "        interactiveLayers.push(layer);\n",
       "        interactiveMapLayers.push(mapLayers[index]);\n",
       "      }\n",
       "    });\n",
       "\n",
       "    return { interactiveLayers, interactiveMapLayers };\n",
       "  }\n",
       "\n",
       "  function setLayerLegend(layer, mapLayerIndex, mapLayer, mapIndex, hasLegends) {\n",
       "    if (hasLegends && layer.legend) {\n",
       "      createLegend(mapLayer, layer.legend, mapLayerIndex, mapIndex);\n",
       "    }\n",
       "  }\n",
       "\n",
       "  function setLayerWidgets(map, layer, mapLayer, mapLayerIndex, mapSource) {\n",
       "    if (layer.widgets.length) {\n",
       "      initLayerWidgets(layer.widgets, mapLayerIndex);\n",
       "      updateLayerWidgets(layer.widgets, mapLayer);\n",
       "      bridgeLayerWidgets(map, mapLayer, mapSource, layer.widgets);\n",
       "    }\n",
       "  }\n",
       "\n",
       "  function initLayerWidgets(widgets, mapLayerIndex) {\n",
       "    widgets.forEach((widget, widgetIndex) => {\n",
       "      const id = `layer${mapLayerIndex}_widget${widgetIndex}`;\n",
       "      widget.id = id;\n",
       "    });\n",
       "  }\n",
       "\n",
       "  function updateLayerWidgets(widgets, mapLayer) {\n",
       "    mapLayer.on('updated', () => renderLayerWidgets(widgets, mapLayer));\n",
       "  }\n",
       "\n",
       "  function renderLayerWidgets(widgets, mapLayer) {\n",
       "    const variables = mapLayer.viz.variables;\n",
       "\n",
       "    widgets\n",
       "      .filter((widget) => !widget.has_bridge)\n",
       "      .forEach((widget) => {\n",
       "        const name = widget.variable_name;\n",
       "        const value = getWidgetValue(name, variables);\n",
       "        renderWidget(widget, value);\n",
       "      });\n",
       "  }\n",
       "\n",
       "  function getWidgetValue(name, variables) {\n",
       "    return name && variables[name] ? variables[name].value : null;\n",
       "  }\n",
       "\n",
       "  function setReady(settings) {\n",
       "    try {\n",
       "      return settings.maps ? initMaps(settings.maps) : initMap(settings);\n",
       "    } catch (e) {\n",
       "      displayError(e);\n",
       "    }\n",
       "  }\n",
       "\n",
       "  function initMaps(maps) {\n",
       "    return maps.map((mapSettings, mapIndex) => {\n",
       "      return initMap(mapSettings, mapIndex);\n",
       "    });\n",
       "  }\n",
       "\n",
       "  function initMap(settings, mapIndex) {\n",
       "    const basecolor = getBasecolorSettings(settings.basecolor);\n",
       "    const basemapStyle =  BASEMAPS[settings.basemap] || settings.basemap || basecolor;\n",
       "    const container = mapIndex !== undefined ? `map-${mapIndex}` : 'map';\n",
       "    const map = createMap(container, basemapStyle, settings.bounds, settings.mapboxtoken);\n",
       "\n",
       "    if (settings.show_info) {\n",
       "      updateViewport(map);\n",
       "    }\n",
       "\n",
       "    if (settings.camera) {\n",
       "      map.flyTo(settings.camera);\n",
       "    }\n",
       "\n",
       "    return initLayers(map, settings, mapIndex);\n",
       "  }\n",
       "\n",
       "  function initLayers(map, settings, mapIndex) {\n",
       "    const numLayers = settings.layers.length;\n",
       "    const hasLegends = settings.has_legends;\n",
       "    const isDefaultLegend = settings.default_legend;\n",
       "    const isStatic = settings.is_static;\n",
       "    const layers = settings.layers;\n",
       "    const mapLayers = getMapLayers(\n",
       "      layers,\n",
       "      numLayers,\n",
       "      hasLegends,\n",
       "      map,\n",
       "      mapIndex\n",
       "    );\n",
       "\n",
       "    createLegend$1(isDefaultLegend, mapLayers);\n",
       "    setInteractiveLayers(map, layers, mapLayers);\n",
       "\n",
       "    return waitForMapLayersLoad(isStatic, mapIndex, mapLayers);\n",
       "  }\n",
       "\n",
       "  function waitForMapLayersLoad(isStatic, mapIndex, mapLayers) {\n",
       "    return new Promise((resolve) => {\n",
       "      carto.on('loaded', mapLayers, onMapLayersLoaded.bind(\n",
       "        this, isStatic, mapIndex, mapLayers, resolve)\n",
       "      );\n",
       "    });\n",
       "  }\n",
       "\n",
       "  function onMapLayersLoaded(isStatic, mapIndex, mapLayers, resolve) {\n",
       "    if (isStatic) {\n",
       "      saveImage(mapIndex);\n",
       "    }\n",
       "\n",
       "    resolve(mapLayers);\n",
       "  }\n",
       "\n",
       "  function getMapLayers(layers, numLayers, hasLegends, map, mapIndex) {\n",
       "    return layers.map((layer, layerIndex) => {\n",
       "      return initMapLayer(layer, layerIndex, numLayers, hasLegends, map, mapIndex);\n",
       "    });\n",
       "  }\n",
       "\n",
       "  function setInteractiveLayers(map, layers, mapLayers) {\n",
       "    const { interactiveLayers, interactiveMapLayers } = getInteractiveLayers(layers, mapLayers);\n",
       "\n",
       "    if (interactiveLayers && interactiveLayers.length > 0) {\n",
       "      setInteractivity(map, interactiveLayers, interactiveMapLayers);\n",
       "    }\n",
       "  }\n",
       "\n",
       "  function createLegend$1(isDefaultLegend, mapLayers) {\n",
       "    if (isDefaultLegend) {\n",
       "      createDefaultLegend(mapLayers);\n",
       "    }\n",
       "  }\n",
       "\n",
       "  function createMap(container, basemapStyle, bounds, accessToken) {\n",
       "    const map = createMapboxGLMap(container, basemapStyle, accessToken);\n",
       "\n",
       "    map.addControl(attributionControl);\n",
       "    map.fitBounds(bounds, FIT_BOUNDS_SETTINGS);\n",
       "\n",
       "    return map;\n",
       "  }\n",
       "\n",
       "  function createMapboxGLMap(container, style, accessToken) {\n",
       "    if (accessToken) {\n",
       "      mapboxgl.accessToken = accessToken;\n",
       "    }\n",
       "\n",
       "    return new mapboxgl.Map({\n",
       "      container,\n",
       "      style,\n",
       "      zoom: 9,\n",
       "      dragRotate: false,\n",
       "      attributionControl: false\n",
       "    });\n",
       "  }\n",
       "\n",
       "  function init(settings) {\n",
       "    setReady(settings);\n",
       "  }\n",
       "\n",
       "  return init;\n",
       "\n",
       "}());\n",
       "</script>\n",
       "<script>\n",
       "  document\n",
       "  .querySelector('as-responsive-content')\n",
       "  .addEventListener('ready', () => {\n",
       "    const basecolor = '';\n",
       "    const basemap = 'Positron';\n",
       "    const bounds = [[-123.3558507, -33.884685], [153.033686, 60.171821]];\n",
       "    const camera = null;\n",
       "    const default_legend = 'False' === 'true';\n",
       "    const has_legends = 'true' === 'true';\n",
       "    const is_static = 'None' === 'true';\n",
       "    const layers = [{&quot;credentials&quot;: {&quot;api_key&quot;: &quot;default_public&quot;, &quot;base_url&quot;: &quot;&quot;, &quot;username&quot;: &quot;cartoframes&quot;}, &quot;has_legend_list&quot;: false, &quot;interactivity&quot;: [], &quot;legend&quot;: {}, &quot;query&quot;: &quot;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&quot;, &quot;type&quot;: &quot;GeoJSON&quot;, &quot;viz&quot;: &quot;color: hex(\\&quot;#EE4D5A\\&quot;)\\nwidth: ramp(linear(zoom(),0,18),[2,10])\\nstrokeWidth: ramp(linear(zoom(),0,18),[0,1])\\nstrokeColor: opacity(#222,ramp(linear(zoom(),0,18),[0,0.6]))\\n&quot;, &quot;widgets&quot;: []}, {&quot;credentials&quot;: {&quot;api_key&quot;: &quot;default_public&quot;, &quot;base_url&quot;: &quot;&quot;, &quot;username&quot;: &quot;cartoframes&quot;}, &quot;has_legend_list&quot;: false, &quot;interactivity&quot;: [{&quot;attrs&quot;: [{&quot;name&quot;: &quot;v3e6f6a&quot;, &quot;title&quot;: &quot;number_of_employees&quot;}], &quot;event&quot;: &quot;hover&quot;}], &quot;legend&quot;: {&quot;description&quot;: &quot;&quot;, &quot;dynamic&quot;: true, &quot;footer&quot;: &quot;&quot;, &quot;prop&quot;: &quot;width&quot;, &quot;title&quot;: &quot;number_of_employees&quot;, &quot;type&quot;: &quot;size-continuous-point&quot;, &quot;variable&quot;: &quot;width_value&quot;}, &quot;query&quot;: &quot;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&quot;, &quot;type&quot;: &quot;GeoJSON&quot;, &quot;viz&quot;: &quot;@v3e6f6a: $number_of_employees\\ncolor: opacity(#FFB927, 0.8)\\nwidth: ramp(linear(sqrt($number_of_employees), sqrt(globalMin($number_of_employees)), sqrt(globalMax($number_of_employees))), [2, 40])\\nstrokeWidth: ramp(linear(zoom(),0,18),[0,1])\\nstrokeColor: opacity(#222,ramp(linear(zoom(),0,18),[0,0.6]))\\n@width_value: ramp(linear($number_of_employees, globalMin($number_of_employees), globalMax($number_of_employees)), [2, 40])\\nfilter: 1\\n&quot;, &quot;widgets&quot;: []}];\n",
       "    const mapboxtoken = '';\n",
       "    const show_info = 'None' === 'true';\n",
       "\n",
       "    init({\n",
       "      basecolor,\n",
       "      basemap,\n",
       "      bounds,\n",
       "      camera,\n",
       "      default_legend,\n",
       "      has_legends,\n",
       "      is_static,\n",
       "      layers,\n",
       "      mapboxtoken,\n",
       "      show_info\n",
       "    });\n",
       "});\n",
       "</script>\n",
       "</html>\n",
       "\">\n",
       "\n",
       "</iframe>"
      ],
      "text/plain": [
       "<cartoframes.viz.map.Map at 0x11d6dcc10>"
      ]
     },
     "execution_count": 12,
     "metadata": {},
     "output_type": "execute_result"
    }
   ],
   "source": [
    "Map([Layer(gdf), size_continuous_layer(gdf, 'number_of_employees')])"
   ]
  },
  {
   "cell_type": "markdown",
   "metadata": {},
   "source": [
    "## MAPS BY CITY"
   ]
  },
  {
   "cell_type": "markdown",
   "metadata": {},
   "source": [
    "### GEOCODE API: \n",
    "NEEDED FUNCTION IN ORDER TO EXTRACT COORDINATES:"
   ]
  },
  {
   "cell_type": "code",
   "execution_count": 13,
   "metadata": {},
   "outputs": [],
   "source": [
    "def geocode(address):\n",
    "    data = requests.get(f\"https://geocode.xyz/{address}?json=1\").json()\n",
    "    return {\n",
    "        \"type\":\"Point\",\n",
    "        \"coordinates\":[float(data[\"longt\"]),float(data[\"latt\"])]\n",
    "    }"
   ]
  },
  {
   "cell_type": "markdown",
   "metadata": {},
   "source": [
    "### 1 - SAN FRANCISCO"
   ]
  },
  {
   "cell_type": "code",
   "execution_count": 14,
   "metadata": {},
   "outputs": [
    {
     "data": {
      "text/plain": [
       "{'type': 'Point', 'coordinates': [-122.40438, 37.66873]}"
      ]
     },
     "execution_count": 14,
     "metadata": {},
     "output_type": "execute_result"
    }
   ],
   "source": [
    "sf = geocode(\"San Francisco, CA, USA\")\n",
    "sf"
   ]
  },
  {
   "cell_type": "code",
   "execution_count": 15,
   "metadata": {},
   "outputs": [
    {
     "data": {
      "text/plain": [
       "<folium.map.Marker at 0x11ad9fd50>"
      ]
     },
     "execution_count": 15,
     "metadata": {},
     "output_type": "execute_result"
    }
   ],
   "source": [
    "start_lat = 37.66873\n",
    "start_lon = -122.40438\n",
    "heat_m_sf = folium.Map(location=[start_lat, start_lon],tiles='cartodbpositron', zoom_start=15)\n",
    "Marker([start_lat, start_lon], icon=folium.Icon(color='lightgreen')).add_to(heat_m_sf)"
   ]
  },
  {
   "cell_type": "code",
   "execution_count": 16,
   "metadata": {
    "scrolled": false
   },
   "outputs": [
    {
     "data": {
      "text/html": [
       "<div style=\"width:100%;\"><div style=\"position:relative;width:100%;height:0;padding-bottom:60%;\"><iframe src=\"data:text/html;charset=utf-8;base64,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\" style=\"position:absolute;width:100%;height:100%;left:0;top:0;border:none !important;\" allowfullscreen webkitallowfullscreen mozallowfullscreen></iframe></div></div>"
      ],
      "text/plain": [
       "<folium.folium.Map at 0x11db84710>"
      ]
     },
     "execution_count": 16,
     "metadata": {},
     "output_type": "execute_result"
    }
   ],
   "source": [
    "companies = gdf\n",
    "companies_group = folium.FeatureGroup(name=\"Gaming Companies\")\n",
    "HeatMap(data=companies[['latitude', 'longitude']],radius=15).add_to(companies_group)\n",
    "companies_group.add_to(heat_m_sf)\n",
    "heat_m_sf"
   ]
  },
  {
   "cell_type": "code",
   "execution_count": 137,
   "metadata": {},
   "outputs": [
    {
     "name": "stderr",
     "output_type": "stream",
     "text": [
      "Python-dotenv could not parse statement starting at line 2\n"
     ]
    },
    {
     "name": "stdout",
     "output_type": "stream",
     "text": [
      "37.6213129\n",
      "-122.3789554\n"
     ]
    }
   ],
   "source": [
    "load_dotenv()\n",
    "token = os.getenv(\"TOKEN_GOOGLE\")\n",
    "address='San Francisco Airport USA'\n",
    "data = requests.get(f\"https://maps.googleapis.com/maps/api/geocode/json?address={address}&key={token}\").json()\n",
    "\n",
    "lat_sf_airport=(data['results'][0]['geometry']['location']['lat'])\n",
    "long_sf_airport=(data['results'][0]['geometry']['location']['lng'])\n",
    "print(lat_sf_airport)\n",
    "print(long_sf_airport)"
   ]
  },
  {
   "cell_type": "code",
   "execution_count": 136,
   "metadata": {},
   "outputs": [
    {
     "data": {
      "text/html": [
       "<div style=\"width:100%;\"><div style=\"position:relative;width:100%;height:0;padding-bottom:60%;\"><iframe src=\"data:text/html;charset=utf-8;base64,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\" style=\"position:absolute;width:100%;height:100%;left:0;top:0;border:none !important;\" allowfullscreen webkitallowfullscreen mozallowfullscreen></iframe></div></div>"
      ],
      "text/plain": [
       "<folium.folium.Map at 0x11db84710>"
      ]
     },
     "execution_count": 136,
     "metadata": {},
     "output_type": "execute_result"
    }
   ],
   "source": [
    "heat_m_sf.add_child(Marker([lat_sf_airport, long_sf_airport], icon=folium.Icon(color='lightblue')))\n",
    "heat_m_sf"
   ]
  },
  {
   "cell_type": "code",
   "execution_count": 19,
   "metadata": {},
   "outputs": [
    {
     "name": "stdout",
     "output_type": "stream",
     "text": [
      "5.728065177954947\n"
     ]
    }
   ],
   "source": [
    "#KM between airport & city\n",
    "sf = (37.66873,-122.40438) \n",
    "airport_sf = (37.6213129,-122.3789554) \n",
    "print(great_circle(sf, airport_sf).km)"
   ]
  },
  {
   "cell_type": "markdown",
   "metadata": {},
   "source": [
    "### 2 - NEW YORK"
   ]
  },
  {
   "cell_type": "code",
   "execution_count": 20,
   "metadata": {},
   "outputs": [
    {
     "data": {
      "text/plain": [
       "{'type': 'Point', 'coordinates': [-73.9586, 40.68908]}"
      ]
     },
     "execution_count": 20,
     "metadata": {},
     "output_type": "execute_result"
    }
   ],
   "source": [
    "ny = geocode(\"New York\")\n",
    "ny"
   ]
  },
  {
   "cell_type": "code",
   "execution_count": 21,
   "metadata": {},
   "outputs": [
    {
     "data": {
      "text/plain": [
       "<folium.map.Marker at 0x1071c2490>"
      ]
     },
     "execution_count": 21,
     "metadata": {},
     "output_type": "execute_result"
    }
   ],
   "source": [
    "start_lat = 40.689081\n",
    "start_lon = -73.9586\n",
    "heat_m_ny = folium.Map(location=[start_lat, start_lon],tiles='cartodbpositron', zoom_start=15)\n",
    "Marker([start_lat, start_lon], icon=folium.Icon(color='red')).add_to(heat_m_ny)"
   ]
  },
  {
   "cell_type": "code",
   "execution_count": 138,
   "metadata": {},
   "outputs": [
    {
     "name": "stderr",
     "output_type": "stream",
     "text": [
      "Python-dotenv could not parse statement starting at line 2\n"
     ]
    },
    {
     "name": "stdout",
     "output_type": "stream",
     "text": [
      "40.6413111\n",
      "-73.77813909999999\n"
     ]
    }
   ],
   "source": [
    "load_dotenv()\n",
    "token = os.getenv(\"TOKEN_GOOGLE\")\n",
    "\n",
    "address='New York Airport'\n",
    "data = requests.get(f\"https://maps.googleapis.com/maps/api/geocode/json?address={address}&key={token}\").json()\n",
    "lat_ny_airport=(data['results'][0]['geometry']['location']['lat'])\n",
    "long_ny_airport=(data['results'][0]['geometry']['location']['lng'])\n",
    "print(lat_ny_airport)\n",
    "print(long_ny_airport)"
   ]
  },
  {
   "cell_type": "code",
   "execution_count": 23,
   "metadata": {},
   "outputs": [
    {
     "data": {
      "text/plain": [
       "<folium.map.FeatureGroup at 0x11aeaa850>"
      ]
     },
     "execution_count": 23,
     "metadata": {},
     "output_type": "execute_result"
    }
   ],
   "source": [
    "companies = gdf\n",
    "companies_group = folium.FeatureGroup(name=\"Gaming Companies\")\n",
    "HeatMap(data=companies[['latitude', 'longitude']],radius=15).add_to(companies_group)\n",
    "companies_group.add_to(heat_m_ny)"
   ]
  },
  {
   "cell_type": "code",
   "execution_count": 139,
   "metadata": {},
   "outputs": [
    {
     "data": {
      "text/html": [
       "<div style=\"width:100%;\"><div style=\"position:relative;width:100%;height:0;padding-bottom:60%;\"><iframe src=\"data:text/html;charset=utf-8;base64,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\" style=\"position:absolute;width:100%;height:100%;left:0;top:0;border:none !important;\" allowfullscreen webkitallowfullscreen mozallowfullscreen></iframe></div></div>"
      ],
      "text/plain": [
       "<folium.folium.Map at 0x1071c2b10>"
      ]
     },
     "execution_count": 139,
     "metadata": {},
     "output_type": "execute_result"
    }
   ],
   "source": [
    "heat_m_ny.add_child(Marker([lat_ny_airport, long_ny_airport], icon=folium.Icon(color='lightblue')))"
   ]
  },
  {
   "cell_type": "code",
   "execution_count": 25,
   "metadata": {},
   "outputs": [
    {
     "name": "stdout",
     "output_type": "stream",
     "text": [
      "16.228637161599178\n"
     ]
    }
   ],
   "source": [
    "#KM between airport & city\n",
    "ny = (40.689081,-73.9586) \n",
    "airport_ny = (40.6413111,-73.7767901197085) \n",
    "print(great_circle(ny, airport_ny).km)"
   ]
  },
  {
   "cell_type": "markdown",
   "metadata": {},
   "source": [
    "### 3 - LOS ANGELES"
   ]
  },
  {
   "cell_type": "code",
   "execution_count": 26,
   "metadata": {},
   "outputs": [
    {
     "data": {
      "text/plain": [
       "{'type': 'Point', 'coordinates': [-118.29757, 34.04015]}"
      ]
     },
     "execution_count": 26,
     "metadata": {},
     "output_type": "execute_result"
    }
   ],
   "source": [
    "la = geocode(\"Los Angeles\")\n",
    "la"
   ]
  },
  {
   "cell_type": "code",
   "execution_count": 27,
   "metadata": {},
   "outputs": [
    {
     "data": {
      "text/plain": [
       "<folium.map.Marker at 0x1071c9e90>"
      ]
     },
     "execution_count": 27,
     "metadata": {},
     "output_type": "execute_result"
    }
   ],
   "source": [
    "start_lat = 34.04015\n",
    "start_lon = -118.29757\n",
    "heat_m_la = folium.Map(location=[start_lat, start_lon],tiles='cartodbpositron', zoom_start=15)\n",
    "Marker([start_lat, start_lon], icon=folium.Icon(color='green')).add_to(heat_m_la)"
   ]
  },
  {
   "cell_type": "code",
   "execution_count": 28,
   "metadata": {},
   "outputs": [
    {
     "data": {
      "text/plain": [
       "<folium.map.FeatureGroup at 0x1071e07d0>"
      ]
     },
     "execution_count": 28,
     "metadata": {},
     "output_type": "execute_result"
    }
   ],
   "source": [
    "companies = gdf\n",
    "companies_group = folium.FeatureGroup(name=\"Gaming Companies\")\n",
    "HeatMap(data=companies[['latitude', 'longitude']],radius=15).add_to(companies_group)\n",
    "companies_group.add_to(heat_m_la)"
   ]
  },
  {
   "cell_type": "code",
   "execution_count": 114,
   "metadata": {},
   "outputs": [
    {
     "name": "stderr",
     "output_type": "stream",
     "text": [
      "Python-dotenv could not parse statement starting at line 2\n"
     ]
    },
    {
     "name": "stdout",
     "output_type": "stream",
     "text": [
      "{'results': [{'address_components': [{'long_name': 'Los Angeles International Airport', 'short_name': 'Los Angeles International Airport', 'types': ['airport', 'establishment', 'point_of_interest']}, {'long_name': '1', 'short_name': '1', 'types': ['street_number']}, {'long_name': 'World Way', 'short_name': 'World Way', 'types': ['route']}, {'long_name': 'Los Angeles', 'short_name': 'Los Angeles', 'types': ['locality', 'political']}, {'long_name': 'Los Angeles County', 'short_name': 'Los Angeles County', 'types': ['administrative_area_level_2', 'political']}, {'long_name': 'California', 'short_name': 'CA', 'types': ['administrative_area_level_1', 'political']}, {'long_name': 'United States', 'short_name': 'US', 'types': ['country', 'political']}, {'long_name': '90045', 'short_name': '90045', 'types': ['postal_code']}], 'formatted_address': 'Los Angeles International Airport (LAX), 1 World Way, Los Angeles, CA 90045, USA', 'geometry': {'location': {'lat': 33.9415889, 'lng': -118.40853}, 'location_type': 'ROOFTOP', 'viewport': {'northeast': {'lat': 33.9429378802915, 'lng': -118.4071810197085}, 'southwest': {'lat': 33.9402399197085, 'lng': -118.4098789802915}}}, 'place_id': 'ChIJtU-yE9KwwoAR8a2LaVd7qHc', 'plus_code': {'compound_code': 'WHRR+JH Los Angeles, California, United States', 'global_code': '8553WHRR+JH'}, 'types': ['airport', 'establishment', 'point_of_interest']}], 'status': 'OK'}\n"
     ]
    }
   ],
   "source": [
    "load_dotenv()\n",
    "token = os.getenv(\"TOKEN_GOOGLE\")\n",
    "address='Los Angeles Airport'\n",
    "data = requests.get(f\"https://maps.googleapis.com/maps/api/geocode/json?address={address}&key={token}\").json()\n",
    "print(data)"
   ]
  },
  {
   "cell_type": "code",
   "execution_count": 65,
   "metadata": {
    "scrolled": false
   },
   "outputs": [
    {
     "data": {
      "text/html": [
       "<div style=\"width:100%;\"><div style=\"position:relative;width:100%;height:0;padding-bottom:60%;\"><iframe src=\"data:text/html;charset=utf-8;base64,PCFET0NUWVBFIGh0bWw+CjxoZWFkPiAgICAKICAgIDxtZXRhIGh0dHAtZXF1aXY9ImNvbnRlbnQtdHlwZSIgY29udGVudD0idGV4dC9odG1sOyBjaGFyc2V0PVVURi04IiAvPgogICAgCiAgICAgICAgPHNjcmlwdD4KICAgICAgICAgICAgTF9OT19UT1VDSCA9IGZhbHNlOwogICAgICAgICAgICBMX0RJU0FCTEVfM0QgPSBmYWxzZTsKICAgICAgICA8L3NjcmlwdD4KICAgIAogICAgPHNjcmlwdCBzcmM9Imh0dHBzOi8vY2RuLmpzZGVsaXZyLm5ldC9ucG0vbGVhZmxldEAxLjUuMS9kaXN0L2xlYWZsZXQuanMiPjwvc2NyaXB0PgogICAgPHNjcmlwdCBzcmM9Imh0dHBzOi8vY29kZS5qcXVlcnkuY29tL2pxdWVyeS0xLjEyLjQubWluLmpzIj48L3NjcmlwdD4KICAgIDxzY3JpcHQgc3JjPSJodHRwczovL21heGNkbi5ib290c3RyYXBjZG4uY29tL2Jvb3RzdHJhcC8zLjIuMC9qcy9ib290c3RyYXAubWluLmpzIj48L3NjcmlwdD4KICAgIDxzY3JpcHQgc3JjPSJodHRwczovL2NkbmpzLmNsb3VkZmxhcmUuY29tL2FqYXgvbGlicy9MZWFmbGV0LmF3ZXNvbWUtbWFya2Vycy8yLjAuMi9sZWFmbGV0LmF3ZXNvbWUtbWFya2Vycy5qcyI+PC9zY3JpcHQ+CiAgICA8bGluayByZWw9InN0eWxlc2hlZXQiIGhyZWY9Imh0dHBzOi8vY2RuLmpzZGVsaXZyLm5ldC9ucG0vbGVhZmxldEAxLjUuMS9kaXN0L2xlYWZsZXQuY3NzIi8+CiAgICA8bGluayByZWw9InN0eWxlc2hlZXQiIGhyZWY9Imh0dHBzOi8vbWF4Y2RuLmJvb3RzdHJhcGNkbi5jb20vYm9vdHN0cmFwLzMuMi4wL2Nzcy9ib290c3RyYXAubWluLmNzcyIvPgogICAgPGxpbmsgcmVsPSJzdHlsZXNoZWV0IiBocmVmPSJodHRwczovL21heGNkbi5ib290c3RyYXBjZG4uY29tL2Jvb3RzdHJhcC8zLjIuMC9jc3MvYm9vdHN0cmFwLXRoZW1lLm1pbi5jc3MiLz4KICAgIDxsaW5rIHJlbD0ic3R5bGVzaGVldCIgaHJlZj0iaHR0cHM6Ly9tYXhjZG4uYm9vdHN0cmFwY2RuLmNvbS9mb250LWF3ZXNvbWUvNC42LjMvY3NzL2ZvbnQtYXdlc29tZS5taW4uY3NzIi8+CiAgICA8bGluayByZWw9InN0eWxlc2hlZXQiIGhyZWY9Imh0dHBzOi8vY2RuanMuY2xvdWRmbGFyZS5jb20vYWpheC9saWJzL0xlYWZsZXQuYXdlc29tZS1tYXJrZXJzLzIuMC4yL2xlYWZsZXQuYXdlc29tZS1tYXJrZXJzLmNzcyIvPgogICAgPGxpbmsgcmVsPSJzdHlsZXNoZWV0IiBocmVmPSJodHRwczovL3Jhd2Nkbi5naXRoYWNrLmNvbS9weXRob24tdmlzdWFsaXphdGlvbi9mb2xpdW0vbWFzdGVyL2ZvbGl1bS90ZW1wbGF0ZXMvbGVhZmxldC5hd2Vzb21lLnJvdGF0ZS5jc3MiLz4KICAgIDxzdHlsZT5odG1sLCBib2R5IHt3aWR0aDogMTAwJTtoZWlnaHQ6IDEwMCU7bWFyZ2luOiAwO3BhZGRpbmc6IDA7fTwvc3R5bGU+CiAgICA8c3R5bGU+I21hcCB7cG9zaXRpb246YWJzb2x1dGU7dG9wOjA7Ym90dG9tOjA7cmlnaHQ6MDtsZWZ0OjA7fTwvc3R5bGU+CiAgICAKICAgICAgICAgICAgPG1ldGEgbmFtZT0idmlld3BvcnQiIGNvbnRlbnQ9IndpZHRoPWRldmljZS13aWR0aCwKICAgICAgICAgICAgICAgIGluaXRpYWwtc2NhbGU9MS4wLCBtYXhpbXVtLXNjYWxlPTEuMCwgdXNlci1zY2FsYWJsZT1ubyIgLz4KICAgICAgICAgICAgPHN0eWxlPgogICAgICAgICAgICAgICAgI21hcF83NzcyMzhjZDJlZDk0MWU0YTJhNjgxZjIyNDQyNmU0YyB7CiAgICAgICAgICAgICAgICAgICAgcG9zaXRpb246IHJlbGF0aXZlOwogICAgICAgICAgICAgICAgICAgIHdpZHRoOiAxMDAuMCU7CiAgICAgICAgICAgICAgICAgICAgaGVpZ2h0OiAxMDAuMCU7CiAgICAgICAgICAgICAgICAgICAgbGVmdDogMC4wJTsKICAgICAgICAgICAgICAgICAgICB0b3A6IDAuMCU7CiAgICAgICAgICAgICAgICB9CiAgICAgICAgICAgIDwvc3R5bGU+CiAgICAgICAgCiAgICA8c2NyaXB0IHNyYz0iaHR0cHM6Ly9sZWFmbGV0LmdpdGh1Yi5pby9MZWFmbGV0LmhlYXQvZGlzdC9sZWFmbGV0LWhlYXQuanMiPjwvc2NyaXB0Pgo8L2hlYWQ+Cjxib2R5PiAgICAKICAgIAogICAgICAgICAgICA8ZGl2IGNsYXNzPSJmb2xpdW0tbWFwIiBpZD0ibWFwXzc3NzIzOGNkMmVkOTQxZTRhMmE2ODFmMjI0NDI2ZTRjIiA+PC9kaXY+CiAgICAgICAgCjwvYm9keT4KPHNjcmlwdD4gICAgCiAgICAKICAgICAgICAgICAgdmFyIG1hcF83NzcyMzhjZDJlZDk0MWU0YTJhNjgxZjIyNDQyNmU0YyA9IEwubWFwKAogICAgICAgICAgICAgICAgIm1hcF83NzcyMzhjZDJlZDk0MWU0YTJhNjgxZjIyNDQyNmU0YyIsCiAgICAgICAgICAgICAgICB7CiAgICAgICAgICAgICAgICAgICAgY2VudGVyOiBbMzQuMDQwMTUsIC0xMTguMjk3NTddLAogICAgICAgICAgICAgICAgICAgIGNyczogTC5DUlMuRVBTRzM4NTcsCiAgICAgICAgICAgICAgICAgICAgem9vbTogMTUsCiAgICAgICAgICAgICAgICAgICAgem9vbUNvbnRyb2w6IHRydWUsCiAgICAgICAgICAgICAgICAgICAgcHJlZmVyQ2FudmFzOiBmYWxzZSwKICAgICAgICAgICAgICAgIH0KICAgICAgICAgICAgKTsKCiAgICAgICAgICAgIAoKICAgICAgICAKICAgIAogICAgICAgICAgICB2YXIgdGlsZV9sYXllcl9mMGYzN2NjOWVjMGE0NTkyOTNkZDU2ZTljYzUyYWVkMSA9IEwudGlsZUxheWVyKAogICAgICAgICAgICAgICAgImh0dHBzOi8vY2FydG9kYi1iYXNlbWFwcy17c30uZ2xvYmFsLnNzbC5mYXN0bHkubmV0L2xpZ2h0X2FsbC97en0ve3h9L3t5fS5wbmciLAogICAgICAgICAgICAgICAgeyJhdHRyaWJ1dGlvbiI6ICJcdTAwMjZjb3B5OyBcdTAwM2NhIGhyZWY9XCJodHRwOi8vd3d3Lm9wZW5zdHJlZXRtYXAub3JnL2NvcHlyaWdodFwiXHUwMDNlT3BlblN0cmVldE1hcFx1MDAzYy9hXHUwMDNlIGNvbnRyaWJ1dG9ycyBcdTAwMjZjb3B5OyBcdTAwM2NhIGhyZWY9XCJodHRwOi8vY2FydG9kYi5jb20vYXR0cmlidXRpb25zXCJcdTAwM2VDYXJ0b0RCXHUwMDNjL2FcdTAwM2UsIENhcnRvREIgXHUwMDNjYSBocmVmID1cImh0dHA6Ly9jYXJ0b2RiLmNvbS9hdHRyaWJ1dGlvbnNcIlx1MDAzZWF0dHJpYnV0aW9uc1x1MDAzYy9hXHUwMDNlIiwgImRldGVjdFJldGluYSI6IGZhbHNlLCAibWF4TmF0aXZlWm9vbSI6IDE4LCAibWF4Wm9vbSI6IDE4LCAibWluWm9vbSI6IDAsICJub1dyYXAiOiBmYWxzZSwgIm9wYWNpdHkiOiAxLCAic3ViZG9tYWlucyI6ICJhYmMiLCAidG1zIjogZmFsc2V9CiAgICAgICAgICAgICkuYWRkVG8obWFwXzc3NzIzOGNkMmVkOTQxZTRhMmE2ODFmMjI0NDI2ZTRjKTsKICAgICAgICAKICAgIAogICAgICAgICAgICB2YXIgbWFya2VyXzIwMWY4N2UwMzM0NTQzZTI5Y2ZiZTQ1ZGI3M2YyMzJjID0gTC5tYXJrZXIoCiAgICAgICAgICAgICAgICBbMzQuMDQwMTUsIC0xMTguMjk3NTddLAogICAgICAgICAgICAgICAge30KICAgICAgICAgICAgKS5hZGRUbyhtYXBfNzc3MjM4Y2QyZWQ5NDFlNGEyYTY4MWYyMjQ0MjZlNGMpOwogICAgICAgIAogICAgCiAgICAgICAgICAgIHZhciBpY29uXzA1MjU0YWU0NDc1MDQ1YWFiZjZjMmU5ODY2YWI1ODAxID0gTC5Bd2Vzb21lTWFya2Vycy5pY29uKAogICAgICAgICAgICAgICAgeyJleHRyYUNsYXNzZXMiOiAiZmEtcm90YXRlLTAiLCAiaWNvbiI6ICJpbmZvLXNpZ24iLCAiaWNvbkNvbG9yIjogIndoaXRlIiwgIm1hcmtlckNvbG9yIjogImdyZWVuIiwgInByZWZpeCI6ICJnbHlwaGljb24ifQogICAgICAgICAgICApOwogICAgICAgICAgICBtYXJrZXJfMjAxZjg3ZTAzMzQ1NDNlMjljZmJlNDVkYjczZjIzMmMuc2V0SWNvbihpY29uXzA1MjU0YWU0NDc1MDQ1YWFiZjZjMmU5ODY2YWI1ODAxKTsKICAgICAgICAKICAgIAogICAgICAgICAgICB2YXIgZmVhdHVyZV9ncm91cF9kNTE1Mzk5Y2M0Njk0NDA5YTA5NDQ0NmY3Y2FkYTViNiA9IEwuZmVhdHVyZUdyb3VwKAogICAgICAgICAgICAgICAge30KICAgICAgICAgICAgKS5hZGRUbyhtYXBfNzc3MjM4Y2QyZWQ5NDFlNGEyYTY4MWYyMjQ0MjZlNGMpOwogICAgICAgIAogICAgCiAgICAgICAgICAgIHZhciBoZWF0X21hcF9mYjk0ZmQyY2M3NDg0NjUwYjc5MTQ0NjNhOWUwYmNlZCA9IEwuaGVhdExheWVyKAogICAgICAgICAgICAgICAgW1szOS45NTI1NzYyLCAtNzUuMTY1MjUxOF0sIFszNC4xNTY4MDIsIC0xMTguMzI0OTg3XSwgWzM2LjIwNDgyNCwgMTM4LjI1MjkyNF0sIFszNy4yNTE0MiwgLTEyMS45Njg2ODddLCBbMzcuMzk0NDU2MSwgLTEyMi4wNzg1MzE0XSwgWzUzLjU5NzMwNTUsIDkuOTc2MjUxOV0sIFszMy44MTc3NTIsIC04NC4xMjA0NThdLCBbMjYuNDA3NDgwOSwgLTgwLjExNjk4OTVdLCBbNTIuMjIwNzI2LCA1LjE5ODgyNF0sIFszNy4zOTI5MzYsIC0xMjIuMDc5NDhdLCBbNDcuNTc5MjA4LCAtMTIyLjE1NTY2OF0sIFs1Ni40NjE0MjgsIC0yLjk2ODExMV0sIFs0MC4wMTA0OTIsIC0xMDUuMjc2ODQzXSwgWzQ1LjA1ODU3NiwgNy42NDk2MTRdLCBbNTIuNTEzMTgyNiwgMTMuMzk0MTQ4OV0sIFs0Mi4yMTQ0ODMsIC03MS4xODU5NjRdLCBbMzcuNDc3NjUyLCAtMTIyLjIyMzM4NF0sIFs1NS42OTI0NjA1LCAxMi41MzAxMDddLCBbNTAuOTI3Mjk0MSwgNi45NzY0OTc4XSwgWzM0LjAzMTI3NiwgLTExOC40NTY4MDZdLCBbNDAuNzE3MjQ4LCAtNzQuMDAyNjYyXSwgWzM3Ljc3MDUwOTYsIC0xMjIuNDAxNTgwN10sIFszNy4zODQyMzksIC0xMjIuMDEyNDc1XSwgWzM3Ljc4NzUzMDQsIC0xMjIuMzk4OTk5Nl0sIFs0Ny42MTAzMDA4LCAtMTIyLjMzOTk3ODJdLCBbMzcuNDEyMzcwNiwgLTEyMi4wMjE2MjcxXSwgWzM0LjA4NTc0OSwgLTExOC4zNDM3OTFdLCBbNDAuNzI2MTU1LCAtNzMuOTk1NjI1XSwgWzM3Ljc2NTE1OCwgLTEyMi40MDQyMzRdLCBbMzcuNDg0NjE5LCAtMTIyLjIwNjg5M10sIFs0OC44NTAyMDU2LCAyLjM2OTgwMzNdLCBbMzcuNzgxNjg5LCAtMTIyLjM5MTA2MV0sIFszNy43ODg2NjgsIC0xMjIuNDAwNTU4XSwgWzM3LjU4MDMwNCwgLTEyMi4zNDM2NzldLCBbMzcuNDQ2ODIzLCAtMTIyLjE2MTUyM10sIFszNC4wNjk4NDk0LCAtMTE4LjQwNTQxODJdLCBbNDAuNzIwNzY0LCAtNzMuOTU3OTY4XSwgWzM3LjM3Mzg3MjUsIC0xMjEuOTk3MzU0Nl0sIFszNC4wMTY4MzgsIC0xMTguNTAwNjAzXSwgWzQwLjc1MjM3OTYsIC03NC4wMDU1NjhdLCBbMzcuNzg3NjQ2LCAtMTIyLjQwMjc1OV0sIFs0MC43NjE5NzksIC03NC4wMjYwMzNdLCBbNDAuNzQzODc3LCAtNzMuOTg2MThdLCBbMTcuNDE1NDI5LCA3OC40MzQ0MjJdLCBbMzQuMDkzMTYsIC0xMTguMzc4MzM1XSwgWzUwLjk0NTI4OSwgNi45MjE1NDZdLCBbNDYuMjI3NjM4LCAyLjIxMzc0OV0sIFs0NS40OTYxMjI3LCAtNzMuNTc2NzQ5OV0sIFs0Ni41MjA2MjkxLCA2LjYzMjgyNzRdLCBbNTAuMDkzODQ5MSwgMTQuNDUwNTMzNl0sIFs0Mi4zNDA2NTM0LCAtNzEuMDY4MDAyN10sIFszNy43ODcwOTIsIC0xMjIuMzk5OTcyXSwgWzM0LjE5MDk5LCAtMTE4LjQ4NjQyOF0sIFs1MS41MDM2MTIsIC0wLjI1NjI4XSwgWzQwLjc1ODQ5MiwgLTczLjk4OTk4N10sIFszNy43ODEyNjUsIC0xMjIuMzkzMjI5XSwgWzQwLjcyMzM4NCwgLTc0LjAwMTcwNF0sIFsyNS43ODcyNTIsIC04MC4xMzE4M10sIFs0MC41Mjg4NDQ5LCAtMy42NDI5OTA3XSwgWzMzLjkxODU4OSwgLTExOC4zOTM3MTldLCBbMzYuMDU5NjU4LCAtMTE1LjIzNjcxXSwgWzQyLjQzMTY1MiwgLTcxLjQ1NTY1OF0sIFsyNS44MTc2NzQsIC04MC4xODg3NF0sIFszNC4wMjcyMjQ2LCAtMTE4LjQ2ODIzMzNdLCBbNDIuMjkyNjQ5LCAtODMuNzM0NjczXSwgWzQwLjc1MjY3MiwgLTczLjk3NTkzXSwgWzMyLjg0MTc5MSwgLTExNy4yNzQ2MDJdLCBbMzIuNTIxNzQ0MiwgLTExNy4wMjc0OTQ3XSwgWzE5LjQxNjQzMDksIC05OS4xNjUxMzk1XSwgWzQ5LjI4MjQ1NTEsIC0xMjMuMTA5MjE3XSwgWzYwLjE3MTgyMSwgMjQuOTQ1MTY3XSwgWzM3Ljc4ODQ4MiwgLTEyMi40MDkxNzNdLCBbNDguODMwODA5MSwgMi4zMDMyMjAxXSwgWzQwLjc1NjA1NCwgLTczLjk4Njk1MV0sIFszNC4wNTIxODcsIC0xMTguMjQzNDI1XSwgWzQ0Ljg2NTI0MywgLTkzLjQwOTQ2MjldLCBbMzQuMDUxNDA5LCAtMTE4LjI1NDU1OF0sIFszMi4wNTU0LCAzNC43NTk1XSwgWzM0LjA0ODg1NywgLTExOC4yNTEzNDNdLCBbMjUuODg3NDYyLCAtODAuMTY2MTU1XSwgWzQ3LjYwMTUzMTUsIC0xMjIuMzM1OTQzXSwgWzIyLjU3MjY0NiwgODguMzYzODk1XSwgWy0zMy44ODQ2ODUsIDE1MS4yMTY0MjddLCBbNDAuNzM5OTMsIC03My45OTMwNDg5XSwgWzQwLjQzMDk0LCAtMy42OTUyODk2XSwgWzM0LjA1MjE4NywgLTExOC4yNDM0MjVdLCBbMzUuOTExNzMzLCAtNzguOTAwMTAzXSwgWzM5LjYxMjIyMywgLTc1LjY5NjcwNl0sIFszNC4wMDc5NjcsIC0xMTguNDg5NjgxXSwgWzQ3LjYxNTMxMywgLTEyMi4zMjM0MDhdLCBbMzcuNzc3NTEzLCAtMTIyLjM5NzA0NF0sIFs1OS40MzcyMTQsIDI0Ljc2ODY2NF0sIFs1NS42NjU5ODEzLCAxMi41ODAwNzUxXSwgWzMxLjA0NjA1MSwgMzQuODUxNjEyXSwgWzQyLjM1MDI3NCwgLTcxLjA1ODc2OF0sIFszNy43ODM4OTgsIC0xMjIuMzk1MjM0XSwgWzM3Ljg0ODY0MSwgLTEyMi4yODk0OThdLCBbMzcuNTU2MTcxMiwgLTEyMi4wNzgwNjMyXSwgWzEyLjk3MTYwNiwgNzcuNTk0Mzc2XSwgWzQwLjc0Mzg3NywgLTczLjk4NjE4XSwgWzQwLjc1NjA1NCwgLTczLjk4Njk1MV0sIFs0MC43MjI2NTUsIC03My45OTg3M10sIFszNy43ODkzMjE1LCAtMTIyLjQwMTM2MjRdLCBbMzIuMDM3MzYzLCAzNC44MDAzNzA1XSwgWzM3LjQ4NTg2NTQsIC0xMjIuMjI2MjYwNl0sIFs0Ny42MTk2OCwgLTEyMi4zNTY3NTZdLCBbMzcuNzg2OTQyLCAtMTIyLjQwMTI0NV0sIFszNy40NDIzNiwgLTEyMi4xNjEwMjVdLCBbMzMuMTA4NTU5LCAtMTE3LjI5ODk3OV0sIFs1Mi41MjgzMTExLCAxMy40MTIwOTg2XSwgWzQyLjI4MDI2NzUsIC04My43NDIwNTc5XSwgWzUzLjU0NDcxMSwgLTExMy41MTU3NjldLCBbMzMuOTE4MTUxLCAtMTE4LjQxNzQ3XSwgWzMzLjQ2NTA2MywgLTExMS45MjYxMTJdLCBbNDguNDI5ODU2LCAtMTIzLjM1NTg1MDddLCBbMzcuMzc5MzcxOCwgLTEyMi4wMTI0NDA0XSwgWzM1LjEyODY1NzEsIDMzLjMyNTA3MDVdLCBbNTEuNzU3NzQ1MywgLTEuMjE4NjcyNF0sIFs0MC44MDEzNTgsIC03NC4zMzcyXSwgWzM3LjA5MDI0LCAtOTUuNzEyODkxXSwgWzM3LjU1Mzc0MywgLTEyMi4zMDAyNDZdLCBbNTEuNTM5Nzc4LCAtMC4xNTI5OThdLCBbNDAuMDE2NTgyLCAtMTA1LjI1MzYwMV0sIFs0My43MTIzMDkyLCAtNzkuMzk5NTM4NF0sIFs0Mi4zNjkwMDcsIC03MS4xMTAyNzZdLCBbMzMuODMxNzk2NCwgLTg0LjMzOTEyMzFdLCBbMzcuNzc3NzIsIC0xMjIuMzk1Nzg1XSwgWzM0LjIxMDA5OSwgLTExOS4xMjYzNl0sIFs0NC4xNDgwMDM0LCAxMi4yMDkxMjY1XSwgWzM0LjE1NTg2OSwgLTExOC4zMzUyOTJdLCBbNTMuNTYyMjY5OCwgOS45NDkwMTM5XSwgWzMzLjAyMDgzMiwgLTExNy4wNzczMTFdLCBbMzQuMDMxNzY0LCAtMTE4LjQ2MTg4NF0sIFs0NS41MTY1NDUsIC03My41Nzg0NzddLCBbNDEuMDA3NjI1LCAtOTEuOTYyNzg5XSwgWzQwLjcyNzQzNCwgLTczLjk0NDc5OTRdLCBbMzQuMDcwNDM2LCAtMTE4LjM1MDQ4Nl0sIFs0MS4zMDM2OTYsIC03Mi43Njg4NDJdLCBbNDUuNzkyNzE3LCA0LjgzMDA0OF0sIFs0OC44OTI2OTg4LCAyLjMxNzk2MDFdLCBbMzguOTg5Nzg2MSwgLTc3LjA5ODkyNDddLCBbMzguOTI3NTk2LCAtMTA0LjgzMDc3NV0sIFszNy41NzY4ODQxLCAtMTIyLjM0NjIxMzddLCBbMzcuODcxNjgsIC0xMjIuMjY5NDk0XSwgWzIzLjc5NzMzMywgOTAuNDAxNDMyXSwgWzQyLjIzOTg4LCAtNzEuODM5MzQ0XSwgWzM3Ljc4MTM4NiwgLTEyMi40MjE0MDZdLCBbMzYuOTc3OTA1LCAtMTIyLjAzMzM2XSwgWzM0LjAyNDQ1MywgLTExOC4zODA0MzddLCBbMzQuMTUzNTg4LCAtMTE4LjQyMjQ5NV0sIFs0OS4yODIyNDksIC0xMjMuMTA4NDU2XSwgWzM5Ljc4Njk0OCwgLTc1LjQ4NTQwN10sIFs0OS4yNjM1ODgsIC0xMjMuMTM4NTY1XSwgWzQwLjc1NDc2MiwgLTczLjk4ODU0M10sIFszMy45MDE5NTQzLCAtMTE4LjM4NzIwMThdLCBbNDguODQ3NTQ4NywgMi4yOTkyMzQ4XSwgWzM3Ljc4MzA0NiwgLTEyMi4zOTQwNjddLCBbNDAuMTEyOCwgLTg4LjI3MTA3NF0sIFsyOS41NTAwMjcsIC05NS42OTMzNDddLCBbNTAuOTQ3MTEyLCA2Ljg0MjEzM10sIFs0MC43NDQ1OTQsIC03My45ODk2OThdLCBbMzcuODQ0ODAzNSwgLTEyMi4yOTA4OTddLCBbMzcuNTM0MDM2MywgLTEyMS45MTMxNzYxXSwgWzU5LjMzMjc4ODEsIDE4LjA2NDQ4ODFdLCBbNTEuNTM1OTAwOCwgLTAuMjA1NTA4MV0sIFs1Mi4xNDI0Njk1LCA1LjIwOTIwNzVdLCBbNTEuMTk3NzYzNCwgNi42OTA2Njk5XSwgWzQzLjY3MDIzMywgLTc5LjM4Njc1NV0sIFszMy41NTQ5NDMsIC0xMTIuMDk4NTkyXSwgWzMzLjU3OTIwNCwgLTExNy43MjkzMzgzXSwgWzQwLjA0NjQzMSwgLTc1LjM5MzQyXSwgWzQ1LjQ4ODQxOSwgLTEyMi42NDIxNTZdLCBbLTI3LjQ1NzQ4NjEsIDE1My4wMzM2ODZdXSwKICAgICAgICAgICAgICAgIHsiYmx1ciI6IDE1LCAibWF4IjogMS4wLCAibWF4Wm9vbSI6IDE4LCAibWluT3BhY2l0eSI6IDAuNSwgInJhZGl1cyI6IDE1fQogICAgICAgICAgICApLmFkZFRvKGZlYXR1cmVfZ3JvdXBfZDUxNTM5OWNjNDY5NDQwOWEwOTQ0NDZmN2NhZGE1YjYpOwogICAgICAgIAogICAgCiAgICAgICAgICAgIHZhciBtYXJrZXJfODQzZDM2NTY3NTI4NDQ4OWFkYmVjMGEwYTBjYTIxNDggPSBMLm1hcmtlcigKICAgICAgICAgICAgICAgIFszMy45NDI5Mzc4ODAyOTE1LCAtMTE4LjQwNzE4MTAxOTcwODVdLAogICAgICAgICAgICAgICAge30KICAgICAgICAgICAgKS5hZGRUbyhtYXBfNzc3MjM4Y2QyZWQ5NDFlNGEyYTY4MWYyMjQ0MjZlNGMpOwogICAgICAgIAogICAgCiAgICAgICAgICAgIHZhciBpY29uX2YyN2M5ZjAyMjI2MjRmMmY5OWI5NjRiZWY2MWZhODJhID0gTC5Bd2Vzb21lTWFya2Vycy5pY29uKAogICAgICAgICAgICAgICAgeyJleHRyYUNsYXNzZXMiOiAiZmEtcm90YXRlLTAiLCAiaWNvbiI6ICJpbmZvLXNpZ24iLCAiaWNvbkNvbG9yIjogIndoaXRlIiwgIm1hcmtlckNvbG9yIjogImxpZ2h0Ymx1ZSIsICJwcmVmaXgiOiAiZ2x5cGhpY29uIn0KICAgICAgICAgICAgKTsKICAgICAgICAgICAgbWFya2VyXzg0M2QzNjU2NzUyODQ0ODlhZGJlYzBhMGEwY2EyMTQ4LnNldEljb24oaWNvbl9mMjdjOWYwMjIyNjI0ZjJmOTliOTY0YmVmNjFmYTgyYSk7CiAgICAgICAgCiAgICAKICAgICAgICAgICAgdmFyIG1hcmtlcl8xMWQ3M2MyMGMyYjc0NmEzOWU0NzJkMmU1NjM1NmUyNiA9IEwubWFya2VyKAogICAgICAgICAgICAgICAgWzMzLjk0MjkzNzg4MDI5MTUsIC0xMTguNDA3MTgxMDE5NzA4NV0sCiAgICAgICAgICAgICAgICB7fQogICAgICAgICAgICApLmFkZFRvKG1hcF83NzcyMzhjZDJlZDk0MWU0YTJhNjgxZjIyNDQyNmU0Yyk7CiAgICAgICAgCiAgICAKICAgICAgICAgICAgdmFyIGljb25fNzA5OGI0ZTNmYzA2NGE3MjgzNjc5ZjM4NGFmYmZhNGEgPSBMLkF3ZXNvbWVNYXJrZXJzLmljb24oCiAgICAgICAgICAgICAgICB7ImV4dHJhQ2xhc3NlcyI6ICJmYS1yb3RhdGUtMCIsICJpY29uIjogImFpcnBvcnQiLCAiaWNvbkNvbG9yIjogIndoaXRlIiwgIm1hcmtlckNvbG9yIjogImxpZ2h0Ymx1ZSIsICJwcmVmaXgiOiAiZ2x5cGhpY29uIn0KICAgICAgICAgICAgKTsKICAgICAgICAgICAgbWFya2VyXzExZDczYzIwYzJiNzQ2YTM5ZTQ3MmQyZTU2MzU2ZTI2LnNldEljb24oaWNvbl83MDk4YjRlM2ZjMDY0YTcyODM2NzlmMzg0YWZiZmE0YSk7CiAgICAgICAgCiAgICAKICAgICAgICAgICAgdmFyIG1hcmtlcl82NTJhMjlhYzViNjA0MmFhYjIxODRkYjY3NDhhMjRiZCA9IEwubWFya2VyKAogICAgICAgICAgICAgICAgWzMzLjk0MjkzNzg4MDI5MTUsIC0xMTguNDA3MTgxMDE5NzA4NV0sCiAgICAgICAgICAgICAgICB7fQogICAgICAgICAgICApLmFkZFRvKG1hcF83NzcyMzhjZDJlZDk0MWU0YTJhNjgxZjIyNDQyNmU0Yyk7CiAgICAgICAgCiAgICAKICAgICAgICAgICAgdmFyIGljb25fMTg0ZDEwZDBlY2VjNDhjMmFjN2JhOWY0ZjViNWEwODkgPSBMLkF3ZXNvbWVNYXJrZXJzLmljb24oCiAgICAgICAgICAgICAgICB7ImV4dHJhQ2xhc3NlcyI6ICJmYS1yb3RhdGUtMCIsICJpY29uIjogImFpcnBvcnQiLCAiaWNvbkNvbG9yIjogIndoaXRlIiwgIm1hcmtlckNvbG9yIjogImxpZ2h0Ymx1ZSIsICJwcmVmaXgiOiAiZ2x5cGhpY29uIn0KICAgICAgICAgICAgKTsKICAgICAgICAgICAgbWFya2VyXzY1MmEyOWFjNWI2MDQyYWFiMjE4NGRiNjc0OGEyNGJkLnNldEljb24oaWNvbl8xODRkMTBkMGVjZWM0OGMyYWM3YmE5ZjRmNWI1YTA4OSk7CiAgICAgICAgCiAgICAKICAgICAgICAgICAgdmFyIG1hcmtlcl85M2JiYjUwMjM3NzM0YjJkODZmNDQ0NDM3MTYxNjcwNyA9IEwubWFya2VyKAogICAgICAgICAgICAgICAgWzMzLjk0MjkzNzg4MDI5MTUsIC0xMTguNDA3MTgxMDE5NzA4NV0sCiAgICAgICAgICAgICAgICB7fQogICAgICAgICAgICApLmFkZFRvKG1hcF83NzcyMzhjZDJlZDk0MWU0YTJhNjgxZjIyNDQyNmU0Yyk7CiAgICAgICAgCiAgICAKICAgICAgICAgICAgdmFyIGljb25fMTQyZDU1MTExMzkyNGI3OGI1Mzk3ZmY4NzE4ZmZjYjIgPSBMLkF3ZXNvbWVNYXJrZXJzLmljb24oCiAgICAgICAgICAgICAgICB7ImV4dHJhQ2xhc3NlcyI6ICJmYS1yb3RhdGUtMCIsICJpY29uIjogImluZm8tc2lnbiIsICJpY29uQ29sb3IiOiAid2hpdGUiLCAibWFya2VyQ29sb3IiOiAibGlnaHRibHVlIiwgInByZWZpeCI6ICJnbHlwaGljb24ifQogICAgICAgICAgICApOwogICAgICAgICAgICBtYXJrZXJfOTNiYmI1MDIzNzczNGIyZDg2ZjQ0NDQzNzE2MTY3MDcuc2V0SWNvbihpY29uXzE0MmQ1NTExMTM5MjRiNzhiNTM5N2ZmODcxOGZmY2IyKTsKICAgICAgICAKICAgIAogICAgICAgICAgICB2YXIgbWFya2VyXzhmMWIyNzAyNDQ0MTQ4N2Y5NWM5NjQyZTFjOGI2ZDhkID0gTC5tYXJrZXIoCiAgICAgICAgICAgICAgICBbMzMuOTQyOTM3ODgwMjkxNSwgLTExOC40MDcxODEwMTk3MDg1XSwKICAgICAgICAgICAgICAgIHt9CiAgICAgICAgICAgICkuYWRkVG8obWFwXzc3NzIzOGNkMmVkOTQxZTRhMmE2ODFmMjI0NDI2ZTRjKTsKICAgICAgICAKICAgIAogICAgICAgICAgICB2YXIgaWNvbl9hMDYyMWRlYjVmZGU0ZGM5YjhmNzIyMzAxOTY3MDExMiA9IEwuQXdlc29tZU1hcmtlcnMuaWNvbigKICAgICAgICAgICAgICAgIHsiZXh0cmFDbGFzc2VzIjogImZhLXJvdGF0ZS0wIiwgImljb24iOiAidW5pdmVyc2l0eSIsICJpY29uQ29sb3IiOiAid2hpdGUiLCAibWFya2VyQ29sb3IiOiAibGlnaHRibHVlIiwgInByZWZpeCI6ICJnbHlwaGljb24ifQogICAgICAgICAgICApOwogICAgICAgICAgICBtYXJrZXJfOGYxYjI3MDI0NDQxNDg3Zjk1Yzk2NDJlMWM4YjZkOGQuc2V0SWNvbihpY29uX2EwNjIxZGViNWZkZTRkYzliOGY3MjIzMDE5NjcwMTEyKTsKICAgICAgICAKICAgIAogICAgICAgICAgICB2YXIgbWFya2VyX2VmNTViYmZmYzcxMzQzNWE5MmJiYmZjYmE1NzJhMjAzID0gTC5tYXJrZXIoCiAgICAgICAgICAgICAgICBbMzMuOTQyOTM3ODgwMjkxNSwgLTExOC40MDcxODEwMTk3MDg1XSwKICAgICAgICAgICAgICAgIHt9CiAgICAgICAgICAgICkuYWRkVG8obWFwXzc3NzIzOGNkMmVkOTQxZTRhMmE2ODFmMjI0NDI2ZTRjKTsKICAgICAgICAKICAgIAogICAgICAgICAgICB2YXIgaWNvbl9mZDRiNTQ5MjkzOTg0YjMzOGQ1OGJhZGRhZGM1ODExNyA9IEwuQXdlc29tZU1hcmtlcnMuaWNvbigKICAgICAgICAgICAgICAgIHsiZXh0cmFDbGFzc2VzIjogImZhLXJvdGF0ZS0wIiwgImljb24iOiAiaW5mby1zaWduIiwgImljb25Db2xvciI6ICJ3aGl0ZSIsICJtYXJrZXJDb2xvciI6ICJsaWdodGJsdWUiLCAicHJlZml4IjogImdseXBoaWNvbiJ9CiAgICAgICAgICAgICk7CiAgICAgICAgICAgIG1hcmtlcl9lZjU1YmJmZmM3MTM0MzVhOTJiYmJmY2JhNTcyYTIwMy5zZXRJY29uKGljb25fZmQ0YjU0OTI5Mzk4NGIzMzhkNThiYWRkYWRjNTgxMTcpOwogICAgICAgIAo8L3NjcmlwdD4=\" style=\"position:absolute;width:100%;height:100%;left:0;top:0;border:none !important;\" allowfullscreen webkitallowfullscreen mozallowfullscreen></iframe></div></div>"
      ],
      "text/plain": [
       "<folium.folium.Map at 0x1071c9e10>"
      ]
     },
     "execution_count": 65,
     "metadata": {},
     "output_type": "execute_result"
    }
   ],
   "source": [
    "la_air_long, la_air_lat = -118.4071810197085, 33.9429378802915\n",
    "heat_m_la.add_child(Marker([la_air_lat, la_air_long], icon=folium.Icon(color='lightblue')))"
   ]
  },
  {
   "cell_type": "code",
   "execution_count": 53,
   "metadata": {},
   "outputs": [
    {
     "name": "stdout",
     "output_type": "stream",
     "text": [
      "Km from LA to LA Airport = 14.797509925938781\n"
     ]
    }
   ],
   "source": [
    "#KM between airport & city\n",
    "\n",
    "la = (34.04015,-118.29757) \n",
    "airport_la = (33.9429378802915,-118.4071810197085) \n",
    "print('Km from LA to LA Airport =', great_circle(la, airport_la).km)"
   ]
  },
  {
   "cell_type": "markdown",
   "metadata": {},
   "source": [
    "### 4 - PARIS"
   ]
  },
  {
   "cell_type": "code",
   "execution_count": 32,
   "metadata": {},
   "outputs": [
    {
     "data": {
      "text/plain": [
       "{'type': 'Point', 'coordinates': [2.34293, 48.85717]}"
      ]
     },
     "execution_count": 32,
     "metadata": {},
     "output_type": "execute_result"
    }
   ],
   "source": [
    "paris = geocode(\"Paris\")\n",
    "paris"
   ]
  },
  {
   "cell_type": "code",
   "execution_count": 33,
   "metadata": {
    "scrolled": false
   },
   "outputs": [
    {
     "data": {
      "text/plain": [
       "<folium.map.Marker at 0x107de5750>"
      ]
     },
     "execution_count": 33,
     "metadata": {},
     "output_type": "execute_result"
    }
   ],
   "source": [
    "start_lat = 48.85717\n",
    "start_lon = 2.34293\n",
    "heat_m_paris = folium.Map(location=[start_lat, start_lon],tiles='cartodbpositron', zoom_start=15)\n",
    "Marker([start_lat, start_lon], icon=folium.Icon(color='pink')).add_to(heat_m_paris)"
   ]
  },
  {
   "cell_type": "code",
   "execution_count": 34,
   "metadata": {},
   "outputs": [
    {
     "data": {
      "text/plain": [
       "<folium.map.FeatureGroup at 0x107de91d0>"
      ]
     },
     "execution_count": 34,
     "metadata": {},
     "output_type": "execute_result"
    }
   ],
   "source": [
    "companies = gdf\n",
    "companies_group = folium.FeatureGroup(name=\"Gaming Companies\")\n",
    "HeatMap(data=companies[['latitude', 'longitude']],radius=15).add_to(companies_group)\n",
    "companies_group.add_to(heat_m_paris)"
   ]
  },
  {
   "cell_type": "code",
   "execution_count": 115,
   "metadata": {},
   "outputs": [
    {
     "name": "stderr",
     "output_type": "stream",
     "text": [
      "Python-dotenv could not parse statement starting at line 2\n"
     ]
    },
    {
     "name": "stdout",
     "output_type": "stream",
     "text": [
      "{'results': [{'address_components': [{'long_name': 'Paris-Charles De Gaulle', 'short_name': 'Paris-Charles De Gaulle', 'types': ['airport', 'establishment', 'point_of_interest']}, {'long_name': 'Roissy-en-France', 'short_name': 'Roissy-en-France', 'types': ['locality', 'political']}, {'long_name': 'Île-de-France', 'short_name': 'IDF', 'types': ['administrative_area_level_1', 'political']}, {'long_name': 'France', 'short_name': 'FR', 'types': ['country', 'political']}, {'long_name': '95700', 'short_name': '95700', 'types': ['postal_code']}], 'formatted_address': 'Paris-Charles De Gaulle (CDG), 95700 Roissy-en-France, France', 'geometry': {'location': {'lat': 49.0096906, 'lng': 2.5479245}, 'location_type': 'GEOMETRIC_CENTER', 'viewport': {'northeast': {'lat': 49.0110395802915, 'lng': 2.549273480291502}, 'southwest': {'lat': 49.0083416197085, 'lng': 2.546575519708498}}}, 'place_id': 'ChIJW89MjgM-5kcRLKZbL5jgKwQ', 'plus_code': {'compound_code': '2G5X+V5 Roissy-en-France, France', 'global_code': '8FX42G5X+V5'}, 'types': ['airport', 'establishment', 'point_of_interest']}], 'status': 'OK'}\n"
     ]
    }
   ],
   "source": [
    "load_dotenv()\n",
    "token = os.getenv(\"TOKEN_GOOGLE\")\n",
    "address='France Paris Airport'\n",
    "data = requests.get(f\"https://maps.googleapis.com/maps/api/geocode/json?address={address}&key={token}\").json()\n",
    "print(data)"
   ]
  },
  {
   "cell_type": "code",
   "execution_count": 116,
   "metadata": {},
   "outputs": [
    {
     "name": "stderr",
     "output_type": "stream",
     "text": [
      "Python-dotenv could not parse statement starting at line 2\n"
     ]
    },
    {
     "name": "stdout",
     "output_type": "stream",
     "text": [
      "{'results': [{'address_components': [{'long_name': 'Orly Airport', 'short_name': 'Orly Airport', 'types': ['airport', 'establishment', 'point_of_interest']}, {'long_name': 'Orly', 'short_name': 'Orly', 'types': ['locality', 'political']}, {'long_name': 'Île-de-France', 'short_name': 'IDF', 'types': ['administrative_area_level_1', 'political']}, {'long_name': 'France', 'short_name': 'FR', 'types': ['country', 'political']}, {'long_name': '94390', 'short_name': '94390', 'types': ['postal_code']}], 'formatted_address': 'Orly Airport (ORY), 94390 Orly, France', 'geometry': {'location': {'lat': 48.7262433, 'lng': 2.3652472}, 'location_type': 'GEOMETRIC_CENTER', 'viewport': {'northeast': {'lat': 48.7275922802915, 'lng': 2.366596180291502}, 'southwest': {'lat': 48.7248943197085, 'lng': 2.363898219708498}}}, 'place_id': 'ChIJHTtq-rF15kcRIoTbQ9feeJ0', 'plus_code': {'compound_code': 'P9G8+F3 Orly, France', 'global_code': '8FW4P9G8+F3'}, 'types': ['airport', 'establishment', 'point_of_interest']}], 'status': 'OK'}\n"
     ]
    }
   ],
   "source": [
    "load_dotenv()\n",
    "token = os.getenv(\"TOKEN_GOOGLE\")\n",
    "address='Orly Paris Airport'\n",
    "data = requests.get(f\"https://maps.googleapis.com/maps/api/geocode/json?address={address}&key={token}\").json()\n",
    "print(data)"
   ]
  },
  {
   "cell_type": "code",
   "execution_count": 117,
   "metadata": {},
   "outputs": [
    {
     "name": "stderr",
     "output_type": "stream",
     "text": [
      "Python-dotenv could not parse statement starting at line 2\n"
     ]
    },
    {
     "name": "stdout",
     "output_type": "stream",
     "text": [
      "{'results': [{'address_components': [{'long_name': 'Paris Airport-Le Bourget', 'short_name': 'Paris Airport-Le Bourget', 'types': ['airport', 'establishment', 'point_of_interest']}, {'long_name': '1', 'short_name': '1', 'types': ['street_number']}, {'long_name': 'Rue Désiré Lucca', 'short_name': 'Rue Désiré Lucca', 'types': ['route']}, {'long_name': 'Le Bourget', 'short_name': 'Le Bourget', 'types': ['locality', 'political']}, {'long_name': 'Île-de-France', 'short_name': 'IDF', 'types': ['administrative_area_level_1', 'political']}, {'long_name': 'France', 'short_name': 'FR', 'types': ['country', 'political']}, {'long_name': '93350', 'short_name': '93350', 'types': ['postal_code']}], 'formatted_address': 'Paris Airport-Le Bourget, 1 Rue Désiré Lucca, 93350 Le Bourget, France', 'geometry': {'location': {'lat': 48.9614725, 'lng': 2.437202}, 'location_type': 'ROOFTOP', 'viewport': {'northeast': {'lat': 48.9628214802915, 'lng': 2.438550980291502}, 'southwest': {'lat': 48.9601235197085, 'lng': 2.435853019708498}}}, 'place_id': 'ChIJF14wwRZr5kcRBRw-Mpc2PLc', 'plus_code': {'compound_code': 'XC6P+HV Le Bourget, France', 'global_code': '8FW4XC6P+HV'}, 'types': ['airport', 'establishment', 'point_of_interest']}], 'status': 'OK'}\n"
     ]
    }
   ],
   "source": [
    "load_dotenv()\n",
    "token = os.getenv(\"TOKEN_GOOGLE\")\n",
    "address='Le Bourget Paris Airport'\n",
    "data = requests.get(f\"https://maps.googleapis.com/maps/api/geocode/json?address={address}&key={token}\").json()\n",
    "print(data)"
   ]
  },
  {
   "cell_type": "code",
   "execution_count": 38,
   "metadata": {},
   "outputs": [],
   "source": [
    "paris_air_long, paris_air_lat = 2.445518380291502, 48.9574994802915\n",
    "heat_m_paris=heat_m_paris.add_child(Marker([paris_air_lat, paris_air_long], icon=folium.Icon(color='lightblue')))"
   ]
  },
  {
   "cell_type": "code",
   "execution_count": 39,
   "metadata": {},
   "outputs": [],
   "source": [
    "paris_air_long, paris_air_lat = 2.366596180291502, 48.7275922802915\n",
    "heat_m_paris=heat_m_paris.add_child(Marker([paris_air_lat, paris_air_long], icon=folium.Icon(color='lightblue')))"
   ]
  },
  {
   "cell_type": "code",
   "execution_count": 66,
   "metadata": {
    "scrolled": false
   },
   "outputs": [
    {
     "data": {
      "text/html": [
       "<div style=\"width:100%;\"><div style=\"position:relative;width:100%;height:0;padding-bottom:60%;\"><iframe src=\"data:text/html;charset=utf-8;base64,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\" style=\"position:absolute;width:100%;height:100%;left:0;top:0;border:none !important;\" allowfullscreen webkitallowfullscreen mozallowfullscreen></iframe></div></div>"
      ],
      "text/plain": [
       "<folium.folium.Map at 0x107de5590>"
      ]
     },
     "execution_count": 66,
     "metadata": {},
     "output_type": "execute_result"
    }
   ],
   "source": [
    "paris_air_long, paris_air_lat = 2.546575519708498, 49.0083416197085\n",
    "heat_m_paris.add_child(Marker([paris_air_lat, paris_air_long], icon=folium.Icon(color='lightblue')))"
   ]
  },
  {
   "cell_type": "code",
   "execution_count": 41,
   "metadata": {},
   "outputs": [
    {
     "name": "stdout",
     "output_type": "stream",
     "text": [
      "13.441591048596273\n"
     ]
    }
   ],
   "source": [
    "#KM between airport & city - 'Paris-Charles De Gaulle'\n",
    "\n",
    "paris = (48.85717,2.34293)\n",
    "airport_paris = (48.9574994802915,2.445518380291502) \n",
    "print(great_circle(paris, airport_paris).km)"
   ]
  },
  {
   "cell_type": "code",
   "execution_count": 42,
   "metadata": {},
   "outputs": [
    {
     "name": "stdout",
     "output_type": "stream",
     "text": [
      "14.512328143601765\n"
     ]
    }
   ],
   "source": [
    "#KM between airport & city - 'Orly Airport'\n",
    "\n",
    "paris = (48.85717,2.34293)\n",
    "airport_paris = (48.7275922802915,2.366596180291502) \n",
    "print(great_circle(paris, airport_paris).km)"
   ]
  },
  {
   "cell_type": "code",
   "execution_count": 43,
   "metadata": {},
   "outputs": [
    {
     "name": "stdout",
     "output_type": "stream",
     "text": [
      "22.446785338050443\n"
     ]
    }
   ],
   "source": [
    "#KM between airport & city - 'Paris Airport-Le Bourget'\n",
    "\n",
    "paris = (48.85717,2.34293)\n",
    "airport_paris = (49.0083416197085,2.546575519708498)\n",
    "print(great_circle(paris, airport_paris).km)"
   ]
  },
  {
   "cell_type": "markdown",
   "metadata": {},
   "source": [
    "### 5 - SANTA MONICA"
   ]
  },
  {
   "cell_type": "code",
   "execution_count": 44,
   "metadata": {},
   "outputs": [
    {
     "data": {
      "text/plain": [
       "{'type': 'Point', 'coordinates': [-118.48319, 34.02401]}"
      ]
     },
     "execution_count": 44,
     "metadata": {},
     "output_type": "execute_result"
    }
   ],
   "source": [
    "sm = geocode(\"Santa Monica, CA, USA\")\n",
    "sm"
   ]
  },
  {
   "cell_type": "code",
   "execution_count": 45,
   "metadata": {},
   "outputs": [
    {
     "data": {
      "text/plain": [
       "<folium.map.Marker at 0x107e0ed10>"
      ]
     },
     "execution_count": 45,
     "metadata": {},
     "output_type": "execute_result"
    }
   ],
   "source": [
    "start_lat = 34.02401\n",
    "start_lon = -118.48319\n",
    "heat_m_sm = folium.Map(location=[start_lat, start_lon],tiles='cartodbpositron', zoom_start=15)\n",
    "Marker([start_lat, start_lon], icon=folium.Icon(color='black')).add_to(heat_m_sm)"
   ]
  },
  {
   "cell_type": "code",
   "execution_count": 46,
   "metadata": {},
   "outputs": [
    {
     "data": {
      "text/plain": [
       "<folium.map.FeatureGroup at 0x1071cc0d0>"
      ]
     },
     "execution_count": 46,
     "metadata": {},
     "output_type": "execute_result"
    }
   ],
   "source": [
    "companies = gdf\n",
    "companies_group = folium.FeatureGroup(name=\"Gaming Companies\")\n",
    "HeatMap(data=companies[['latitude', 'longitude']],radius=15).add_to(companies_group)\n",
    "companies_group.add_to(heat_m_sm)"
   ]
  },
  {
   "cell_type": "code",
   "execution_count": 118,
   "metadata": {
    "scrolled": false
   },
   "outputs": [
    {
     "name": "stderr",
     "output_type": "stream",
     "text": [
      "Python-dotenv could not parse statement starting at line 2\n"
     ]
    },
    {
     "name": "stdout",
     "output_type": "stream",
     "text": [
      "{'results': [{'address_components': [{'long_name': 'Santa Monica Airport', 'short_name': 'Santa Monica Airport', 'types': ['airport', 'establishment', 'point_of_interest']}, {'long_name': '3233', 'short_name': '3233', 'types': ['street_number']}, {'long_name': 'Donald Douglas Loop South', 'short_name': 'Donald Douglas Loop S', 'types': ['route']}, {'long_name': 'Sunset Park', 'short_name': 'Sunset Park', 'types': ['neighborhood', 'political']}, {'long_name': 'Santa Monica', 'short_name': 'Santa Monica', 'types': ['locality', 'political']}, {'long_name': 'Los Angeles County', 'short_name': 'Los Angeles County', 'types': ['administrative_area_level_2', 'political']}, {'long_name': 'California', 'short_name': 'CA', 'types': ['administrative_area_level_1', 'political']}, {'long_name': 'United States', 'short_name': 'US', 'types': ['country', 'political']}, {'long_name': '90405', 'short_name': '90405', 'types': ['postal_code']}], 'formatted_address': 'Santa Monica Airport, 3233 Donald Douglas Loop S, Santa Monica, CA 90405, USA', 'geometry': {'location': {'lat': 34.0178143, 'lng': -118.4473286}, 'location_type': 'ROOFTOP', 'viewport': {'northeast': {'lat': 34.01916328029149, 'lng': -118.4459796197085}, 'southwest': {'lat': 34.01646531970849, 'lng': -118.4486775802915}}}, 'place_id': 'ChIJx2ZxeAK7woARZkN_lFIxeCQ', 'plus_code': {'compound_code': '2H93+43 Santa Monica, California, United States', 'global_code': '85632H93+43'}, 'types': ['airport', 'establishment', 'point_of_interest']}], 'status': 'OK'}\n"
     ]
    }
   ],
   "source": [
    "load_dotenv()\n",
    "token = os.getenv(\"TOKEN_GOOGLE\")\n",
    "address='Santa Monica Airport'\n",
    "data = requests.get(f\"https://maps.googleapis.com/maps/api/geocode/json?address={address}&key={token}\").json()\n",
    "print(data)"
   ]
  },
  {
   "cell_type": "code",
   "execution_count": 57,
   "metadata": {},
   "outputs": [
    {
     "data": {
      "text/html": [
       "<div style=\"width:100%;\"><div style=\"position:relative;width:100%;height:0;padding-bottom:60%;\"><iframe src=\"data:text/html;charset=utf-8;base64,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\" style=\"position:absolute;width:100%;height:100%;left:0;top:0;border:none !important;\" allowfullscreen webkitallowfullscreen mozallowfullscreen></iframe></div></div>"
      ],
      "text/plain": [
       "<folium.folium.Map at 0x107e0e190>"
      ]
     },
     "execution_count": 57,
     "metadata": {},
     "output_type": "execute_result"
    }
   ],
   "source": [
    "airport_long, airport_lat = -118.4459796197085, 34.01916328029149\n",
    "heat_m_sm.add_child(Marker([airport_lat, airport_long], icon=folium.Icon(color='lightblue')))"
   ]
  },
  {
   "cell_type": "code",
   "execution_count": 58,
   "metadata": {},
   "outputs": [
    {
     "name": "stdout",
     "output_type": "stream",
     "text": [
      "3.471452095951666\n"
     ]
    }
   ],
   "source": [
    "#KM between airport & city\n",
    "sf = (34.02401,-118.48319) \n",
    "airport_sf = (34.01916328029149,-118.4459796197085) \n",
    "print(great_circle(sf, airport_sf).km)"
   ]
  },
  {
   "cell_type": "code",
   "execution_count": 120,
   "metadata": {
    "scrolled": false
   },
   "outputs": [
    {
     "name": "stderr",
     "output_type": "stream",
     "text": [
      "Python-dotenv could not parse statement starting at line 2\n"
     ]
    },
    {
     "name": "stdout",
     "output_type": "stream",
     "text": [
      "{'html_attributions': [], 'next_page_token': 'CrQCJgEAACQEGV3ausVHEQVSxLvqZ-SbHOZAka53xL5wCAavdtffIZtFaL9HabOGW-fmthstYqvY5yW3LHskaPG_cJ_iDdgsYK5HQnRMwkkxls3ovZMCmWTrhs7BllGuDgp0nZ3TwlEizb2QiemSREnU4PCUccuflngfrCfcZRfUvym5whm80PcOdfx7FxYhO4zMAQFIiQYrhvDrXQCqu1n2hsNhqeYILWc2iL7OFSR0jUtefZ1YjdUqIyykyGgKqlufgani1FyrdxuhAGjRR2tv0_jaqRL-x2cv0P6T3mXlv2Cj7TqaBWSnKxbcT3S8moHAizEMcrNlb182BvTV-INvydMy5IruaXQ9opt7jb8RNOTn9CZR8uEQ7zrMCB36dqLUvtJ0iOiYsuSh-GrV7Y5iiUug4pcSEB9Mh7YZizdQiIea8wUez4AaFHDFnUzjJCxaYvMRjdCzpQSM6p-v', 'results': [{'geometry': {'location': {'lat': 33.9725735, 'lng': -118.446297}, 'viewport': {'northeast': {'lat': 33.97392427989272, 'lng': -118.4448328701073}, 'southwest': {'lat': 33.97122462010727, 'lng': -118.4475325298928}}}, 'icon': 'https://maps.gstatic.com/mapfiles/place_api/icons/generic_business-71.png', 'id': '3234d76c175691d6ca26803a4403f26705199172', 'name': 'Hornblower Cruises and Events', 'opening_hours': {'open_now': False}, 'photos': [{'height': 430, 'html_attributions': ['<a href=\"https://maps.google.com/maps/contrib/113108729769401343277\">Hornblower Cruises - Marina Del Rey</a>'], 'photo_reference': 'CmRaAAAAHECx8rNdL13bgl6aTCbJeCn6QSpwTRvaNz5a6FEK7t4FM4jMz2hd2fOC6Nqrg6hLBoIgY2avOw1zaYfepCWDClXCcJZ__C9jDt0bNNuol8m-2NS7i9zOFidQWTlqh9f8EhBwM2wat-GDYbS72IiCy3aNGhTt0r_si1uGOB3e1z5glafapVwRog', 'width': 635}], 'place_id': 'ChIJ-wteGn-wwoARwA1jQiUsEyA', 'plus_code': {'compound_code': 'XHF3+2F Marina Del Rey, California, United States', 'global_code': '8553XHF3+2F'}, 'price_level': 3, 'rating': 4.4, 'reference': 'ChIJ-wteGn-wwoARwA1jQiUsEyA', 'scope': 'GOOGLE', 'types': ['travel_agency', 'point_of_interest', 'establishment'], 'user_ratings_total': 185, 'vicinity': '13755 Fiji Way, Marina Del Rey'}, {'geometry': {'location': {'lat': 33.97284399999999, 'lng': -118.445758}, 'viewport': {'northeast': {'lat': 33.97417912989273, 'lng': -118.4444081201073}, 'southwest': {'lat': 33.97147947010728, 'lng': -118.4471077798927}}}, 'icon': 'https://maps.gstatic.com/mapfiles/place_api/icons/generic_business-71.png', 'id': '4ecf7b5d49ba3dff42e091fc98e961508f2066f4', 'name': 'Tiki Mermaid', 'opening_hours': {'open_now': True}, 'photos': [{'height': 3024, 'html_attributions': ['<a href=\"https://maps.google.com/maps/contrib/103108963003419216026\">Nitesh Misra</a>'], 'photo_reference': 'CmRaAAAAf79XODRIkJYv_KU4MK4kUXvIsoFUUx86wy6_SiLejQxw9UljcaOvpBG4Ga1QDPIvA1lL97AU2FuDLoKKCec7TZrpkQKuO2XWH_xnmB9k09-ps7F21CCdch_59Idlyhj1EhCjFqs3RnugJYG95JI27h0eGhT1auhuuG6jzz_29hrY0RWm-3aL0g', 'width': 4032}], 'place_id': 'ChIJ-wteGn-wwoARaOP38zMNNHE', 'plus_code': {'compound_code': 'XHF3+4M Marina Del Rey, California, United States', 'global_code': '8553XHF3+4M'}, 'rating': 4.8, 'reference': 'ChIJ-wteGn-wwoARaOP38zMNNHE', 'scope': 'GOOGLE', 'types': ['travel_agency', 'point_of_interest', 'establishment'], 'user_ratings_total': 14, 'vicinity': '13755 Fiji Way D-5, Marina Del Rey'}, {'geometry': {'location': {'lat': 34.0140158, 'lng': -118.4963663}, 'viewport': {'northeast': {'lat': 34.01543457989273, 'lng': -118.4949296701073}, 'southwest': {'lat': 34.01273492010728, 'lng': -118.4976293298927}}}, 'icon': 'https://maps.gstatic.com/mapfiles/place_api/icons/generic_business-71.png', 'id': '01b1eff0d67877442cb4cd1c3999125fc6d2552d', 'name': 'Santa Monica Cruise Tour & Travel Center', 'opening_hours': {'open_now': False}, 'photos': [{'height': 1080, 'html_attributions': ['<a href=\"https://maps.google.com/maps/contrib/101414482886684900509\">Ibrahim AlZabin</a>'], 'photo_reference': 'CmRaAAAAG5ibGK0ZpF_PB3mhUK8tJBxkY0pnhMEZ3CZbVVtG-9OtiKReKTDTjw7JUunkO3wjSNirXPAfkbDx5pb93TBjdt23atIebOEV4QsDR1-Cftfsuc_MK5CelHnyvUs-whWQEhA3OwDGHAgiqwQmVmdqTBnUGhT4E61w7Z7X3umZKE_Zkh8VvTDMzg', 'width': 1920}], 'place_id': 'ChIJN09HPNCkwoARMPnMOtX8Cgg', 'plus_code': {'compound_code': '2G73+JF Santa Monica, California, United States', 'global_code': '85632G73+JF'}, 'rating': 4.6, 'reference': 'ChIJN09HPNCkwoARMPnMOtX8Cgg', 'scope': 'GOOGLE', 'types': ['travel_agency', 'point_of_interest', 'establishment'], 'user_ratings_total': 7, 'vicinity': '1434 2nd St, Santa Monica'}, {'geometry': {'location': {'lat': 33.9739038, 'lng': -118.4465617}, 'viewport': {'northeast': {'lat': 33.97525072989272, 'lng': -118.4450860701073}, 'southwest': {'lat': 33.97255107010728, 'lng': -118.4477857298927}}}, 'icon': 'https://maps.gstatic.com/mapfiles/place_api/icons/generic_business-71.png', 'id': '11b258f6766467a626da44e7d27422d62a4fcfdf', 'name': 'Blue Moon Dolphin Cruise', 'opening_hours': {'open_now': False}, 'photos': [{'height': 640, 'html_attributions': ['<a href=\"https://maps.google.com/maps/contrib/109151787232198270709\">A Google User</a>'], 'photo_reference': 'CmRaAAAA1MoaiO1vM5IT1aw4lYlVT9WNp47t0c7I6F3e9-XzQsD1WU8PvYyMjV5aLlQqrakDD59F6KfIu-gnNIlinyVt1ZP6ZQ8z9PuvTtWEUkZs-qiuL4EWun95o46WxGA7ttxhEhClDAZTpFpTNzA44TSU7k18GhTymcaFJTcJ6WQbtOpyzF99jKNchQ', 'width': 1280}], 'place_id': 'ChIJmT3Cf-qxwoARE8UOVzIxE3M', 'plus_code': {'compound_code': 'XHF3+H9 Marina Del Rey, California, United States', 'global_code': '8553XHF3+H9'}, 'rating': 5, 'reference': 'ChIJmT3Cf-qxwoARE8UOVzIxE3M', 'scope': 'GOOGLE', 'types': ['travel_agency', 'point_of_interest', 'establishment'], 'user_ratings_total': 8, 'vicinity': '13701 Fiji Way, Marina Del Rey'}, {'geometry': {'location': {'lat': 34.0075789, 'lng': -118.4869211}, 'viewport': {'northeast': {'lat': 34.00897012989272, 'lng': -118.4855107201073}, 'southwest': {'lat': 34.00627047010728, 'lng': -118.4882103798927}}}, 'icon': 'https://maps.gstatic.com/mapfiles/place_api/icons/generic_business-71.png', 'id': '3f892821ae19e92f8b5c985399df39b041e87e3a', 'name': 'Royal Caribbean Cruise Reservations', 'opening_hours': {'open_now': False}, 'photos': [{'height': 720, 'html_attributions': ['<a href=\"https://maps.google.com/maps/contrib/105584994684130286582\">A Google User</a>'], 'photo_reference': 'CmRaAAAANXFtk5Q87-GXALQXBcsJjM-CquBd-wc4a3q5YDjtyCWD7P_4pEEYQ_ThL4wHzrjHA-NCrzp3fp72T_W4bZGRiIfOJp9wmriHNxjqj-PeRxgVRU1j3LGmg6XW9iDIM0XjEhAx8G6ijTHkvFXytTZ2f76EGhQRpReebbtTeRZgiOeuMr8GHUpHxQ', 'width': 1080}], 'place_id': 'ChIJuyC0UdWkwoARQDL1Z5wywuA', 'plus_code': {'compound_code': '2G57+26 Santa Monica, California, United States', 'global_code': '85632G57+26'}, 'rating': 4, 'reference': 'ChIJuyC0UdWkwoARQDL1Z5wywuA', 'scope': 'GOOGLE', 'types': ['travel_agency', 'point_of_interest', 'establishment'], 'user_ratings_total': 3, 'vicinity': '2024 3rd St #A, Santa Monica'}, {'geometry': {'location': {'lat': 34.038395, 'lng': -118.44204}, 'viewport': {'northeast': {'lat': 34.03952717989272, 'lng': -118.4405055701073}, 'southwest': {'lat': 34.03682752010727, 'lng': -118.4432052298927}}}, 'icon': 'https://maps.gstatic.com/mapfiles/place_api/icons/generic_business-71.png', 'id': '9e327aabfe2cd4e50d40076db8438097b9111b65', 'name': 'Cruise One', 'place_id': 'ChIJYdeoxwq7woARbm_vPnqoLW4', 'plus_code': {'compound_code': '2HQ5+95 Los Angeles, California, United States', 'global_code': '85632HQ5+95'}, 'rating': 5, 'reference': 'ChIJYdeoxwq7woARbm_vPnqoLW4', 'scope': 'GOOGLE', 'types': ['travel_agency', 'point_of_interest', 'establishment'], 'user_ratings_total': 1, 'vicinity': '11301 W Olympic Blvd # 533, Los Angeles'}, {'geometry': {'location': {'lat': 33.9941266, 'lng': -118.388941}, 'viewport': {'northeast': {'lat': 33.99548572989272, 'lng': -118.3875314701073}, 'southwest': {'lat': 33.99278607010728, 'lng': -118.3902311298927}}}, 'icon': 'https://maps.gstatic.com/mapfiles/place_api/icons/generic_business-71.png', 'id': '80104624d1809dd890dfbb11905856827a567c23', 'name': 'Cruise With US', 'place_id': 'ChIJyXCf7v65woARe51EPTk4Ie8', 'plus_code': {'compound_code': 'XJV6+MC Culver City, California, United States', 'global_code': '8553XJV6+MC'}, 'rating': 0, 'reference': 'ChIJyXCf7v65woARe51EPTk4Ie8', 'scope': 'GOOGLE', 'types': ['travel_agency', 'point_of_interest', 'establishment'], 'user_ratings_total': 0, 'vicinity': '11260 Overland Ave # 20E, Culver City'}, {'geometry': {'location': {'lat': 34.091178, 'lng': -118.391715}, 'viewport': {'northeast': {'lat': 34.09252882989273, 'lng': -118.3902434701073}, 'southwest': {'lat': 34.08982917010728, 'lng': -118.3929431298927}}}, 'icon': 'https://maps.gstatic.com/mapfiles/place_api/icons/generic_business-71.png', 'id': 'd1f1e204be57d88201e0e1849ec499183a23cece', 'name': 'Cruise Guys Beverly Hills', 'place_id': 'ChIJteroFKC-woARKULSrcBPJgQ', 'plus_code': {'compound_code': '3JR5+F8 Los Angeles, California, United States', 'global_code': '85633JR5+F8'}, 'rating': 0, 'reference': 'ChIJteroFKC-woARKULSrcBPJgQ', 'scope': 'GOOGLE', 'types': ['travel_agency', 'point_of_interest', 'establishment'], 'user_ratings_total': 0, 'vicinity': '1115 Cory Ave, Los Angeles'}, {'geometry': {'location': {'lat': 33.9548419, 'lng': -118.3968049}, 'viewport': {'northeast': {'lat': 33.95619322989272, 'lng': -118.3952054201073}, 'southwest': {'lat': 33.95349357010728, 'lng': -118.3979050798927}}}, 'icon': 'https://maps.gstatic.com/mapfiles/place_api/icons/generic_business-71.png', 'id': 'affff4f74364a2a45fd2fab06dfa9ca5f9aedea6', 'name': 'River Cruises Of Europe', 'place_id': 'ChIJezbzsNOwwoARWu1iB93A224', 'plus_code': {'compound_code': 'XJ33+W7 Los Angeles, California, United States', 'global_code': '8553XJ33+W7'}, 'rating': 0, 'reference': 'ChIJezbzsNOwwoARWu1iB93A224', 'scope': 'GOOGLE', 'types': ['travel_agency', 'point_of_interest', 'establishment'], 'user_ratings_total': 0, 'vicinity': '8939 S Sepulveda Blvd #110-774, Los Angeles'}, {'geometry': {'location': {'lat': 34.0360665, 'lng': -118.4714781}, 'viewport': {'northeast': {'lat': 34.03730477989272, 'lng': -118.4699942201073}, 'southwest': {'lat': 34.03460512010728, 'lng': -118.4726938798927}}}, 'icon': 'https://maps.gstatic.com/mapfiles/place_api/icons/generic_business-71.png', 'id': '92c3a746d6e623140bfe94545f2535741c844ab6', 'name': 'Royal Caribbean Reservations', 'place_id': 'ChIJV1Ydj0a7woARa2EblzsXkLU', 'plus_code': {'compound_code': '2GPH+CC Santa Monica, California, United States', 'global_code': '85632GPH+CC'}, 'rating': 0, 'reference': 'ChIJV1Ydj0a7woARa2EblzsXkLU', 'scope': 'GOOGLE', 'types': ['travel_agency', 'point_of_interest', 'establishment'], 'user_ratings_total': 0, 'vicinity': '2907 Santa Monica Blvd, Santa Monica'}, {'geometry': {'location': {'lat': 34.09031179999999, 'lng': -118.3930388}, 'viewport': {'northeast': {'lat': 34.09160457989272, 'lng': -118.3916387201073}, 'southwest': {'lat': 34.08890492010728, 'lng': -118.3943383798927}}}, 'icon': 'https://maps.gstatic.com/mapfiles/place_api/icons/generic_business-71.png', 'id': '6e89489e7d2079cbf3b05641d4f10e17bd815f42', 'name': 'Imagine Incentives', 'opening_hours': {'open_now': False}, 'photos': [{'height': 299, 'html_attributions': ['<a href=\"https://maps.google.com/maps/contrib/107499182386063806890\">A Google User</a>'], 'photo_reference': 'CmRaAAAAFLlvIVI3ctyreBsR-qzhAjSQqAMO6YtH4XYHcV-RHzuRSXRPPO7Vu86XZ96hNgZcisyDCyFJz70woAYt1Wm1rJl8YrZHC2gmSTtg1X_9vPiaq77rxj-WAKNVkRyIIBULEhAXC4U-AAyDIOHGUhrnAdR5GhRgWEbbsiWdRh3jzG7gZIxJueBXdw', 'width': 711}], 'place_id': 'ChIJhfOQxzDk3IAR99bCT8ZGFPQ', 'plus_code': {'compound_code': '3JR4+4Q Los Angeles, California, United States', 'global_code': '85633JR4+4Q'}, 'rating': 5, 'reference': 'ChIJhfOQxzDk3IAR99bCT8ZGFPQ', 'scope': 'GOOGLE', 'types': ['travel_agency', 'point_of_interest', 'establishment'], 'user_ratings_total': 1, 'vicinity': '9229 Sunset Blvd #501, Los Angeles'}, {'geometry': {'location': {'lat': 33.9833085, 'lng': -118.4461324}, 'viewport': {'northeast': {'lat': 33.98466652989272, 'lng': -118.4448257201073}, 'southwest': {'lat': 33.98196687010728, 'lng': -118.4475253798927}}}, 'icon': 'https://maps.gstatic.com/mapfiles/place_api/icons/generic_business-71.png', 'id': 'a3704033fb5ff1362f2f3cf8023847c4888234f9', 'name': 'Golden Coast Charters, LLC.', 'place_id': 'ChIJazknbb2jwoAR83Muzq__14w', 'plus_code': {'compound_code': 'XHM3+8G Marina Del Rey, California, United States', 'global_code': '8553XHM3+8G'}, 'rating': 0, 'reference': 'ChIJazknbb2jwoAR83Muzq__14w', 'scope': 'GOOGLE', 'types': ['travel_agency', 'point_of_interest', 'establishment'], 'user_ratings_total': 0, 'vicinity': '4469 Admiralty Way, Marina Del Rey'}, {'geometry': {'location': {'lat': 34.062707, 'lng': -118.398825}, 'viewport': {'northeast': {'lat': 34.06405717989272, 'lng': -118.3973924701073}, 'southwest': {'lat': 34.06135752010728, 'lng': -118.4000921298927}}}, 'icon': 'https://maps.gstatic.com/mapfiles/place_api/icons/generic_business-71.png', 'id': '32d7500d52ec08c541f9459a814162f6aff34ebb', 'name': 'Concord Travel', 'opening_hours': {'open_now': False}, 'place_id': 'ChIJTaj5O_m7woAROxmxZ0yT3FU', 'plus_code': {'compound_code': '3J72+3F Beverly Hills, California, United States', 'global_code': '85633J72+3F'}, 'rating': 5, 'reference': 'ChIJTaj5O_m7woAROxmxZ0yT3FU', 'scope': 'GOOGLE', 'types': ['travel_agency', 'point_of_interest', 'establishment'], 'user_ratings_total': 2, 'vicinity': '260 S Beverly Dr # 360, Beverly Hills'}, {'geometry': {'location': {'lat': 34.0592083, 'lng': -118.3978941}, 'viewport': {'northeast': {'lat': 34.06049157989272, 'lng': -118.3966791201073}, 'southwest': {'lat': 34.05779192010728, 'lng': -118.3993787798927}}}, 'icon': 'https://maps.gstatic.com/mapfiles/place_api/icons/generic_business-71.png', 'id': '646260f7dbad6009bc0fa98b3cb8462235ce1aa6', 'name': 'Blisscape Travel', 'photos': [{'height': 478, 'html_attributions': ['<a href=\"https://maps.google.com/maps/contrib/116999050834167447977\">A Google User</a>'], 'photo_reference': 'CmRaAAAAu4qdTW3k2dBaQ-zUqod7MEIwA6V_SJLNDL68SMDmFSUuypepc3PSYnAbxrM72AQ9RjFDUAjZgBJ_9VjCNZxYPiONfeCz6xs7zhpOQQXGYBycx9Sp54R7EltSKxTE2zqHEhAftMO2IbolklOmucEan8xcGhSbtX0XLskKDlZWijeUQXL9-60yjQ', 'width': 851}], 'place_id': 'ChIJyR5s_ES7woARCRlxw-WOavU', 'plus_code': {'compound_code': '3J52+MR Beverly Hills, California, United States', 'global_code': '85633J52+MR'}, 'rating': 0, 'reference': 'ChIJyR5s_ES7woARCRlxw-WOavU', 'scope': 'GOOGLE', 'types': ['travel_agency', 'point_of_interest', 'establishment'], 'user_ratings_total': 0, 'vicinity': '400 S Beverly Dr #200, Beverly Hills'}, {'geometry': {'location': {'lat': 34.0513424, 'lng': -118.4379962}, 'viewport': {'northeast': {'lat': 34.05262342989272, 'lng': -118.4367638201073}, 'southwest': {'lat': 34.04992377010727, 'lng': -118.4394634798928}}}, 'icon': 'https://maps.gstatic.com/mapfiles/place_api/icons/generic_business-71.png', 'id': 'db3554e4d4dfaf478bf8d1f9599f70cd435f1c6e', 'name': 'PNR & ABC American Express Travel', 'opening_hours': {'open_now': False}, 'photos': [{'height': 300, 'html_attributions': ['<a href=\"https://maps.google.com/maps/contrib/115180262919964912198\">PNR &amp; ABC American Express Travel</a>'], 'photo_reference': 'CmRaAAAAeo9W1Bw2ZNfEJoiaY6ZEE_uYhT7UrBCo2LeOE27k8wZ3ebaUGwJA8fryt6tOLUnbTxXX5qPpyro0ZQy0WtQY5h3tQdUkq7fPAIR_Dx2YwoE2pXgZ0jRUIUc4I0iFaVJvEhAII_kG-kSq8S0SCsr_CNNzGhRTK0IKHyMNTJVk9BVz1YFwoyCBuA', 'width': 400}], 'place_id': 'ChIJ20sZwIK7woAR2g-3Zw8z3TE', 'plus_code': {'compound_code': '3H26+GR Los Angeles, California, United States', 'global_code': '85633H26+GR'}, 'rating': 0, 'reference': 'ChIJ20sZwIK7woAR2g-3Zw8z3TE', 'scope': 'GOOGLE', 'types': ['travel_agency', 'point_of_interest', 'establishment'], 'user_ratings_total': 0, 'vicinity': '1726 Westwood Blvd, Los Angeles'}, {'geometry': {'location': {'lat': 34.0661724, 'lng': -118.3993554}, 'viewport': {'northeast': {'lat': 34.06752022989272, 'lng': -118.3978805701072}, 'southwest': {'lat': 34.06482057010728, 'lng': -118.4005802298927}}}, 'icon': 'https://maps.gstatic.com/mapfiles/place_api/icons/generic_business-71.png', 'id': '6376aa7b5f55d18c71e7be8b0a1ce376f2b2078c', 'name': 'Travelcorps', 'place_id': 'ChIJj2mj3AO7woARE5eMXKMHA8Q', 'plus_code': {'compound_code': '3J82+F7 Beverly Hills, California, United States', 'global_code': '85633J82+F7'}, 'rating': 0, 'reference': 'ChIJj2mj3AO7woARE5eMXKMHA8Q', 'scope': 'GOOGLE', 'types': ['travel_agency', 'point_of_interest', 'establishment'], 'user_ratings_total': 0, 'vicinity': '139 S Beverly Dr #236, Beverly Hills'}, {'geometry': {'location': {'lat': 34.0270738, 'lng': -118.5017374}, 'viewport': {'northeast': {'lat': 34.02837797989272, 'lng': -118.5003342201073}, 'southwest': {'lat': 34.02567832010727, 'lng': -118.5030338798927}}}, 'icon': 'https://maps.gstatic.com/mapfiles/place_api/icons/generic_business-71.png', 'id': '06bfb6164766fa0fafdc70ab1c454fb8fd4e527a', 'name': \"Let's Travel\", 'place_id': 'ChIJ16nhEbmkwoARJ0NAp5Z8_Vc', 'plus_code': {'compound_code': '2FGX+R8 Santa Monica, California, United States', 'global_code': '85632FGX+R8'}, 'rating': 4, 'reference': 'ChIJ16nhEbmkwoARJ0NAp5Z8_Vc', 'scope': 'GOOGLE', 'types': ['travel_agency', 'point_of_interest', 'establishment'], 'user_ratings_total': 3, 'vicinity': '711 Montana Ave # A, Santa Monica'}, {'geometry': {'location': {'lat': 33.9715528, 'lng': -118.4495996}, 'viewport': {'northeast': {'lat': 33.97288737989273, 'lng': -118.4484694701073}, 'southwest': {'lat': 33.97018772010728, 'lng': -118.4511691298927}}}, 'icon': 'https://maps.gstatic.com/mapfiles/place_api/icons/generic_business-71.png', 'id': '7f0e8a02684e7d376077b890827a33b6405fe896', 'name': 'The Legend Yacht Charter Service - Marina del Rey', 'opening_hours': {'open_now': True}, 'photos': [{'height': 1633, 'html_attributions': ['<a href=\"https://maps.google.com/maps/contrib/107043102865452828241\">A Google User</a>'], 'photo_reference': 'CmRaAAAA02ESgBmlHGRc5x1J7QyEnFudb2LUSnQdGjxXeBH1lo3yzOwqZZlZeOCaugfU0RSSfdV17UFKlcqrBAQ-CdzegvYCrJJnxKuPfJYAe4AeUs6JsrK-78C5fCRRwmio4NsJEhBWV30A9_hccC2_y_Ztp-rdGhSimV3QOxGrSUulylx3KE41rOqUtA', 'width': 2448}], 'place_id': 'ChIJPyeytzaxwoARhHA8aq4YKvM', 'plus_code': {'compound_code': 'XHC2+J5 Marina Del Rey, California, United States', 'global_code': '8553XHC2+J5'}, 'rating': 5, 'reference': 'ChIJPyeytzaxwoARhHA8aq4YKvM', 'scope': 'GOOGLE', 'types': ['travel_agency', 'point_of_interest', 'establishment'], 'user_ratings_total': 30, 'vicinity': '13800 Bora Bora Way, Marina Del Rey'}, {'geometry': {'location': {'lat': 34.0489339, 'lng': -118.4621493}, 'viewport': {'northeast': {'lat': 34.05015312989272, 'lng': -118.4606441201073}, 'southwest': {'lat': 34.04745347010728, 'lng': -118.4633437798927}}}, 'icon': 'https://maps.gstatic.com/mapfiles/place_api/icons/generic_business-71.png', 'id': '7f86ea82ea37b9396d8f6186e25dd947439c9640', 'name': 'Crystal Cruises, LLC.', 'opening_hours': {'open_now': False}, 'photos': [{'height': 2841, 'html_attributions': ['<a href=\"https://maps.google.com/maps/contrib/100815657701406643567\">Claudio Ritossa</a>'], 'photo_reference': 'CmRaAAAAQa1Wp_kvDjCI7YuOtnnUSLvwqTfF645iJ_2l2EmfRXlqjYOLXmFN1Gxa33y-jcS8F3EV3AghfriJG1XJoHbCqm8VOMqpq6mS1gWlXN2w5_DAtiZiZpp19AOl1Yr_OKopEhBxPOOn03zkaaqHJ0VrnH0HGhS1DbvSQhUxtuJWdlxqy75UsXijZA', 'width': 4261}], 'place_id': 'ChIJRzIWVPK7woAR81yEpKrh4_Y', 'plus_code': {'compound_code': '2GXQ+H4 Los Angeles, California, United States', 'global_code': '85632GXQ+H4'}, 'rating': 4, 'reference': 'ChIJRzIWVPK7woAR81yEpKrh4_Y', 'scope': 'GOOGLE', 'types': ['point_of_interest', 'establishment'], 'user_ratings_total': 8, 'vicinity': '11755 Wilshire Blvd #900, Los Angeles'}, {'geometry': {'location': {'lat': 33.9731663, 'lng': -118.4563305}, 'viewport': {'northeast': {'lat': 33.97461102989272, 'lng': -118.4549669701073}, 'southwest': {'lat': 33.97191137010728, 'lng': -118.4576666298927}}}, 'icon': 'https://maps.gstatic.com/mapfiles/place_api/icons/generic_business-71.png', 'id': 'dcb0000c218d09ed679dc64d1e12a6cc6c1202a9', 'name': 'The Duchess Yacht Charter Service', 'opening_hours': {'open_now': False}, 'photos': [{'height': 2000, 'html_attributions': ['<a href=\"https://maps.google.com/maps/contrib/116794388450280925607\">The Duchess Yacht Charter Service</a>'], 'photo_reference': 'CmRaAAAAu-OVya1T2Asp9X16gf64MR3uG_EYzHqxkFwLzCZazKOGz6ys5X2bOqwXPu4Wb6wsrwk2Rb4EUBpTVzTjAUdusZQ659VTfx7So6ENukXdbLDtBCpd6gNxiTsAihS5m_hIEhDMYsCTeHU1YPyIT7VEKjoTGhQFR8CTxPwfUBLqFOtQnLRr8Gq04g', 'width': 2998}], 'place_id': 'ChIJH-i_O4G6woARXtxNmjHiFsY', 'plus_code': {'compound_code': 'XGFV+7F Marina Del Rey, California, United States', 'global_code': '8553XGFV+7F'}, 'rating': 4.9, 'reference': 'ChIJH-i_O4G6woARXtxNmjHiFsY', 'scope': 'GOOGLE', 'types': ['travel_agency', 'point_of_interest', 'establishment'], 'user_ratings_total': 66, 'vicinity': '14120 Tahiti Way, Marina Del Rey'}], 'status': 'OK'}\n"
     ]
    }
   ],
   "source": [
    "load_dotenv()\n",
    "token = os.getenv(\"TOKEN_GOOGLE\")\n",
    "location=\"34.02401,-118.48319\"\n",
    "site='nursery'\n",
    "data=requests.get(f\"https://maps.googleapis.com/maps/api/place/nearbysearch/json?location={location}&radius=10000&type={site}&keyword=cruise&key={token}\").json()\n",
    "print(data)"
   ]
  },
  {
   "cell_type": "code",
   "execution_count": null,
   "metadata": {},
   "outputs": [],
   "source": []
  }
 ],
 "metadata": {
  "kernelspec": {
   "display_name": "Python 3",
   "language": "python",
   "name": "python3"
  },
  "language_info": {
   "codemirror_mode": {
    "name": "ipython",
    "version": 3
   },
   "file_extension": ".py",
   "mimetype": "text/x-python",
   "name": "python",
   "nbconvert_exporter": "python",
   "pygments_lexer": "ipython3",
   "version": "3.7.6"
  }
 },
 "nbformat": 4,
 "nbformat_minor": 4
}
