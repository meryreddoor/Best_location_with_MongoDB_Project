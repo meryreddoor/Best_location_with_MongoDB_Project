{
 "cells": [
  {
   "cell_type": "markdown",
   "metadata": {},
   "source": [
    "# BEST CITY TO ALLOCATE A GAMING COMPANY"
   ]
  },
  {
   "cell_type": "markdown",
   "metadata": {},
   "source": [
    "## Libraries"
   ]
  },
  {
   "cell_type": "code",
   "execution_count": 1,
   "metadata": {},
   "outputs": [],
   "source": [
    "import pandas as pd\n",
    "import numpy as np\n",
    "import requests\n",
    "from pymongo import MongoClient\n",
    "import math\n",
    "import matplotlib.pyplot as plt"
   ]
  },
  {
   "cell_type": "markdown",
   "metadata": {},
   "source": [
    "## MongoDB"
   ]
  },
  {
   "cell_type": "code",
   "execution_count": 2,
   "metadata": {},
   "outputs": [],
   "source": [
    "#Importing companies.json from mongodb.\n",
    "client = MongoClient(\"mongodb://localhost/companies\")\n",
    "db = client.get_database()"
   ]
  },
  {
   "cell_type": "code",
   "execution_count": 29,
   "metadata": {
    "scrolled": false
   },
   "outputs": [],
   "source": [
    "#Importing information about companies from MongoDB.\n",
    "query={\"$and\":[{\"category_code\":{\"$eq\":\"games_video\"}},{\"number_of_employees\":{\"$gte\":10}}]}\n",
    "list_companies=list(db['companies'].find((query),{\"category_code\":1,'number_of_employees':1,'name':1,\"total_money_raised\":1,\"offices\":1,'_id':0}).sort(\"number_of_employees\",-1))"
   ]
  },
  {
   "cell_type": "code",
   "execution_count": 30,
   "metadata": {
    "scrolled": false
   },
   "outputs": [],
   "source": [
    "#Converting the info into 'pandas'\n",
    "df = pd.DataFrame(list_companies)"
   ]
  },
  {
   "cell_type": "code",
   "execution_count": 31,
   "metadata": {},
   "outputs": [],
   "source": [
    "#Removing duplicates.\n",
    "df = df.drop_duplicates(subset='name', keep='first')"
   ]
  },
  {
   "cell_type": "code",
   "execution_count": 32,
   "metadata": {},
   "outputs": [],
   "source": [
    "#Removing the lists from column \n",
    "df = df.explode('offices')"
   ]
  },
  {
   "cell_type": "code",
   "execution_count": 33,
   "metadata": {},
   "outputs": [],
   "source": [
    "exapand_office_column = df[[\"offices\"]].apply(lambda r: r.offices, result_type=\"expand\", axis=1)"
   ]
  },
  {
   "cell_type": "code",
   "execution_count": 34,
   "metadata": {},
   "outputs": [],
   "source": [
    "data_expanded = pd.concat([df,exapand_office_column], axis=1)"
   ]
  },
  {
   "cell_type": "code",
   "execution_count": 35,
   "metadata": {},
   "outputs": [],
   "source": [
    "#Removing old column with lists.\n",
    "df_companies = data_expanded.drop(columns=[\"offices\"])"
   ]
  },
  {
   "cell_type": "code",
   "execution_count": 36,
   "metadata": {},
   "outputs": [
    {
     "data": {
      "image/png": "[encoded data removed]",
      "text/plain": [
       "<Figure size 2160x360 with 1 Axes>"
      ]
     },
     "metadata": {
      "needs_background": "light"
     },
     "output_type": "display_data"
    }
   ],
   "source": [
    "#TOP5 cities where there are more companies with 'category code' = 'video_games'\n",
    "\n",
    "graph_df=df_companies[['city','name']]\n",
    "graphic= graph_df.groupby('city').count().sort_values('name',ascending = False).head()\n",
    "\n",
    "graphic.plot.bar(figsize=(30,5));\n",
    "plt.legend([\"Total amount company/city\"])\n",
    "plt.title(\"TOP 5 - Number of gaming companies by city\")\n",
    "plt.xlabel(\"Cities\")\n",
    "plt.ylabel(\"Number of companies\");"
   ]
  },
  {
   "cell_type": "markdown",
   "metadata": {},
   "source": [
    "# API from geocode"
   ]
  },
  {
   "cell_type": "markdown",
   "metadata": {},
   "source": [
    "it will be used the API from geocode in order to extract the coordenates for the TOP5 cities mentioned above."
   ]
  },
  {
   "cell_type": "code",
   "execution_count": 37,
   "metadata": {},
   "outputs": [
    {
     "data": {
      "text/plain": [
       "{'type': 'Point', 'coordinates': [-15.41914, 27.99493]}"
      ]
     },
     "execution_count": 37,
     "metadata": {},
     "output_type": "execute_result"
    }
   ],
   "source": [
    "#COORDENATES FOR SAN FRANCISCO\n",
    "\n",
    "def geocode(address):\n",
    "    data = requests.get(f\"https://geocode.xyz/{address}?json=1\").json()\n",
    "    return {\n",
    "        \"type\":\"Point\",\n",
    "        \"coordinates\":[float(data[\"longt\"]),float(data[\"latt\"])]\n",
    "    }\n",
    "\n",
    "sf = geocode(\"San Francisco\")\n",
    "sf"
   ]
  },
  {
   "cell_type": "code",
   "execution_count": 38,
   "metadata": {},
   "outputs": [
    {
     "data": {
      "text/plain": [
       "{'type': 'Point', 'coordinates': [-73.9586, 40.68908]}"
      ]
     },
     "execution_count": 38,
     "metadata": {},
     "output_type": "execute_result"
    }
   ],
   "source": [
    "#COORDENATES FOR NEW YORK\n",
    "\n",
    "def geocode(address):\n",
    "    data = requests.get(f\"https://geocode.xyz/{address}?json=1\").json()\n",
    "    return {\n",
    "        \"type\":\"Point\",\n",
    "        \"coordinates\":[float(data[\"longt\"]),float(data[\"latt\"])]\n",
    "    }\n",
    "\n",
    "ny = geocode(\"New York\")\n",
    "ny"
   ]
  },
  {
   "cell_type": "code",
   "execution_count": 39,
   "metadata": {},
   "outputs": [
    {
     "data": {
      "text/plain": [
       "{'type': 'Point', 'coordinates': [-118.29757, 34.04015]}"
      ]
     },
     "execution_count": 39,
     "metadata": {},
     "output_type": "execute_result"
    }
   ],
   "source": [
    "#COORDENATES FOR LOS ANGELES\n",
    "\n",
    "def geocode(address):\n",
    "    data = requests.get(f\"https://geocode.xyz/{address}?json=1\").json()\n",
    "    return {\n",
    "        \"type\":\"Point\",\n",
    "        \"coordinates\":[float(data[\"longt\"]),float(data[\"latt\"])]\n",
    "    }\n",
    "\n",
    "la = geocode(\"Los Angeles\")\n",
    "la"
   ]
  },
  {
   "cell_type": "code",
   "execution_count": 40,
   "metadata": {},
   "outputs": [
    {
     "data": {
      "text/plain": [
       "{'type': 'Point', 'coordinates': [2.34293, 48.85717]}"
      ]
     },
     "execution_count": 40,
     "metadata": {},
     "output_type": "execute_result"
    }
   ],
   "source": [
    "#COORDENATES FOR PARIS\n",
    "\n",
    "def geocode(address):\n",
    "    data = requests.get(f\"https://geocode.xyz/{address}?json=1\").json()\n",
    "    return {\n",
    "        \"type\":\"Point\",\n",
    "        \"coordinates\":[float(data[\"longt\"]),float(data[\"latt\"])]\n",
    "    }\n",
    "\n",
    "paris = geocode(\"Paris\")\n",
    "paris"
   ]
  },
  {
   "cell_type": "code",
   "execution_count": 41,
   "metadata": {},
   "outputs": [
    {
     "data": {
      "text/plain": [
       "{'type': 'Point', 'coordinates': [-0.11362, 51.51768]}"
      ]
     },
     "execution_count": 41,
     "metadata": {},
     "output_type": "execute_result"
    }
   ],
   "source": [
    "#COORDENATES FOR LONDON\n",
    "\n",
    "def geocode(address):\n",
    "    data = requests.get(f\"https://geocode.xyz/{address}?json=1\").json()\n",
    "    return {\n",
    "        \"type\":\"Point\",\n",
    "        \"coordinates\":[float(data[\"longt\"]),float(data[\"latt\"])]\n",
    "    }\n",
    "\n",
    "london = geocode(\"London\")\n",
    "london"
   ]
  },
  {
   "cell_type": "code",
   "execution_count": null,
   "metadata": {},
   "outputs": [],
   "source": []
  },
  {
   "cell_type": "code",
   "execution_count": null,
   "metadata": {},
   "outputs": [],
   "source": []
  },
  {
   "cell_type": "code",
   "execution_count": null,
   "metadata": {},
   "outputs": [],
   "source": []
  }
 ],
 "metadata": {
  "kernelspec": {
   "display_name": "Python 3",
   "language": "python",
   "name": "python3"
  },
  "language_info": {
   "codemirror_mode": {
    "name": "ipython",
    "version": 3
   },
   "file_extension": ".py",
   "mimetype": "text/x-python",
   "name": "python",
   "nbconvert_exporter": "python",
   "pygments_lexer": "ipython3",
   "version": "3.7.6"
  }
 },
 "nbformat": 4,
 "nbformat_minor": 4
}
